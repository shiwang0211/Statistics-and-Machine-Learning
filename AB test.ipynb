{
 "cells": [
  {
   "cell_type": "markdown",
   "metadata": {},
   "source": [
    "# Independent Sample t-Test and A/B Test"
   ]
  },
  {
   "cell_type": "markdown",
   "metadata": {},
   "source": [
    "## Theory"
   ]
  },
  {
   "cell_type": "markdown",
   "metadata": {},
   "source": [
    "**Assumptions**:\n",
    "1. X and Y are independent\n",
    "1. X and Y have same variance $\\sigma^2$\n",
    "1. X and Y from normal distribution, respectively\n",
    "\n",
    "\n"
   ]
  },
  {
   "cell_type": "markdown",
   "metadata": {},
   "source": [
    "**(*)Test Statistic Under Un-equal Variance**\n",
    "$$T=\\dfrac{(\\bar{X}-\\bar{Y})-(\\mu_X-\\mu_Y)}{\\sqrt{\\dfrac{S^2_X}{N_X}+\\dfrac{S^2_Y}{N_Y}}} \\sim t\\ (df)$$\n",
    "\n",
    "$$df=\\dfrac{\\left(\\dfrac{s^2_X}{N_Y}+\\dfrac{s^2_Y}{N_Y}\\right)^2}{\\dfrac{(s^2_X/N_X)^2}{N_X-1}+\\dfrac{(s^2_Y/N_Y)^2}{N_Y-1}}$$\n"
   ]
  },
  {
   "cell_type": "markdown",
   "metadata": {},
   "source": [
    "**Test Statistic Under Equal Variance**\n",
    "- Under Normal Distribution (***Independent Sample T-test***):\n",
    "\n",
    "    $$\\hat \\sigma_X = S_X,\\hat \\sigma_Y = S_Y $$\n",
    "    \n",
    "$$T = \\frac{(\\bar X - \\bar Y) - (\\mu_X - \\mu_Y)}{\\hat \\sigma _{\\bar X - \\bar Y}} \\sim \\ t\\ (df=N_X+N_Y-2)$$\n",
    "\n",
    "$$\\hat \\sigma _{\\bar X - \\bar Y} = {s_{\\bar X - \\bar Y}} = s_p\\sqrt{\\frac{1}{N_X}+\\frac{1}{N_Y}} \\xrightarrow{N_X = N_Y}  s_p \\sqrt \\frac{2}{N}$$\n",
    "\n",
    "\n",
    "$$unbiased:\\  s_p^2 = \\frac{(N_X-1)\\hat \\sigma_X^2 + (N_Y-1)\\hat \\sigma_Y^2}{N_X+N_Y-2}\\xrightarrow{N_X = N_Y} \\frac{1}{2}(\\sigma_X^2 + \\sigma_Y^2)\\xrightarrow{\\sigma_X^2 = \\sigma_Y^2} \\sigma^2$$\n",
    "\n",
    "\n",
    "    \n",
    "\n",
    "\n",
    "- Under Binomial Distribution (***A/B Test***): \n",
    "    - Option 1: Assume same proportion\n",
    "    \n",
    "$$ \\hat p = \\frac{\\hat p_X N_X + \\hat p_Y N_Y}{N_X + N_Y} = \\frac{1_X + 1_Y}{N_X + N_Y} $$\n",
    "\n",
    "$$s_p  = \\sqrt{\\hat p(1- \\hat p)}$$ \n",
    "\n",
    "$$Z=\\frac{\\hat p_X-\\hat p_Y}{\\sqrt{\\hat p(1-\\hat p)(\\frac{1}{N_X} + \\frac{1}{N_Y})}} \\sim N(0,1)$$\n",
    "   - Option 2: Assume different proportion\n",
    "$$Z=\\dfrac{\\hat p_X-\\hat p_Y}{\\sqrt{\\dfrac{\\hat p_X(1-\\hat p_X)}{N_X}+\\dfrac{\\hat p_Y(1-\\hat p_Y)}{N_Y}}}$$"
   ]
  },
  {
   "cell_type": "markdown",
   "metadata": {},
   "source": [
    "**One-Tail vs. Two-Tail Test**\n",
    "- Two Tail: Compare $|T|$ with $t_{m+n-2}\n",
    "(\\alpha/2) $ \n",
    "- One-Tail: Compare $T$ with $t_{m+n-2}(\\alpha)$\n",
    "<img src=\"https://saylordotorg.github.io/text_introductory-statistics/section_12/526c9e81a596b999ae191031b1b8bc47.jpg\" width=\"400\">"
   ]
  },
  {
   "cell_type": "markdown",
   "metadata": {},
   "source": [
    "**Violation of assumptions**"
   ]
  },
  {
   "cell_type": "markdown",
   "metadata": {},
   "source": [
    "- For $1^{st}$ assumption (Independence) : by experiment design"
   ]
  },
  {
   "cell_type": "markdown",
   "metadata": {},
   "source": [
    "- For $2^{nd}$ assumption: Perform *Levene test *\n",
    "    * Null hypothesis: samples have same variances\n",
    "    * Reject null hypothesis when $p<\\alpha=0.05$\n",
    "    * When violated, the calculation of $df$ will change\n",
    "    * Alternative: perform log transformation to stablize variation"
   ]
  },
  {
   "cell_type": "markdown",
   "metadata": {},
   "source": [
    "- For 3rd assumption: Perform *Shapiro-Wilks test*\n",
    "    - Reject null hypothesis when $p<\\alpha=0.05$\n",
    "    - When sample size is big, still valid (asymptotic normality)\n",
    "    - Reason: Central Limit Theory for $\\bar X$ and $\\bar Y$"
   ]
  },
  {
   "cell_type": "markdown",
   "metadata": {},
   "source": [
    "**Relationship with Likelihood-Ratio Test**\n",
    "- Can be proved to be equivalent "
   ]
  },
  {
   "cell_type": "markdown",
   "metadata": {},
   "source": [
    "**Non-parametric methods**\n",
    "- Mann-Whitney Test: https://en.wikipedia.org/wiki/Mann%E2%80%93Whitney_U_test\n",
    "\n",
    "- Wilcoxon Rank Sum Test\n",
    "\n",
    "$$ {\\displaystyle U_{1}=R_{1}-{n_{1}(n_{1}+1) \\over 2}\\,\\!} $$\n",
    "\n",
    "<img src=\"https://i2.wp.com/www.real-statistics.com/wp-content/uploads/2012/12/mann-whitney-test-excel.jpg\" width=\"400\">\n",
    "- Advantages\n",
    "    - Small sample size\n",
    "    - Robust to outliers\n",
    "    - No need for normal assumptions\n",
    "- Disadvantages:\n",
    "    - Higher Type II error\n",
    "    - Lower power \n",
    "    - Not really needed for large sample"
   ]
  },
  {
   "cell_type": "markdown",
   "metadata": {},
   "source": [
    "## Numerical Example for comparing proportions\n"
   ]
  },
  {
   "cell_type": "code",
   "execution_count": 61,
   "metadata": {},
   "outputs": [],
   "source": [
    "import pandas as pd\n",
    "import numpy as np\n",
    "import statsmodels.api as sm\n",
    "import scipy\n",
    "from scipy.stats import norm"
   ]
  },
  {
   "cell_type": "markdown",
   "metadata": {},
   "source": [
    "Data source: https://github.com/nirupamaprv/Analyze-AB-test-Results"
   ]
  },
  {
   "cell_type": "code",
   "execution_count": 62,
   "metadata": {},
   "outputs": [
    {
     "data": {
      "text/html": [
       "<div>\n",
       "<style scoped>\n",
       "    .dataframe tbody tr th:only-of-type {\n",
       "        vertical-align: middle;\n",
       "    }\n",
       "\n",
       "    .dataframe tbody tr th {\n",
       "        vertical-align: top;\n",
       "    }\n",
       "\n",
       "    .dataframe thead th {\n",
       "        text-align: right;\n",
       "    }\n",
       "</style>\n",
       "<table border=\"1\" class=\"dataframe\">\n",
       "  <thead>\n",
       "    <tr style=\"text-align: right;\">\n",
       "      <th></th>\n",
       "      <th>user_id</th>\n",
       "      <th>timestamp</th>\n",
       "      <th>group</th>\n",
       "      <th>landing_page</th>\n",
       "      <th>converted</th>\n",
       "    </tr>\n",
       "  </thead>\n",
       "  <tbody>\n",
       "    <tr>\n",
       "      <th>0</th>\n",
       "      <td>851104</td>\n",
       "      <td>2017-01-21 22:11:48.556739</td>\n",
       "      <td>control</td>\n",
       "      <td>old_page</td>\n",
       "      <td>0</td>\n",
       "    </tr>\n",
       "    <tr>\n",
       "      <th>1</th>\n",
       "      <td>804228</td>\n",
       "      <td>2017-01-12 08:01:45.159739</td>\n",
       "      <td>control</td>\n",
       "      <td>old_page</td>\n",
       "      <td>0</td>\n",
       "    </tr>\n",
       "    <tr>\n",
       "      <th>2</th>\n",
       "      <td>661590</td>\n",
       "      <td>2017-01-11 16:55:06.154213</td>\n",
       "      <td>treatment</td>\n",
       "      <td>new_page</td>\n",
       "      <td>0</td>\n",
       "    </tr>\n",
       "    <tr>\n",
       "      <th>3</th>\n",
       "      <td>853541</td>\n",
       "      <td>2017-01-08 18:28:03.143765</td>\n",
       "      <td>treatment</td>\n",
       "      <td>new_page</td>\n",
       "      <td>0</td>\n",
       "    </tr>\n",
       "    <tr>\n",
       "      <th>4</th>\n",
       "      <td>864975</td>\n",
       "      <td>2017-01-21 01:52:26.210827</td>\n",
       "      <td>control</td>\n",
       "      <td>old_page</td>\n",
       "      <td>1</td>\n",
       "    </tr>\n",
       "  </tbody>\n",
       "</table>\n",
       "</div>"
      ],
      "text/plain": [
       "   user_id                   timestamp      group landing_page  converted\n",
       "0   851104  2017-01-21 22:11:48.556739    control     old_page          0\n",
       "1   804228  2017-01-12 08:01:45.159739    control     old_page          0\n",
       "2   661590  2017-01-11 16:55:06.154213  treatment     new_page          0\n",
       "3   853541  2017-01-08 18:28:03.143765  treatment     new_page          0\n",
       "4   864975  2017-01-21 01:52:26.210827    control     old_page          1"
      ]
     },
     "execution_count": 62,
     "metadata": {},
     "output_type": "execute_result"
    }
   ],
   "source": [
    "df = pd.read_csv('./data/ab_edited.csv')[:50]\n",
    "df.head()"
   ]
  },
  {
   "cell_type": "code",
   "execution_count": 63,
   "metadata": {},
   "outputs": [],
   "source": [
    "old = df.query(\"group == 'control'\")['converted']\n",
    "new = df.query(\"group == 'treatment'\")['converted']"
   ]
  },
  {
   "cell_type": "markdown",
   "metadata": {},
   "source": [
    "### Implementation with `stats`"
   ]
  },
  {
   "cell_type": "code",
   "execution_count": 64,
   "metadata": {},
   "outputs": [],
   "source": [
    "convert_old = sum(old)\n",
    "convert_new = sum(new)\n",
    "n_old = len(df.query(\"group == 'control'\"))\n",
    "n_new = len(df.query(\"group == 'treatment'\"))"
   ]
  },
  {
   "cell_type": "code",
   "execution_count": 65,
   "metadata": {},
   "outputs": [
    {
     "data": {
      "text/plain": [
       "(0.2556432050257977, 0.7982263538405426)"
      ]
     },
     "execution_count": 65,
     "metadata": {},
     "output_type": "execute_result"
    }
   ],
   "source": [
    "z_score, p_value = sm.stats.proportions_ztest([convert_old, convert_new], \n",
    "                                              [n_old, n_new], \n",
    "                                              prop_var = p_old)\n",
    "z_score, p_value"
   ]
  },
  {
   "cell_type": "markdown",
   "metadata": {},
   "source": [
    "### Implementation with `numpy`"
   ]
  },
  {
   "cell_type": "markdown",
   "metadata": {},
   "source": [
    "- Calculate $\\bar{X}$ and $\\bar{Y}$"
   ]
  },
  {
   "cell_type": "code",
   "execution_count": 66,
   "metadata": {},
   "outputs": [
    {
     "data": {
      "text/plain": [
       "(0.23809523809523808, 0.20689655172413793)"
      ]
     },
     "execution_count": 66,
     "metadata": {},
     "output_type": "execute_result"
    }
   ],
   "source": [
    "mean_old = np.mean(old) \n",
    "mean_new = np.mean(new) \n",
    "mean_old, mean_new"
   ]
  },
  {
   "cell_type": "markdown",
   "metadata": {},
   "source": [
    "- Calculate $\\hat \\sigma_X$  and $\\hat \\sigma_Y$"
   ]
  },
  {
   "cell_type": "code",
   "execution_count": 67,
   "metadata": {},
   "outputs": [
    {
     "data": {
      "text/plain": [
       "(0.4259177099999599, 0.4259177099999599)"
      ]
     },
     "execution_count": 67,
     "metadata": {},
     "output_type": "execute_result"
    }
   ],
   "source": [
    "s_old = s_new = np.sqrt(p_old * (1 - p_old))\n",
    "s_old, s_new"
   ]
  },
  {
   "cell_type": "markdown",
   "metadata": {},
   "source": [
    "- Calculate $N_x$ and $N_y$"
   ]
  },
  {
   "cell_type": "code",
   "execution_count": 68,
   "metadata": {},
   "outputs": [
    {
     "data": {
      "text/plain": [
       "(21, 29)"
      ]
     },
     "execution_count": 68,
     "metadata": {},
     "output_type": "execute_result"
    }
   ],
   "source": [
    "n_old = len(old) \n",
    "n_new = len(new) \n",
    "n_old, n_new"
   ]
  },
  {
   "cell_type": "markdown",
   "metadata": {},
   "source": [
    "- Calculate test statistics"
   ]
  },
  {
   "cell_type": "code",
   "execution_count": 69,
   "metadata": {},
   "outputs": [
    {
     "data": {
      "text/plain": [
       "0.2556432050257977"
      ]
     },
     "execution_count": 69,
     "metadata": {},
     "output_type": "execute_result"
    }
   ],
   "source": [
    "Z = (mean_old - mean_new) / ( s_old * np.sqrt (1/n_old + 1/n_new) )\n",
    "Z"
   ]
  },
  {
   "cell_type": "markdown",
   "metadata": {},
   "source": [
    "- Use normal distribution"
   ]
  },
  {
   "cell_type": "code",
   "execution_count": 70,
   "metadata": {},
   "outputs": [
    {
     "name": "stdout",
     "output_type": "stream",
     "text": [
      "0.6008868230797286\n"
     ]
    }
   ],
   "source": [
    "from scipy.stats import norm\n",
    "print(norm.cdf(Z))"
   ]
  },
  {
   "cell_type": "code",
   "execution_count": 71,
   "metadata": {},
   "outputs": [
    {
     "data": {
      "text/plain": [
       "0.7982263538405427"
      ]
     },
     "execution_count": 71,
     "metadata": {},
     "output_type": "execute_result"
    }
   ],
   "source": [
    "p = 1 - (norm.cdf(Z)-0.5) * 2\n",
    "p"
   ]
  },
  {
   "cell_type": "markdown",
   "metadata": {},
   "source": [
    "# Numerical Example for comparing means"
   ]
  },
  {
   "cell_type": "code",
   "execution_count": 72,
   "metadata": {},
   "outputs": [],
   "source": [
    "old=[79.98,80.04,80.02,80.04,80.03,80.03,80.04,79.97,80.05,80.03,80.02,80.00,80.02]\n",
    "new=[80.02,79.94,79.98,79.97,79.97,80.03,79.95,79.97]"
   ]
  },
  {
   "cell_type": "markdown",
   "metadata": {},
   "source": [
    "### Implementation with `stats`"
   ]
  },
  {
   "cell_type": "code",
   "execution_count": 90,
   "metadata": {},
   "outputs": [
    {
     "data": {
      "text/plain": [
       "(3.472244847094969, 0.0025510042141041645)"
      ]
     },
     "execution_count": 90,
     "metadata": {},
     "output_type": "execute_result"
    }
   ],
   "source": [
    "t_score, p_value = scipy.stats.ttest_ind(old, new, equal_var = True)\n",
    "t_score, p_value "
   ]
  },
  {
   "cell_type": "markdown",
   "metadata": {},
   "source": [
    "### Implementation with `numpy`"
   ]
  },
  {
   "cell_type": "markdown",
   "metadata": {},
   "source": [
    "- Perform *Shapiro-Wilks* Normality Test"
   ]
  },
  {
   "cell_type": "code",
   "execution_count": 74,
   "metadata": {},
   "outputs": [
    {
     "data": {
      "text/plain": [
       "((0.8718658089637756, 0.055402472615242004),\n",
       " (0.8912419080734253, 0.24032734334468842))"
      ]
     },
     "execution_count": 74,
     "metadata": {},
     "output_type": "execute_result"
    }
   ],
   "source": [
    "from scipy.stats import shapiro\n",
    "shapiro(old),shapiro(new)"
   ]
  },
  {
   "cell_type": "markdown",
   "metadata": {},
   "source": [
    "- **p-value**: larger than significance level: 0.05\n",
    "- **Conclusion**: The normnal assumption is not violated "
   ]
  },
  {
   "cell_type": "markdown",
   "metadata": {},
   "source": [
    "- Perform *Levene* Test"
   ]
  },
  {
   "cell_type": "code",
   "execution_count": 75,
   "metadata": {},
   "outputs": [
    {
     "data": {
      "text/plain": [
       "LeveneResult(statistic=0.215774685801598, pvalue=0.6475571540157947)"
      ]
     },
     "execution_count": 75,
     "metadata": {},
     "output_type": "execute_result"
    }
   ],
   "source": [
    "from scipy.stats import levene\n",
    "levene(old, new)"
   ]
  },
  {
   "cell_type": "markdown",
   "metadata": {},
   "source": [
    "- **p-value**: larger than significance level: 0.05\n",
    "- **Conclusion**: X and Y have same population variance"
   ]
  },
  {
   "cell_type": "markdown",
   "metadata": {},
   "source": [
    "- Calculate $\\bar{X}$ and $\\bar{Y}$"
   ]
  },
  {
   "cell_type": "code",
   "execution_count": 91,
   "metadata": {},
   "outputs": [
    {
     "data": {
      "text/plain": [
       "(80.02076923076923, 79.97874999999999)"
      ]
     },
     "execution_count": 91,
     "metadata": {},
     "output_type": "execute_result"
    }
   ],
   "source": [
    "mean_old = np.mean(old) \n",
    "mean_new = np.mean(new) \n",
    "mean_old, mean_new"
   ]
  },
  {
   "cell_type": "markdown",
   "metadata": {},
   "source": [
    "- Calculate $N_x$ and $N_y$"
   ]
  },
  {
   "cell_type": "code",
   "execution_count": 92,
   "metadata": {},
   "outputs": [
    {
     "data": {
      "text/plain": [
       "(13, 8)"
      ]
     },
     "execution_count": 92,
     "metadata": {},
     "output_type": "execute_result"
    }
   ],
   "source": [
    "n_old = len(old) \n",
    "n_new = len(new) \n",
    "n_old, n_new"
   ]
  },
  {
   "cell_type": "markdown",
   "metadata": {},
   "source": [
    "- Calculate $S_x$ and $S_y$"
   ]
  },
  {
   "cell_type": "code",
   "execution_count": 93,
   "metadata": {},
   "outputs": [
    {
     "data": {
      "text/plain": [
       "(0.023965787580611863, 0.03136763573220897)"
      ]
     },
     "execution_count": 93,
     "metadata": {},
     "output_type": "execute_result"
    }
   ],
   "source": [
    "s_old = np.std(old, ddof=1) \n",
    "s_new = np.std(new, ddof=1) \n",
    "s_old, s_new"
   ]
  },
  {
   "cell_type": "markdown",
   "metadata": {},
   "source": [
    "- Calculate DoF $df$"
   ]
  },
  {
   "cell_type": "code",
   "execution_count": 94,
   "metadata": {},
   "outputs": [
    {
     "data": {
      "text/plain": [
       "19"
      ]
     },
     "execution_count": 94,
     "metadata": {},
     "output_type": "execute_result"
    }
   ],
   "source": [
    "df1 = n_old - 1\n",
    "df2 = n_new - 1\n",
    "df = df1 + df2\n",
    "df"
   ]
  },
  {
   "cell_type": "markdown",
   "metadata": {},
   "source": [
    "- Calculate pooled variance"
   ]
  },
  {
   "cell_type": "code",
   "execution_count": 95,
   "metadata": {},
   "outputs": [
    {
     "data": {
      "text/plain": [
       "0.02693052239443681"
      ]
     },
     "execution_count": 95,
     "metadata": {},
     "output_type": "execute_result"
    }
   ],
   "source": [
    "s_p = np.sqrt(( (n_old - 1) * s_old * s_old + (n_new - 1) * s_new * s_new) / (n_old + n_new - 2))\n",
    "s_p"
   ]
  },
  {
   "cell_type": "markdown",
   "metadata": {},
   "source": [
    "- Calculate test statistics"
   ]
  },
  {
   "cell_type": "code",
   "execution_count": 96,
   "metadata": {},
   "outputs": [
    {
     "data": {
      "text/plain": [
       "3.472244847094969"
      ]
     },
     "execution_count": 96,
     "metadata": {},
     "output_type": "execute_result"
    }
   ],
   "source": [
    "T = (mean_old - mean_new) /(s_p * np.sqrt(1 / n_old + 1 / n_new))\n",
    "T"
   ]
  },
  {
   "cell_type": "markdown",
   "metadata": {},
   "source": [
    "- Use t distribution"
   ]
  },
  {
   "cell_type": "code",
   "execution_count": 97,
   "metadata": {},
   "outputs": [
    {
     "data": {
      "text/plain": [
       "0.9987244978929479"
      ]
     },
     "execution_count": 97,
     "metadata": {},
     "output_type": "execute_result"
    }
   ],
   "source": [
    "from scipy.stats import t\n",
    "t.cdf(T, df=df)"
   ]
  },
  {
   "cell_type": "code",
   "execution_count": 98,
   "metadata": {},
   "outputs": [
    {
     "data": {
      "text/plain": [
       "0.0025510042141041467"
      ]
     },
     "execution_count": 98,
     "metadata": {},
     "output_type": "execute_result"
    }
   ],
   "source": [
    "p = 1 - (t.cdf(T, df=df)-0.5) * 2\n",
    "p"
   ]
  },
  {
   "cell_type": "markdown",
   "metadata": {},
   "source": [
    "### Calculate sample size / Power"
   ]
  },
  {
   "cell_type": "markdown",
   "metadata": {},
   "source": [
    "**Power**: \n",
    "- $P$(reject $H_0$|$H_1$ is true)\n",
    "- Commonly 80-95%\n",
    "- Red shaded area\n",
    "\n",
    "**What impacts power**\n",
    "- Effect Size (+)\n",
    "- Sample Size (+)\n",
    "- Significant Level (e.g., 5%) (+)\n",
    "- Population SD (-)\n",
    "    - Conversion Rate vs. Actual number of visits\n",
    "- ref: https://onlinecourses.science.psu.edu/stat414/node/304/"
   ]
  },
  {
   "cell_type": "markdown",
   "metadata": {},
   "source": [
    "- Combined equation$$ES = (t_{\\alpha/2} + t_{\\beta})s_p\\sqrt{\\frac{1}{N_1}+\\frac{1}{N_2}}\\xrightarrow{\\sigma_1 = \\sigma_2, N_1 = N_2} = (t_{\\alpha/2} + t_{\\beta})\\sigma\\sqrt{\\frac{2}{N}}$$"
   ]
  },
  {
   "cell_type": "markdown",
   "metadata": {},
   "source": [
    "\n",
    "\n",
    "<img src=\"https://onlinecourses.science.psu.edu/stat414/sites/onlinecourses.science.psu.edu.stat414/files/lesson54/Lesson54_Drawing05/index.gif\" width=\"300\">\n",
    "\n",
    "\n",
    "- Effect Size\n",
    "\n",
    "<img src=\"https://onlinecourses.science.psu.edu/stat414/sites/onlinecourses.science.psu.edu.stat414/files/lesson54/Lesson54_Drawing08/index.gif\" width=\"300\">\n",
    "\n",
    "<img src=\"https://onlinecourses.science.psu.edu/stat414/sites/onlinecourses.science.psu.edu.stat414/files/lesson54/Lesson54_Drawing09/index.gif\" width=\"300\">\n",
    "\n",
    "- Significance Level\n",
    "\n",
    "<img src=\"https://onlinecourses.science.psu.edu/stat414/sites/onlinecourses.science.psu.edu.stat414/files/lesson54/Lesson54_Drawing11/index.gif\" width=\"300\">\n",
    "\n",
    "- Calculate sample size\n",
    "<img src=\"https://onlinecourses.science.psu.edu/stat414/sites/onlinecourses.science.psu.edu.stat414/files/lesson54/Lesson54_Drawing16/index.gif\" width=\"300\">"
   ]
  },
  {
   "cell_type": "code",
   "execution_count": 101,
   "metadata": {},
   "outputs": [],
   "source": [
    "p_baseline = 0.50 # under H_0\n",
    "effect_size = 0.05 # Desired effect size\n",
    "sig = 0.99\n",
    "sample_size = 1001\n",
    "#https://onlinecourses.science.psu.edu/stat414/node/306/"
   ]
  },
  {
   "cell_type": "markdown",
   "metadata": {},
   "source": [
    "- Look up table: $Z(\\alpha) = 2.326$"
   ]
  },
  {
   "cell_type": "markdown",
   "metadata": {},
   "source": [
    "\n",
    "- Calculate power of test\n",
    "    - Standardize user-provided $ES$ \n",
    "    $$ ES_{N(0,1)}  = \\frac{ES}{ \\sigma_{p = \\bar X}} = \\frac{ES}{\\sigma_{X} / \\sqrt{N}} = \\frac{ES}{\\sqrt{\\frac{p(1-p)}{N}}} $$\n",
    "$$$$\n",
    "    - Calculate the arrow point on blue axis:\n",
    "    $$ - ES_{N(0,1)} + Z_{critical}$$\n",
    "    $$$$\n",
    "    \n",
    "    - Calculate the area of blue\n",
    "    $$\\phi_z(- ES_{N(0,1)} + Z_{critical})$$\n",
    "    $$$$\n",
    "    - Calculate the area of power\n",
    "    $$1-\\phi_z(- ES_{N(0,1)} + Z_{critical})$$\n",
    "\n",
    "\n",
    "\n",
    "- How to calculate Sample Size: \n",
    "    - Formula for sample size estimation under $95\\%$ significance and $80\\%$ power.\n",
    "$$N=\\frac{16\\sigma^2}{\\Delta^2}$$\n",
    "    "
   ]
  },
  {
   "cell_type": "code",
   "execution_count": 102,
   "metadata": {},
   "outputs": [
    {
     "data": {
      "text/plain": [
       "0.5"
      ]
     },
     "execution_count": 102,
     "metadata": {},
     "output_type": "execute_result"
    }
   ],
   "source": [
    "s_x = np.sqrt(p_baseline * (1 - p_baseline))\n",
    "s_x"
   ]
  },
  {
   "cell_type": "code",
   "execution_count": 103,
   "metadata": {},
   "outputs": [
    {
     "data": {
      "text/plain": [
       "0.01580348853102535"
      ]
     },
     "execution_count": 103,
     "metadata": {},
     "output_type": "execute_result"
    }
   ],
   "source": [
    "s_p =  s_x * np.sqrt( 1 / sample_size)\n",
    "s_p"
   ]
  },
  {
   "cell_type": "code",
   "execution_count": 104,
   "metadata": {},
   "outputs": [
    {
     "data": {
      "text/plain": [
       "3.163858403911275"
      ]
     },
     "execution_count": 104,
     "metadata": {},
     "output_type": "execute_result"
    }
   ],
   "source": [
    "effect_size_N_0_1 = effect_size / s_p\n",
    "effect_size_N_0_1"
   ]
  },
  {
   "cell_type": "code",
   "execution_count": 105,
   "metadata": {},
   "outputs": [
    {
     "data": {
      "text/plain": [
       "-0.8378584039112749"
      ]
     },
     "execution_count": 105,
     "metadata": {},
     "output_type": "execute_result"
    }
   ],
   "source": [
    "phi_value = 2.326 - effect_size_N_0_1\n",
    "phi_value"
   ]
  },
  {
   "cell_type": "code",
   "execution_count": 106,
   "metadata": {},
   "outputs": [
    {
     "data": {
      "text/plain": [
       "0.2010551163605569"
      ]
     },
     "execution_count": 106,
     "metadata": {},
     "output_type": "execute_result"
    }
   ],
   "source": [
    "blue_shade = norm.cdf(phi_value)\n",
    "blue_shade"
   ]
  },
  {
   "cell_type": "code",
   "execution_count": 107,
   "metadata": {},
   "outputs": [
    {
     "data": {
      "text/plain": [
       "0.798944883639443"
      ]
     },
     "execution_count": 107,
     "metadata": {},
     "output_type": "execute_result"
    }
   ],
   "source": [
    "power = 1 - blue_shade\n",
    "power"
   ]
  },
  {
   "cell_type": "code",
   "execution_count": 112,
   "metadata": {},
   "outputs": [
    {
     "data": {
      "text/plain": [
       "1599.9999999999998"
      ]
     },
     "execution_count": 112,
     "metadata": {},
     "output_type": "execute_result"
    }
   ],
   "source": [
    "#Just use formula\n",
    "N_size = 16 * p_baseline * (1 - p_baseline) / (effect_size * effect_size)\n",
    "N_size"
   ]
  },
  {
   "cell_type": "markdown",
   "metadata": {},
   "source": [
    "# Online Experiment\n"
   ]
  },
  {
   "cell_type": "markdown",
   "metadata": {},
   "source": [
    "## A/A Test\n",
    "- Assign user to one of the two groups, but expose them to exactly same experience\n",
    "- Calculate variability for power calculation\n",
    "- Test the experimentation system (reject $H_0$ about 5% given significant level as 5%, with dummy treatments)\n",
    "- Shut down treatment if significantly underperform\n",
    "\n",
    "- Maybe something is wrong with how system assign treatment to users\n",
    "<img src=\"https://cdn-images-1.medium.com/max/1600/0*wsfrJNYzgiPl41Tq.png\" width=\"300\"> \n"
   ]
  },
  {
   "cell_type": "markdown",
   "metadata": {},
   "source": [
    "## Type of variates\n",
    "- Call to action\n",
    "- Visual elements\n",
    "- Buttons\n",
    "- Text \n",
    "    - Ad: Promotion vs. Benefit vs. Information\n",
    "    - Tweets: length/style/emoji/etc\n",
    "- Image and Video\n",
    "- Hashtags\n",
    "- Backend (e.g., recommendation algorithm)"
   ]
  },
  {
   "cell_type": "markdown",
   "metadata": {},
   "source": [
    "## Select evaluation metric\n",
    "- Short-term vs. Long-term\n",
    "    - adding more ads --> short-term revenue\n",
    "    - loss of page views/clicks --> long-term revenue loss / user abandonment\n",
    "\n",
    "\n",
    "- Consistent with long-term company goal, and sensitive enough to be detected\n",
    "    - KPI: hard to detect change in a short time\n",
    "    - Evaluation metric: strong correlation with KPI as a proxy\n",
    "\n",
    "\n",
    "- **Example of metrics**:\n",
    "    - Netflix Subscription: Viewing hours\n",
    "    - Coursera Course certification: Test completion / Course Engagement\n",
    "\n",
    "\n",
    "- ***By selecting better evaluation metric***\n",
    "\n",
    "    - Search Engine: *Sessions per user* instead of *queries per user*\n",
    "    - $\\frac{Queries}{Month}=\\frac{Queries}{Session}\\times\\frac{Session}{User}\\times\\frac{User}{Month}$\n",
    "\n",
    "\n",
    "- ***By quantifying loss of traffic***:\n",
    "\n",
    "    - Putting Ad on Homepage: *(decrease in click-through rate)* X *(visit frequency)* X *(cost of regenerating this traffic from other sources)*\n"
   ]
  },
  {
   "cell_type": "markdown",
   "metadata": {},
   "source": [
    "## Limitations\n",
    "- Analyze across key segments\n",
    "    - Browser type\n",
    "    - Device type\n",
    "    - New and return users\n",
    "    - Men and women\n",
    "    - Geo\n",
    "    - Age\n",
    "    - Subscribers\n",
    "    <img src=\"https://cdn-images-1.medium.com/max/1600/0*W-Qnxk2EQR3gzSeA.png\" width=\"200\">\n",
    "    \n",
    "    ***Alert***: Multiple comparison issue.\n",
    "    \n",
    "    \n",
    "- Temporal factors (non-stationary time-series)\n",
    "    - e.g, day of week effect\n",
    "    - other periodical events\n",
    "    \n",
    "    \n",
    "- Treatment ramp-up\n",
    "    - Start from 0.1% treatment, gradually to 50%\n",
    "    - A 50%/50% design is much faster than a 99%/1% design (25 times faster)\n",
    "\n",
    "\n",
    "- Early stopping\n",
    "\n",
    "\n",
    "\n",
    "- Preference to old or preference to newness\n",
    "    - Novelty effect\n",
    "    <img src=\"https://cdn-images-1.medium.com/max/1600/0*MlfgRSUftnrPE7wD.png\" width=\"300\">\n",
    "    - Longer time\n",
    "    - Only expose to new users\n",
    "    \n",
    "    \n",
    "- Implementation cost\n",
    "- Performance speed\n",
    "    - Slow feature: bad experience"
   ]
  },
  {
   "cell_type": "markdown",
   "metadata": {},
   "source": [
    "## AB test vs. Bandit"
   ]
  },
  {
   "cell_type": "markdown",
   "metadata": {},
   "source": [
    "<img src=\"https://conductricsblog.files.wordpress.com/2012/08/abvbandit.jpg\" width=\"500\">\n",
    "<img src=\"http://conductricsblog.files.wordpress.com/2012/08/aucbandit.jpg\" width=\"500\">"
   ]
  },
  {
   "cell_type": "markdown",
   "metadata": {},
   "source": [
    "## Network effect"
   ]
  },
  {
   "cell_type": "markdown",
   "metadata": {},
   "source": [
    "- **Sample consistency**: for example, GCP, two uses in one collaboration group faces two different features. Or adding a video chatting feature, which only works if both sides have access to it\n",
    "- **Sample independency** (Spillover effect), for example, Facebook: many connected components, thus Group A and B are no longer independent."
   ]
  },
  {
   "cell_type": "markdown",
   "metadata": {},
   "source": [
    "- **Possible solution**: community (cluster) based AB test by partitioning nodes to groups, or for a dating app with no prior connections, maybe using demographic/geographical attributes\n",
    "- Each ***cluster*** is assigned a treatment, thus unlikely for spillover from control to treatment\n",
    "- Unit of analysis is reduced, **higher variance** as a result"
   ]
  },
  {
   "cell_type": "markdown",
   "metadata": {},
   "source": [
    "Ref: http://web.media.mit.edu/~msaveski/projects/2016_network-ab-testing.html\n",
    "\n",
    "<img src=\"http://web.media.mit.edu/~msaveski/assets/projects/2016_network-ab/main.png\" width=\"500\">\n"
   ]
  },
  {
   "cell_type": "markdown",
   "metadata": {},
   "source": [
    "# Case Study"
   ]
  },
  {
   "cell_type": "markdown",
   "metadata": {},
   "source": [
    "## Problem Statement\n",
    "- Given a feature difference in facebook app, evaluate if the change will improve user activity.\n",
    "- Given a UI component change (e.g., button color) in a pageview, evaluate if there are more users clicking.\n",
    "- Given a pop-up message, whether users will continue enroll in program or not\n",
    "- Given a new firewall feature in GCP"
   ]
  },
  {
   "cell_type": "markdown",
   "metadata": {},
   "source": [
    "http://rajivgrover1984.blogspot.com/2015/11/ab-testing-overview.html\n",
    ">*For example: An online education company tested a change where if the student clicked \"start free trial\", they were asked how much time they had available to devote to the course. If the student indicated 5 or more hours per week, they would be taken through the checkout process as usual. If they indicated fewer than 5 hours per week, a message would appear indicating that these courses usually require a greater time commitment for successful completion, and suggesting that the student might like to access the course materials for free.*"
   ]
  },
  {
   "cell_type": "markdown",
   "metadata": {},
   "source": [
    "## Choose Subject (Unit of diversion)\n"
   ]
  },
  {
   "cell_type": "markdown",
   "metadata": {},
   "source": [
    "Possible Choice: \n",
    "- User id\n",
    "- Cookie\n",
    "- Event"
   ]
  },
  {
   "cell_type": "markdown",
   "metadata": {},
   "source": [
    "## Choose metric"
   ]
  },
  {
   "cell_type": "markdown",
   "metadata": {},
   "source": [
    "Example of pop-up message and program enrollment"
   ]
  },
  {
   "cell_type": "markdown",
   "metadata": {},
   "source": [
    "Guardrail Metrics that should **NOT** change:\n",
    "\n"
   ]
  },
  {
   "cell_type": "markdown",
   "metadata": {},
   "source": [
    "- Number of cookies, unique # of cookies visiting the page\n",
    "- Number of clicks on the button (since message shown after clicking)"
   ]
  },
  {
   "cell_type": "markdown",
   "metadata": {},
   "source": [
    "Metrics that **MAY** change:\n"
   ]
  },
  {
   "cell_type": "markdown",
   "metadata": {},
   "source": [
    "- User  Aquisition: $p = \\frac{Number\\ of\\ users\\ actually\\ enrolled}{Number\\ of\\ users\\ clicking\\ button}$\n",
    "\n",
    "\n",
    "- User Retention: $p = \\frac{Number\\ of\\ users\\ remain\\ enrolled\\ for\\ 14\\ days}{Number\\ of\\ users\\ clicking\\ button}$"
   ]
  },
  {
   "cell_type": "markdown",
   "metadata": {},
   "source": [
    "# User Growth"
   ]
  },
  {
   "cell_type": "markdown",
   "metadata": {},
   "source": [
    "<img src=\"http://zengzhangguan.com/wp-content/uploads/2018/08/aarrr-1-600x313-1-1.png\" width=\"600\">"
   ]
  },
  {
   "cell_type": "markdown",
   "metadata": {},
   "source": [
    "<img src=\"https://static1.squarespace.com/static/55f6eebfe4b04a4eecaee07e/t/564391fde4b0ccf90c6f1852/1447268872573/\" width=\"400\">"
   ]
  },
  {
   "cell_type": "code",
   "execution_count": null,
   "metadata": {},
   "outputs": [],
   "source": []
  }
 ],
 "metadata": {
  "hide_input": false,
  "kernelspec": {
   "display_name": "Python [default]",
   "language": "python",
   "name": "python3"
  },
  "language_info": {
   "codemirror_mode": {
    "name": "ipython",
    "version": 3
   },
   "file_extension": ".py",
   "mimetype": "text/x-python",
   "name": "python",
   "nbconvert_exporter": "python",
   "pygments_lexer": "ipython3",
   "version": "3.6.5"
  },
  "toc": {
   "base_numbering": 1,
   "nav_menu": {},
   "number_sections": true,
   "sideBar": true,
   "skip_h1_title": false,
   "title_cell": "Table of Contents",
   "title_sidebar": "Contents",
   "toc_cell": false,
   "toc_position": {
    "height": "483px",
    "left": "0px",
    "right": "1017.33px",
    "top": "107px",
    "width": "310px"
   },
   "toc_section_display": true,
   "toc_window_display": true
  }
 },
 "nbformat": 4,
 "nbformat_minor": 2
}
