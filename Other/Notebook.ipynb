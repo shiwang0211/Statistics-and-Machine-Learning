{
 "cells": [
  {
   "cell_type": "markdown",
   "metadata": {},
   "source": [
    "# 1. Import Data"
   ]
  },
  {
   "cell_type": "code",
   "execution_count": 1,
   "metadata": {},
   "outputs": [],
   "source": [
    "import numpy as np\n",
    "import pandas as pd\n",
    "import seaborn as sns\n",
    "import matplotlib.pyplot as plt\n",
    "import warnings\n",
    "warnings.filterwarnings('ignore')\n",
    "sns.set_context(\"notebook\", font_scale=1.2)"
   ]
  },
  {
   "cell_type": "code",
   "execution_count": 2,
   "metadata": {},
   "outputs": [
    {
     "data": {
      "text/html": [
       "<div>\n",
       "<style scoped>\n",
       "    .dataframe tbody tr th:only-of-type {\n",
       "        vertical-align: middle;\n",
       "    }\n",
       "\n",
       "    .dataframe tbody tr th {\n",
       "        vertical-align: top;\n",
       "    }\n",
       "\n",
       "    .dataframe thead th {\n",
       "        text-align: right;\n",
       "    }\n",
       "</style>\n",
       "<table border=\"1\" class=\"dataframe\">\n",
       "  <thead>\n",
       "    <tr style=\"text-align: right;\">\n",
       "      <th></th>\n",
       "      <th>Unnamed: 0</th>\n",
       "      <th>isbuyer</th>\n",
       "      <th>buy_freq</th>\n",
       "      <th>visit_freq</th>\n",
       "      <th>buy_interval</th>\n",
       "      <th>sv_interval</th>\n",
       "      <th>expected_time_buy</th>\n",
       "      <th>expected_time_visit</th>\n",
       "      <th>last_buy</th>\n",
       "      <th>last_visit</th>\n",
       "      <th>multiple_buy</th>\n",
       "      <th>multiple_visit</th>\n",
       "      <th>uniq_urls</th>\n",
       "      <th>num_checkins</th>\n",
       "      <th>y_buy</th>\n",
       "    </tr>\n",
       "  </thead>\n",
       "  <tbody>\n",
       "    <tr>\n",
       "      <th>0</th>\n",
       "      <td>1</td>\n",
       "      <td>0</td>\n",
       "      <td>NaN</td>\n",
       "      <td>1</td>\n",
       "      <td>0.0</td>\n",
       "      <td>0.00000</td>\n",
       "      <td>0.0</td>\n",
       "      <td>0.00000</td>\n",
       "      <td>106</td>\n",
       "      <td>106</td>\n",
       "      <td>0</td>\n",
       "      <td>0</td>\n",
       "      <td>169</td>\n",
       "      <td>2130</td>\n",
       "      <td>0</td>\n",
       "    </tr>\n",
       "    <tr>\n",
       "      <th>1</th>\n",
       "      <td>2</td>\n",
       "      <td>0</td>\n",
       "      <td>NaN</td>\n",
       "      <td>1</td>\n",
       "      <td>0.0</td>\n",
       "      <td>0.00000</td>\n",
       "      <td>0.0</td>\n",
       "      <td>0.00000</td>\n",
       "      <td>6</td>\n",
       "      <td>6</td>\n",
       "      <td>0</td>\n",
       "      <td>0</td>\n",
       "      <td>150</td>\n",
       "      <td>539</td>\n",
       "      <td>0</td>\n",
       "    </tr>\n",
       "    <tr>\n",
       "      <th>2</th>\n",
       "      <td>3</td>\n",
       "      <td>0</td>\n",
       "      <td>NaN</td>\n",
       "      <td>2</td>\n",
       "      <td>0.0</td>\n",
       "      <td>0.50000</td>\n",
       "      <td>0.0</td>\n",
       "      <td>-101.14930</td>\n",
       "      <td>101</td>\n",
       "      <td>101</td>\n",
       "      <td>0</td>\n",
       "      <td>1</td>\n",
       "      <td>103</td>\n",
       "      <td>362</td>\n",
       "      <td>0</td>\n",
       "    </tr>\n",
       "    <tr>\n",
       "      <th>3</th>\n",
       "      <td>4</td>\n",
       "      <td>0</td>\n",
       "      <td>NaN</td>\n",
       "      <td>1</td>\n",
       "      <td>0.0</td>\n",
       "      <td>0.00000</td>\n",
       "      <td>0.0</td>\n",
       "      <td>0.00000</td>\n",
       "      <td>42</td>\n",
       "      <td>42</td>\n",
       "      <td>0</td>\n",
       "      <td>0</td>\n",
       "      <td>17</td>\n",
       "      <td>35</td>\n",
       "      <td>0</td>\n",
       "    </tr>\n",
       "    <tr>\n",
       "      <th>4</th>\n",
       "      <td>5</td>\n",
       "      <td>0</td>\n",
       "      <td>NaN</td>\n",
       "      <td>3</td>\n",
       "      <td>0.0</td>\n",
       "      <td>45.47917</td>\n",
       "      <td>0.0</td>\n",
       "      <td>-34.14473</td>\n",
       "      <td>64</td>\n",
       "      <td>64</td>\n",
       "      <td>0</td>\n",
       "      <td>1</td>\n",
       "      <td>100</td>\n",
       "      <td>298</td>\n",
       "      <td>0</td>\n",
       "    </tr>\n",
       "  </tbody>\n",
       "</table>\n",
       "</div>"
      ],
      "text/plain": [
       "   Unnamed: 0  isbuyer  buy_freq  visit_freq  buy_interval  sv_interval  \\\n",
       "0           1        0       NaN           1           0.0      0.00000   \n",
       "1           2        0       NaN           1           0.0      0.00000   \n",
       "2           3        0       NaN           2           0.0      0.50000   \n",
       "3           4        0       NaN           1           0.0      0.00000   \n",
       "4           5        0       NaN           3           0.0     45.47917   \n",
       "\n",
       "   expected_time_buy  expected_time_visit  last_buy  last_visit  multiple_buy  \\\n",
       "0                0.0              0.00000       106         106             0   \n",
       "1                0.0              0.00000         6           6             0   \n",
       "2                0.0           -101.14930       101         101             0   \n",
       "3                0.0              0.00000        42          42             0   \n",
       "4                0.0            -34.14473        64          64             0   \n",
       "\n",
       "   multiple_visit  uniq_urls  num_checkins  y_buy  \n",
       "0               0        169          2130      0  \n",
       "1               0        150           539      0  \n",
       "2               1        103           362      0  \n",
       "3               0         17            35      0  \n",
       "4               1        100           298      0  "
      ]
     },
     "execution_count": 2,
     "metadata": {},
     "output_type": "execute_result"
    }
   ],
   "source": [
    "train = pd.read_csv('./data/ads_train.csv')\n",
    "train.head()"
   ]
  },
  {
   "cell_type": "markdown",
   "metadata": {},
   "source": [
    "# 2. Data Cleaning"
   ]
  },
  {
   "cell_type": "markdown",
   "metadata": {},
   "source": [
    "## 2.1 Preliminary process"
   ]
  },
  {
   "cell_type": "markdown",
   "metadata": {},
   "source": [
    "Delete first column, which is just record id column"
   ]
  },
  {
   "cell_type": "code",
   "execution_count": 3,
   "metadata": {},
   "outputs": [],
   "source": [
    "del train['Unnamed: 0']"
   ]
  },
  {
   "cell_type": "markdown",
   "metadata": {},
   "source": [
    "I suspect that there is something wrong with `last_buy` and `last_visit` column. So I took a look at the scatterplot."
   ]
  },
  {
   "cell_type": "code",
   "execution_count": 4,
   "metadata": {},
   "outputs": [
    {
     "data": {
      "text/plain": [
       "<seaborn.axisgrid.FacetGrid at 0x1a21ac7be0>"
      ]
     },
     "execution_count": 4,
     "metadata": {},
     "output_type": "execute_result"
    },
    {
     "data": {
      "image/png": "[encoded data removed]",
      "text/plain": [
       "<Figure size 360x360 with 1 Axes>"
      ]
     },
     "metadata": {},
     "output_type": "display_data"
    }
   ],
   "source": [
    "sns.lmplot(x=\"last_buy\", y=\"last_visit\", data=train)"
   ]
  },
  {
   "cell_type": "code",
   "execution_count": 5,
   "metadata": {},
   "outputs": [
    {
     "name": "stdout",
     "output_type": "stream",
     "text": [
      "There are  0  records with different last_buy and last_visit values\n"
     ]
    }
   ],
   "source": [
    "print('There are ', sum(train.last_buy != train.last_visit), ' records with different last_buy and last_visit values')"
   ]
  },
  {
   "cell_type": "markdown",
   "metadata": {},
   "source": [
    "<font color='blue'> Therefore, there might be either coding error or duplicated attributes for `last_buy` and `last_visit`. I would keep only one of them in the model </font>"
   ]
  },
  {
   "cell_type": "markdown",
   "metadata": {},
   "source": [
    "## 2.2 Missing Value /  Zero values"
   ]
  },
  {
   "cell_type": "code",
   "execution_count": 6,
   "metadata": {},
   "outputs": [
    {
     "data": {
      "text/html": [
       "<div>\n",
       "<style scoped>\n",
       "    .dataframe tbody tr th:only-of-type {\n",
       "        vertical-align: middle;\n",
       "    }\n",
       "\n",
       "    .dataframe tbody tr th {\n",
       "        vertical-align: top;\n",
       "    }\n",
       "\n",
       "    .dataframe thead th {\n",
       "        text-align: right;\n",
       "    }\n",
       "</style>\n",
       "<table border=\"1\" class=\"dataframe\">\n",
       "  <thead>\n",
       "    <tr style=\"text-align: right;\">\n",
       "      <th></th>\n",
       "      <th>isbuyer</th>\n",
       "      <th>buy_freq</th>\n",
       "      <th>visit_freq</th>\n",
       "      <th>buy_interval</th>\n",
       "      <th>sv_interval</th>\n",
       "      <th>expected_time_buy</th>\n",
       "      <th>expected_time_visit</th>\n",
       "      <th>last_buy</th>\n",
       "      <th>last_visit</th>\n",
       "      <th>multiple_buy</th>\n",
       "      <th>multiple_visit</th>\n",
       "      <th>uniq_urls</th>\n",
       "      <th>num_checkins</th>\n",
       "      <th>y_buy</th>\n",
       "    </tr>\n",
       "  </thead>\n",
       "  <tbody>\n",
       "    <tr>\n",
       "      <th>count</th>\n",
       "      <td>38209.000000</td>\n",
       "      <td>1620.000000</td>\n",
       "      <td>38209.000000</td>\n",
       "      <td>38209.000000</td>\n",
       "      <td>38209.000000</td>\n",
       "      <td>38209.000000</td>\n",
       "      <td>38209.000000</td>\n",
       "      <td>38209.000000</td>\n",
       "      <td>38209.000000</td>\n",
       "      <td>38209.000000</td>\n",
       "      <td>38209.000000</td>\n",
       "      <td>38209.000000</td>\n",
       "      <td>38209.000000</td>\n",
       "      <td>38209.000000</td>\n",
       "    </tr>\n",
       "    <tr>\n",
       "      <th>mean</th>\n",
       "      <td>0.042398</td>\n",
       "      <td>1.239506</td>\n",
       "      <td>1.868199</td>\n",
       "      <td>0.197411</td>\n",
       "      <td>5.862179</td>\n",
       "      <td>-0.174376</td>\n",
       "      <td>-10.136685</td>\n",
       "      <td>64.657384</td>\n",
       "      <td>64.657384</td>\n",
       "      <td>0.005967</td>\n",
       "      <td>0.277526</td>\n",
       "      <td>86.594624</td>\n",
       "      <td>723.834515</td>\n",
       "      <td>0.004502</td>\n",
       "    </tr>\n",
       "    <tr>\n",
       "      <th>std</th>\n",
       "      <td>0.201499</td>\n",
       "      <td>0.840259</td>\n",
       "      <td>2.996675</td>\n",
       "      <td>3.855662</td>\n",
       "      <td>17.726455</td>\n",
       "      <td>4.784059</td>\n",
       "      <td>31.796845</td>\n",
       "      <td>53.453475</td>\n",
       "      <td>53.453475</td>\n",
       "      <td>0.077018</td>\n",
       "      <td>0.447784</td>\n",
       "      <td>61.941089</td>\n",
       "      <td>1286.380572</td>\n",
       "      <td>0.066943</td>\n",
       "    </tr>\n",
       "    <tr>\n",
       "      <th>min</th>\n",
       "      <td>0.000000</td>\n",
       "      <td>1.000000</td>\n",
       "      <td>0.000000</td>\n",
       "      <td>0.000000</td>\n",
       "      <td>0.000000</td>\n",
       "      <td>-181.923800</td>\n",
       "      <td>-187.615600</td>\n",
       "      <td>0.000000</td>\n",
       "      <td>0.000000</td>\n",
       "      <td>0.000000</td>\n",
       "      <td>0.000000</td>\n",
       "      <td>-1.000000</td>\n",
       "      <td>1.000000</td>\n",
       "      <td>0.000000</td>\n",
       "    </tr>\n",
       "    <tr>\n",
       "      <th>25%</th>\n",
       "      <td>0.000000</td>\n",
       "      <td>1.000000</td>\n",
       "      <td>1.000000</td>\n",
       "      <td>0.000000</td>\n",
       "      <td>0.000000</td>\n",
       "      <td>0.000000</td>\n",
       "      <td>0.000000</td>\n",
       "      <td>18.000000</td>\n",
       "      <td>18.000000</td>\n",
       "      <td>0.000000</td>\n",
       "      <td>0.000000</td>\n",
       "      <td>30.000000</td>\n",
       "      <td>127.000000</td>\n",
       "      <td>0.000000</td>\n",
       "    </tr>\n",
       "    <tr>\n",
       "      <th>50%</th>\n",
       "      <td>0.000000</td>\n",
       "      <td>1.000000</td>\n",
       "      <td>1.000000</td>\n",
       "      <td>0.000000</td>\n",
       "      <td>0.000000</td>\n",
       "      <td>0.000000</td>\n",
       "      <td>0.000000</td>\n",
       "      <td>50.000000</td>\n",
       "      <td>50.000000</td>\n",
       "      <td>0.000000</td>\n",
       "      <td>0.000000</td>\n",
       "      <td>75.000000</td>\n",
       "      <td>319.000000</td>\n",
       "      <td>0.000000</td>\n",
       "    </tr>\n",
       "    <tr>\n",
       "      <th>75%</th>\n",
       "      <td>0.000000</td>\n",
       "      <td>1.000000</td>\n",
       "      <td>2.000000</td>\n",
       "      <td>0.000000</td>\n",
       "      <td>0.125000</td>\n",
       "      <td>0.000000</td>\n",
       "      <td>0.000000</td>\n",
       "      <td>105.000000</td>\n",
       "      <td>105.000000</td>\n",
       "      <td>0.000000</td>\n",
       "      <td>1.000000</td>\n",
       "      <td>155.000000</td>\n",
       "      <td>803.000000</td>\n",
       "      <td>0.000000</td>\n",
       "    </tr>\n",
       "    <tr>\n",
       "      <th>max</th>\n",
       "      <td>1.000000</td>\n",
       "      <td>15.000000</td>\n",
       "      <td>84.000000</td>\n",
       "      <td>174.625000</td>\n",
       "      <td>184.916700</td>\n",
       "      <td>84.285710</td>\n",
       "      <td>91.401920</td>\n",
       "      <td>188.000000</td>\n",
       "      <td>188.000000</td>\n",
       "      <td>1.000000</td>\n",
       "      <td>1.000000</td>\n",
       "      <td>206.000000</td>\n",
       "      <td>37091.000000</td>\n",
       "      <td>1.000000</td>\n",
       "    </tr>\n",
       "  </tbody>\n",
       "</table>\n",
       "</div>"
      ],
      "text/plain": [
       "            isbuyer     buy_freq    visit_freq  buy_interval   sv_interval  \\\n",
       "count  38209.000000  1620.000000  38209.000000  38209.000000  38209.000000   \n",
       "mean       0.042398     1.239506      1.868199      0.197411      5.862179   \n",
       "std        0.201499     0.840259      2.996675      3.855662     17.726455   \n",
       "min        0.000000     1.000000      0.000000      0.000000      0.000000   \n",
       "25%        0.000000     1.000000      1.000000      0.000000      0.000000   \n",
       "50%        0.000000     1.000000      1.000000      0.000000      0.000000   \n",
       "75%        0.000000     1.000000      2.000000      0.000000      0.125000   \n",
       "max        1.000000    15.000000     84.000000    174.625000    184.916700   \n",
       "\n",
       "       expected_time_buy  expected_time_visit      last_buy    last_visit  \\\n",
       "count       38209.000000         38209.000000  38209.000000  38209.000000   \n",
       "mean           -0.174376           -10.136685     64.657384     64.657384   \n",
       "std             4.784059            31.796845     53.453475     53.453475   \n",
       "min          -181.923800          -187.615600      0.000000      0.000000   \n",
       "25%             0.000000             0.000000     18.000000     18.000000   \n",
       "50%             0.000000             0.000000     50.000000     50.000000   \n",
       "75%             0.000000             0.000000    105.000000    105.000000   \n",
       "max            84.285710            91.401920    188.000000    188.000000   \n",
       "\n",
       "       multiple_buy  multiple_visit     uniq_urls  num_checkins         y_buy  \n",
       "count  38209.000000    38209.000000  38209.000000  38209.000000  38209.000000  \n",
       "mean       0.005967        0.277526     86.594624    723.834515      0.004502  \n",
       "std        0.077018        0.447784     61.941089   1286.380572      0.066943  \n",
       "min        0.000000        0.000000     -1.000000      1.000000      0.000000  \n",
       "25%        0.000000        0.000000     30.000000    127.000000      0.000000  \n",
       "50%        0.000000        0.000000     75.000000    319.000000      0.000000  \n",
       "75%        0.000000        1.000000    155.000000    803.000000      0.000000  \n",
       "max        1.000000        1.000000    206.000000  37091.000000      1.000000  "
      ]
     },
     "execution_count": 6,
     "metadata": {},
     "output_type": "execute_result"
    }
   ],
   "source": [
    "train.describe()"
   ]
  },
  {
   "cell_type": "markdown",
   "metadata": {},
   "source": [
    "- The `uniq_urls` column should not have negative values. There might be some unknown reason for coding them as '-1'. \n",
    "- I added another column `na_uniq_urls` to capture the unknown factor."
   ]
  },
  {
   "cell_type": "code",
   "execution_count": 7,
   "metadata": {},
   "outputs": [],
   "source": [
    "train['na_uniq_urls'] = train['uniq_urls'].map(lambda x: 1 if x == -1 else 0)"
   ]
  },
  {
   "cell_type": "markdown",
   "metadata": {},
   "source": [
    "---"
   ]
  },
  {
   "cell_type": "markdown",
   "metadata": {},
   "source": [
    "The first step is to investigate the missing values/ zero values in the dataset."
   ]
  },
  {
   "cell_type": "code",
   "execution_count": 8,
   "metadata": {},
   "outputs": [
    {
     "name": "stdout",
     "output_type": "stream",
     "text": [
      "----The training set has a total of 38209 records----\n",
      "\n",
      "----Perent of missing values----\n"
     ]
    },
    {
     "data": {
      "text/plain": [
       "isbuyer                 0.000000\n",
       "buy_freq               95.760161\n",
       "visit_freq              0.000000\n",
       "buy_interval            0.000000\n",
       "sv_interval             0.000000\n",
       "expected_time_buy       0.000000\n",
       "expected_time_visit     0.000000\n",
       "last_buy                0.000000\n",
       "last_visit              0.000000\n",
       "multiple_buy            0.000000\n",
       "multiple_visit          0.000000\n",
       "uniq_urls               0.000000\n",
       "num_checkins            0.000000\n",
       "y_buy                   0.000000\n",
       "na_uniq_urls            0.000000\n",
       "dtype: float64"
      ]
     },
     "execution_count": 8,
     "metadata": {},
     "output_type": "execute_result"
    }
   ],
   "source": [
    "print('----The training set has a total of {0} records----\\n'.format(len(train)))\n",
    "print('----Perent of missing values----')\n",
    "train.isnull().sum()/len(train)*100"
   ]
  },
  {
   "cell_type": "markdown",
   "metadata": {},
   "source": [
    "***Finding***: Only `buy_freq` column has **NA** value."
   ]
  },
  {
   "cell_type": "markdown",
   "metadata": {},
   "source": [
    "Then take a look at zero values"
   ]
  },
  {
   "cell_type": "code",
   "execution_count": 9,
   "metadata": {},
   "outputs": [
    {
     "name": "stdout",
     "output_type": "stream",
     "text": [
      "----Perent of zero values----\n"
     ]
    },
    {
     "data": {
      "text/plain": [
       "isbuyer                95.760161\n",
       "buy_freq                0.000000\n",
       "visit_freq              0.164883\n",
       "buy_interval           99.403282\n",
       "sv_interval            72.247376\n",
       "expected_time_buy      99.403282\n",
       "expected_time_visit    72.247376\n",
       "last_buy                3.266246\n",
       "last_visit              3.266246\n",
       "multiple_buy           99.403282\n",
       "multiple_visit         72.247376\n",
       "uniq_urls               1.300741\n",
       "num_checkins            0.000000\n",
       "y_buy                  99.549844\n",
       "na_uniq_urls           98.484650\n",
       "dtype: float64"
      ]
     },
     "execution_count": 9,
     "metadata": {},
     "output_type": "execute_result"
    }
   ],
   "source": [
    "print('----Perent of zero values----')\n",
    "(train==0).sum()/len(train)*100"
   ]
  },
  {
   "cell_type": "markdown",
   "metadata": {},
   "source": [
    "Some of the attributes with **NA** or **0** values may have some special indications. \n",
    "\n",
    "\n",
    "First take a look at ***buy*** behavior."
   ]
  },
  {
   "cell_type": "code",
   "execution_count": 10,
   "metadata": {},
   "outputs": [],
   "source": [
    "NumNonZero = lambda x: sum(x != 0)"
   ]
  },
  {
   "cell_type": "code",
   "execution_count": 11,
   "metadata": {},
   "outputs": [
    {
     "data": {
      "text/html": [
       "<div>\n",
       "<style scoped>\n",
       "    .dataframe tbody tr th:only-of-type {\n",
       "        vertical-align: middle;\n",
       "    }\n",
       "\n",
       "    .dataframe tbody tr th {\n",
       "        vertical-align: top;\n",
       "    }\n",
       "\n",
       "    .dataframe thead th {\n",
       "        text-align: right;\n",
       "    }\n",
       "</style>\n",
       "<table border=\"1\" class=\"dataframe\">\n",
       "  <thead>\n",
       "    <tr style=\"text-align: right;\">\n",
       "      <th></th>\n",
       "      <th>isbuyer</th>\n",
       "      <th>expected_time_buy</th>\n",
       "      <th>buy_interval</th>\n",
       "      <th>multiple_buy</th>\n",
       "    </tr>\n",
       "    <tr>\n",
       "      <th>buy_freq_discrete</th>\n",
       "      <th></th>\n",
       "      <th></th>\n",
       "      <th></th>\n",
       "      <th></th>\n",
       "    </tr>\n",
       "  </thead>\n",
       "  <tbody>\n",
       "    <tr>\n",
       "      <th>=1</th>\n",
       "      <td>1392</td>\n",
       "      <td>0.0</td>\n",
       "      <td>0.0</td>\n",
       "      <td>0</td>\n",
       "    </tr>\n",
       "    <tr>\n",
       "      <th>&gt;=2</th>\n",
       "      <td>228</td>\n",
       "      <td>228.0</td>\n",
       "      <td>228.0</td>\n",
       "      <td>228</td>\n",
       "    </tr>\n",
       "    <tr>\n",
       "      <th>NA</th>\n",
       "      <td>0</td>\n",
       "      <td>0.0</td>\n",
       "      <td>0.0</td>\n",
       "      <td>0</td>\n",
       "    </tr>\n",
       "  </tbody>\n",
       "</table>\n",
       "</div>"
      ],
      "text/plain": [
       "                   isbuyer  expected_time_buy  buy_interval  multiple_buy\n",
       "buy_freq_discrete                                                        \n",
       "=1                    1392                0.0           0.0             0\n",
       ">=2                    228              228.0         228.0           228\n",
       "NA                       0                0.0           0.0             0"
      ]
     },
     "execution_count": 11,
     "metadata": {},
     "output_type": "execute_result"
    }
   ],
   "source": [
    "train['buy_freq_discrete'] = train['buy_freq'].map(\n",
    "            lambda x: 'NA' if np.isnan(x) else ('=1' if x == 1 else '>=2'))\n",
    "train.groupby('buy_freq_discrete').agg({'isbuyer':NumNonZero,\n",
    "            'expected_time_buy': NumNonZero,\n",
    "            'buy_interval': NumNonZero,\n",
    "            'multiple_buy': NumNonZero})"
   ]
  },
  {
   "cell_type": "markdown",
   "metadata": {},
   "source": [
    "The conclusion from the table above is:\n",
    "- If `buy_freq` is **NA** or **1** / `multiple_buy` is **0**, then `expected_time_buy` and `buy_interval` are **0**. \n",
    "- We can fill in the **NA** on `buy_freq` with **0**. "
   ]
  },
  {
   "cell_type": "code",
   "execution_count": 12,
   "metadata": {},
   "outputs": [],
   "source": [
    "train['buy_freq'] = train['buy_freq'].fillna(0)"
   ]
  },
  {
   "cell_type": "markdown",
   "metadata": {},
   "source": [
    "<font color=blue>**multiple_buy: If there are more than one past purchase, the value is 1. Else the value is 0. **</font>"
   ]
  },
  {
   "cell_type": "markdown",
   "metadata": {},
   "source": [
    "---"
   ]
  },
  {
   "cell_type": "markdown",
   "metadata": {},
   "source": [
    "Then take a look at ***visit*** behavior."
   ]
  },
  {
   "cell_type": "code",
   "execution_count": 13,
   "metadata": {},
   "outputs": [
    {
     "data": {
      "text/html": [
       "<div>\n",
       "<style scoped>\n",
       "    .dataframe tbody tr th:only-of-type {\n",
       "        vertical-align: middle;\n",
       "    }\n",
       "\n",
       "    .dataframe tbody tr th {\n",
       "        vertical-align: top;\n",
       "    }\n",
       "\n",
       "    .dataframe thead th {\n",
       "        text-align: right;\n",
       "    }\n",
       "</style>\n",
       "<table border=\"1\" class=\"dataframe\">\n",
       "  <thead>\n",
       "    <tr style=\"text-align: right;\">\n",
       "      <th></th>\n",
       "      <th>expected_time_visit</th>\n",
       "      <th>sv_interval</th>\n",
       "      <th>multiple_visit</th>\n",
       "      <th>last_visit</th>\n",
       "    </tr>\n",
       "    <tr>\n",
       "      <th>visit_freq_discrete</th>\n",
       "      <th></th>\n",
       "      <th></th>\n",
       "      <th></th>\n",
       "      <th></th>\n",
       "    </tr>\n",
       "  </thead>\n",
       "  <tbody>\n",
       "    <tr>\n",
       "      <th>=1</th>\n",
       "      <td>0.0</td>\n",
       "      <td>0.0</td>\n",
       "      <td>0</td>\n",
       "      <td>27021</td>\n",
       "    </tr>\n",
       "    <tr>\n",
       "      <th>&gt;=2</th>\n",
       "      <td>10604.0</td>\n",
       "      <td>10604.0</td>\n",
       "      <td>10604</td>\n",
       "      <td>9940</td>\n",
       "    </tr>\n",
       "    <tr>\n",
       "      <th>Zero</th>\n",
       "      <td>0.0</td>\n",
       "      <td>0.0</td>\n",
       "      <td>0</td>\n",
       "      <td>0</td>\n",
       "    </tr>\n",
       "  </tbody>\n",
       "</table>\n",
       "</div>"
      ],
      "text/plain": [
       "                     expected_time_visit  sv_interval  multiple_visit  \\\n",
       "visit_freq_discrete                                                     \n",
       "=1                                   0.0          0.0               0   \n",
       ">=2                              10604.0      10604.0           10604   \n",
       "Zero                                 0.0          0.0               0   \n",
       "\n",
       "                     last_visit  \n",
       "visit_freq_discrete              \n",
       "=1                        27021  \n",
       ">=2                        9940  \n",
       "Zero                          0  "
      ]
     },
     "execution_count": 13,
     "metadata": {},
     "output_type": "execute_result"
    }
   ],
   "source": [
    "train['visit_freq_discrete'] = train['visit_freq'].map(\n",
    "            lambda x: 'Zero' if x == 0 else ( '=1' if x == 1 else '>=2'))\n",
    "train.groupby('visit_freq_discrete').agg({\n",
    "            'expected_time_visit': NumNonZero,\n",
    "            'sv_interval': NumNonZero,\n",
    "            'multiple_visit': NumNonZero,\n",
    "            'last_visit': NumNonZero})"
   ]
  },
  {
   "cell_type": "markdown",
   "metadata": {},
   "source": [
    "The conclusion from the table above is similar:\n",
    "- If `visit_freq` is **0** or **1** / `multiple_visit` is **0**, then `expected_time_visit` and `sv_interval` are **0**. "
   ]
  },
  {
   "cell_type": "markdown",
   "metadata": {},
   "source": [
    "<font color=blue>**multiple_visit: If there are more than one past visit, the value is 1. Else the value is 0.**</font>"
   ]
  },
  {
   "cell_type": "markdown",
   "metadata": {},
   "source": [
    "## 2.3 Attribute correlations"
   ]
  },
  {
   "cell_type": "code",
   "execution_count": 14,
   "metadata": {},
   "outputs": [],
   "source": [
    "train['last_buy + expected_time_buy'] = train['last_buy'] + train['expected_time_buy']\n",
    "train['last_visit + expected_time_visit'] = train['last_visit'] + train['expected_time_visit']"
   ]
  },
  {
   "cell_type": "code",
   "execution_count": 15,
   "metadata": {},
   "outputs": [
    {
     "data": {
      "text/plain": [
       "<seaborn.axisgrid.FacetGrid at 0x1a235ce8d0>"
      ]
     },
     "execution_count": 15,
     "metadata": {},
     "output_type": "execute_result"
    },
    {
     "data": {
      "image/png": "[encoded data removed]",
      "text/plain": [
       "<Figure size 360x360 with 1 Axes>"
      ]
     },
     "metadata": {},
     "output_type": "display_data"
    }
   ],
   "source": [
    "sns.lmplot(x=\"sv_interval\", y = 'last_visit + expected_time_visit', data = train[train.expected_time_visit > 0])"
   ]
  },
  {
   "cell_type": "code",
   "execution_count": 16,
   "metadata": {
    "scrolled": false
   },
   "outputs": [
    {
     "data": {
      "text/plain": [
       "<seaborn.axisgrid.FacetGrid at 0x1a234f36a0>"
      ]
     },
     "execution_count": 16,
     "metadata": {},
     "output_type": "execute_result"
    },
    {
     "data": {
      "image/png": "[encoded data removed]",
      "text/plain": [
       "<Figure size 360x360 with 1 Axes>"
      ]
     },
     "metadata": {},
     "output_type": "display_data"
    }
   ],
   "source": [
    "sns.lmplot(x=\"buy_interval\", y = 'last_buy + expected_time_buy', data = train[train.expected_time_buy > 0])"
   ]
  },
  {
   "cell_type": "markdown",
   "metadata": {},
   "source": [
    "There seem to be some linear relationships between:\n",
    "- (`last_buy` + `expected_time_buy`) and `buy_interval`\n",
    "- (`last_visit` + `expected_time_visit`) and `sv_interval`\n",
    "\n",
    "So it can be inferred that:\n",
    "- <font color=blue>**expected_time_buy**</font>: \n",
    "\n",
    "\n",
    "  * <font color=blue>If there is no more than one past purchase, value is 0.</font>\n",
    "  \n",
    "  * <font color=blue>If there is >=2 past purchases, then it represents the expected offset in days that a purchase should happen. The expectation is calculated based on past purchase intervals.</font>\n",
    "    \n",
    "  * <font color=blue>For example, \"+5\" means that a purchase is expected to happen 5 days later. \"-5\" means that a purchase is expected to happen 5 days earlier.</font>\n",
    "  \n",
    "- <font color=blue>**expected_time_visit**</font>: \n",
    "\n",
    "\n",
    "  * <font color=blue>If there is no more than one past visit, value is 0.</font>\n",
    "  \n",
    "  * <font color=blue>If there is >=2 past visits, then it represents the expected offset in days that a visit should happen. The expectation is calculated based on past visit intervals.</font>\n",
    "    \n",
    "  * <font color=blue>For example, \"+5\" means that a visit is expected to happen 5 days later. \"-5\" means that a visit is expected to happen 5 days earlier.</font>"
   ]
  },
  {
   "cell_type": "markdown",
   "metadata": {},
   "source": [
    "# 3. Exploratory Analysis"
   ]
  },
  {
   "cell_type": "markdown",
   "metadata": {},
   "source": [
    "First let's define ***categorical*** and ***continuous*** attributes:"
   ]
  },
  {
   "cell_type": "code",
   "execution_count": 17,
   "metadata": {},
   "outputs": [],
   "source": [
    "categ_cols = ['isbuyer','multiple_buy','multiple_visit','na_uniq_urls']\n",
    "conti_cols_buy = ['buy_freq','buy_interval','expected_time_buy', 'last_buy']\n",
    "conti_cols_visit = ['visit_freq', 'sv_interval','expected_time_visit', 'last_visit']\n",
    "conti_cols_other =['uniq_urls','num_checkins']\n",
    "conti_cols =conti_cols_buy + conti_cols_visit + conti_cols_other\n",
    "conti_cols =[x for x in conti_cols if x != 'last_buy'] # delete a duplicated/redundant attribute"
   ]
  },
  {
   "cell_type": "markdown",
   "metadata": {},
   "source": [
    "Next take a look at the boxplot of all continuous variables. Note that zero values are excluded because they have special indication."
   ]
  },
  {
   "cell_type": "code",
   "execution_count": 18,
   "metadata": {},
   "outputs": [
    {
     "data": {
      "image/png": "[encoded data removed]",
      "text/plain": [
       "<Figure size 720x576 with 9 Axes>"
      ]
     },
     "metadata": {},
     "output_type": "display_data"
    }
   ],
   "source": [
    "plt.figure(figsize=(10,8))\n",
    "fig_no=1\n",
    "for column in conti_cols:\n",
    "    plt.subplot(6,2,fig_no)\n",
    "    sns.boxplot(x=column, data=train[train[column]>0], width=0.5);\n",
    "    fig_no+=1 \n",
    "plt.tight_layout()"
   ]
  },
  {
   "cell_type": "markdown",
   "metadata": {},
   "source": [
    "- Some variables such as `num_checkins`, `visit_freq`, `sv_interval` have quite a few extreme data points. The disribution of these attributes has a long right tail. \n",
    "- For now, I choose not to transform / remove outliers. I would prefer selecting model types more robust to outliers."
   ]
  },
  {
   "cell_type": "markdown",
   "metadata": {},
   "source": [
    "---"
   ]
  },
  {
   "cell_type": "markdown",
   "metadata": {},
   "source": [
    "Now I would like to take a look at how the distributions of these attributes vary between buyers and non-buyers based on their past behavior."
   ]
  },
  {
   "cell_type": "code",
   "execution_count": 19,
   "metadata": {},
   "outputs": [
    {
     "data": {
      "image/png": "[encoded data removed]",
      "text/plain": [
       "<Figure size 720x1080 with 4 Axes>"
      ]
     },
     "metadata": {},
     "output_type": "display_data"
    }
   ],
   "source": [
    "train['y_buy_label'] = train['y_buy'].map(lambda x : 'Y=1' if x == 1 else 'Y=0')\n",
    "plt.figure(figsize=(10,15))\n",
    "fig_no=1\n",
    "for column in conti_cols_buy:\n",
    "    plt.subplot(6,2,fig_no)\n",
    "    sns.boxplot(x=column, y='buy_freq_discrete', hue = 'y_buy_label', data=train, width=0.5);\n",
    "    fig_no+=1 \n",
    "    plt.ylabel('Past Buy')\n",
    "    plt.legend(loc='upper right')\n",
    "plt.tight_layout()"
   ]
  },
  {
   "cell_type": "markdown",
   "metadata": {},
   "source": [
    "- From the bottom right, we may find that actual buyers may have a smaller value on `last_buy` (i.e., they just made a  purchase recently)"
   ]
  },
  {
   "cell_type": "markdown",
   "metadata": {},
   "source": [
    "---"
   ]
  },
  {
   "cell_type": "code",
   "execution_count": 20,
   "metadata": {},
   "outputs": [
    {
     "data": {
      "image/png": "[encoded data removed]",
      "text/plain": [
       "<Figure size 720x1080 with 4 Axes>"
      ]
     },
     "metadata": {},
     "output_type": "display_data"
    }
   ],
   "source": [
    "plt.figure(figsize=(10,15))\n",
    "fig_no=1\n",
    "for column in conti_cols_visit:\n",
    "    plt.subplot(6,2,fig_no)\n",
    "    sns.boxplot(x=column, y='visit_freq_discrete', hue = 'y_buy_label', data=train, width=0.5);\n",
    "    fig_no+=1 \n",
    "    plt.ylabel('Past Visit')\n",
    "    plt.legend(loc='lower right')\n",
    "plt.tight_layout()"
   ]
  },
  {
   "cell_type": "markdown",
   "metadata": {},
   "source": [
    "- From top two figures, we may find that actual buyers may have higher `visit_freq` and lower `sv_interval`.\n",
    "- From the bottom left, we may find that actual buyers may have a smaller value on `expected_time_visit` (i.e, they are expected to have a visit earlier )\n",
    "- From the bottom right, we may find that actual buyer may have a smaller value on `last_visit` (i.e., they just made a visit recently)"
   ]
  },
  {
   "cell_type": "markdown",
   "metadata": {},
   "source": [
    "---"
   ]
  },
  {
   "cell_type": "markdown",
   "metadata": {},
   "source": [
    "- Below is a figure to demonstrate the distribution of categorical variables for all actual buyers (`y_buy`=1) \n",
    "- We may find that value **1** on all of the three attributes: `isbuyer`, `multiple_buy` and `multiple_visit` is very likely to increase chances of `y_buy`."
   ]
  },
  {
   "cell_type": "code",
   "execution_count": 21,
   "metadata": {},
   "outputs": [
    {
     "data": {
      "image/png": "[encoded data removed]",
      "text/plain": [
       "<Figure size 1440x360 with 4 Axes>"
      ]
     },
     "metadata": {},
     "output_type": "display_data"
    }
   ],
   "source": [
    "plt.figure(figsize=(20, 5))\n",
    "fig_no=1\n",
    "for column in categ_cols:\n",
    "    plt.subplot(1,4,fig_no)\n",
    "    sns.barplot(x=column, y='y_buy', data=train, estimator = np.mean, ci = None, color='seagreen')\n",
    "    fig_no+=1\n",
    "    plt.ylabel('Percent of actual buyers (y=1)')\n",
    "plt.tight_layout()"
   ]
  },
  {
   "cell_type": "markdown",
   "metadata": {},
   "source": [
    "# 4. Modelling"
   ]
  },
  {
   "cell_type": "code",
   "execution_count": 22,
   "metadata": {},
   "outputs": [
    {
     "name": "stderr",
     "output_type": "stream",
     "text": [
      "/Users/shiwang/anaconda3/lib/python3.6/site-packages/sklearn/ensemble/weight_boosting.py:29: DeprecationWarning: numpy.core.umath_tests is an internal NumPy module and should not be imported. It will be removed in a future NumPy release.\n",
      "  from numpy.core.umath_tests import inner1d\n"
     ]
    }
   ],
   "source": [
    "from sklearn import preprocessing\n",
    "from sklearn import linear_model\n",
    "from sklearn import metrics\n",
    "from sklearn.feature_selection import SelectFromModel\n",
    "from sklearn.model_selection import train_test_split, GridSearchCV\n",
    "from sklearn.linear_model import LogisticRegression, LogisticRegressionCV\n",
    "from sklearn.metrics import confusion_matrix,accuracy_score, roc_curve,auc, precision_score, recall_score, f1_score\n",
    "from sklearn.ensemble import GradientBoostingClassifier"
   ]
  },
  {
   "cell_type": "markdown",
   "metadata": {},
   "source": [
    "## 4.1 Evaluation Metric"
   ]
  },
  {
   "cell_type": "markdown",
   "metadata": {},
   "source": [
    "The following evaluation metric is considered:\n",
    "- AUC (Area Under Curve)\n",
    "\n",
    "It should be noted that in our training set, there are less than one percent actual buyers, so the classes are not balanced. Just using accuracy fails to account for the class imbalance. \n",
    "- AUC describes the probability that a randomly chosen positive example ranks above a randomly chosen negative example. ROC curve and AUC value will be a better option to select between models and tune model parameters."
   ]
  },
  {
   "cell_type": "markdown",
   "metadata": {},
   "source": [
    "## 4.2 Model 1 - logistic regression"
   ]
  },
  {
   "cell_type": "markdown",
   "metadata": {},
   "source": [
    "I would like to start with logistic regression:\n",
    "- Logistic regression is a typical type of regression having a binary response variable.\n",
    "- Feature selection with Lasso can be combined with logistic regression to avoid over-fitting\n",
    "- The estimated coefficients are more interpretable compared with other methods.\n"
   ]
  },
  {
   "cell_type": "markdown",
   "metadata": {},
   "source": [
    "- The lasso regularization imposes penalty with same weights on the coefficients, so the variables need to be standardized for training. \n",
    "- **`GridCV`** is used to find the best regularization parameter by implementing a grid search for C using 5-fold cross-validation. AUC value is used as the score to select best parameter."
   ]
  },
  {
   "cell_type": "markdown",
   "metadata": {},
   "source": [
    "***Prepare Input data***"
   ]
  },
  {
   "cell_type": "code",
   "execution_count": 23,
   "metadata": {},
   "outputs": [],
   "source": [
    "X_train = train[categ_cols + conti_cols]\n",
    "y_train = train['y_buy']"
   ]
  },
  {
   "cell_type": "markdown",
   "metadata": {},
   "source": [
    "***Perform 5-fold CV to select best penalty parameter***"
   ]
  },
  {
   "cell_type": "markdown",
   "metadata": {},
   "source": [
    "Define possible C values from $10^{-4}$ to $10^4$"
   ]
  },
  {
   "cell_type": "code",
   "execution_count": 24,
   "metadata": {},
   "outputs": [
    {
     "data": {
      "text/plain": [
       "[0.0001, 0.001, 0.01, 0.1, 1, 10, 100, 1000, 10000]"
      ]
     },
     "execution_count": 24,
     "metadata": {},
     "output_type": "execute_result"
    }
   ],
   "source": [
    "param_test_lr =  {'C' :[10 ** x for x in list(range(-4,5,1))]}\n",
    "param_test_lr['C']"
   ]
  },
  {
   "cell_type": "markdown",
   "metadata": {},
   "source": [
    "***Account for imbalanced class by assigning `class_weight` to be \"balanced\"***"
   ]
  },
  {
   "cell_type": "markdown",
   "metadata": {},
   "source": [
    "Run GridCV with performance metric **AUC**"
   ]
  },
  {
   "cell_type": "code",
   "execution_count": 25,
   "metadata": {},
   "outputs": [
    {
     "data": {
      "text/plain": [
       "GridSearchCV(cv=5, error_score='raise',\n",
       "       estimator=LogisticRegression(C=1.0, class_weight='balanced', dual=False,\n",
       "          fit_intercept=True, intercept_scaling=1, max_iter=1000,\n",
       "          multi_class='ovr', n_jobs=1, penalty='l1', random_state=None,\n",
       "          solver='liblinear', tol=0.0001, verbose=0, warm_start=False),\n",
       "       fit_params=None, iid=True, n_jobs=4,\n",
       "       param_grid={'C': [0.0001, 0.001, 0.01, 0.1, 1, 10, 100, 1000, 10000]},\n",
       "       pre_dispatch='2*n_jobs', refit='AUC', return_train_score='warn',\n",
       "       scoring={'AUC': 'roc_auc'}, verbose=0)"
      ]
     },
     "execution_count": 25,
     "metadata": {},
     "output_type": "execute_result"
    }
   ],
   "source": [
    "gsearch_lr = GridSearchCV(estimator = LogisticRegression( \n",
    "        penalty='l1', \n",
    "        solver='liblinear',\n",
    "        max_iter=1000,\n",
    "        class_weight = 'balanced'\n",
    "    ),                   \n",
    "    param_grid = param_test_lr, \n",
    "    scoring = {'AUC': 'roc_auc'},\n",
    "    cv = 5,\n",
    "    n_jobs = 4, \n",
    "    refit = 'AUC')\n",
    "\n",
    "gsearch_lr.fit(X_train / np.std(X_train, 0),y_train)"
   ]
  },
  {
   "cell_type": "markdown",
   "metadata": {},
   "source": [
    "***Visualize the effect of C***"
   ]
  },
  {
   "cell_type": "code",
   "execution_count": 26,
   "metadata": {},
   "outputs": [
    {
     "data": {
      "image/png": "[encoded data removed]",
      "text/plain": [
       "<Figure size 936x504 with 1 Axes>"
      ]
     },
     "metadata": {},
     "output_type": "display_data"
    }
   ],
   "source": [
    "plt.figure(figsize=(13, 7))\n",
    "plt.xlabel(\"Regularization Parameter\")\n",
    "plt.ylabel(\"Score\")\n",
    "plt.grid()\n",
    "\n",
    "scoring={'AUC': 'f1'}\n",
    "ax = plt.axes()\n",
    "results = gsearch_lr.cv_results_\n",
    "\n",
    "# Get the regular numpy array from the MaskedArray\n",
    "X_axis = np.log10( np.array(results['param_C'].data, dtype=float))\n",
    "\n",
    "for scorer, color, fig_no, ylim in zip(sorted(scoring), ['g'],[1],[[0.7,0.9]]):\n",
    "\n",
    "    for sample, style in (('train', '--'), ('test', '-')):\n",
    "        ax = plt.subplot(1,2,fig_no)\n",
    "        ax.set_ylim(ylim)\n",
    "        sample_score_mean = results['mean_%s_%s' % (sample, scorer)]\n",
    "        sample_score_std = results['std_%s_%s' % (sample, scorer)]\n",
    "        ax.fill_between(X_axis, sample_score_mean - sample_score_std,\n",
    "                        sample_score_mean + sample_score_std,\n",
    "                        alpha=0.1 if sample == 'test' else 0, color=color)\n",
    "        ax.plot(X_axis, sample_score_mean, style, color=color,\n",
    "                alpha=1 if sample == 'test' else 0.7,\n",
    "                label=\"%s (%s)\" % (scorer, sample))\n",
    "\n",
    "    best_index = np.nonzero(results['rank_test_%s' % scorer] == 1)[0][0]\n",
    "    best_score = results['mean_test_%s' % scorer][best_index]\n",
    "\n",
    "    # Plot a dotted vertical line at the best score for that scorer marked by x\n",
    "    ax.plot([X_axis[best_index], ] * 2, [0, best_score],\n",
    "            linestyle='-.', color=color, marker='x', markeredgewidth=3, ms=8)\n",
    "\n",
    "    # Annotate the best score for that scorer\n",
    "    ax.annotate(\"%0.3f\" % best_score,\n",
    "                (X_axis[best_index], best_score + 0.005))\n",
    "    ax.legend(loc=\"best\")\n",
    "    plt.xlabel(\"log(Regularization Param C)\")\n",
    "    \n",
    "plt.grid('off')\n",
    "plt.show()"
   ]
  },
  {
   "cell_type": "markdown",
   "metadata": {},
   "source": [
    "***Select the best C to maximize AUC***"
   ]
  },
  {
   "cell_type": "code",
   "execution_count": 27,
   "metadata": {},
   "outputs": [
    {
     "name": "stdout",
     "output_type": "stream",
     "text": [
      "The best C is 0.001\n"
     ]
    }
   ],
   "source": [
    "best_C = gsearch_lr.best_params_['C']\n",
    "print('The best C is '+ str(best_C))"
   ]
  },
  {
   "cell_type": "code",
   "execution_count": 28,
   "metadata": {},
   "outputs": [
    {
     "name": "stdout",
     "output_type": "stream",
     "text": [
      "The best AUC is 0.854087067738905\n"
     ]
    }
   ],
   "source": [
    "best_AUC_lr = gsearch_lr.best_score_\n",
    "print('The best AUC is '+ str(best_AUC_lr))                                                      "
   ]
  },
  {
   "cell_type": "markdown",
   "metadata": {},
   "source": [
    "***Refit the model with best `C`***"
   ]
  },
  {
   "cell_type": "code",
   "execution_count": 29,
   "metadata": {},
   "outputs": [],
   "source": [
    "lr_ = LogisticRegression(penalty='l1', solver='liblinear', C=best_C, max_iter=1000,class_weight = 'balanced')\n",
    "lr_ = lr_.fit(X = X_train / np.std(X_train, 0), y = y_train)"
   ]
  },
  {
   "cell_type": "markdown",
   "metadata": {},
   "source": [
    "***Study attribute weights***"
   ]
  },
  {
   "cell_type": "code",
   "execution_count": 30,
   "metadata": {},
   "outputs": [
    {
     "data": {
      "text/html": [
       "<div>\n",
       "<style scoped>\n",
       "    .dataframe tbody tr th:only-of-type {\n",
       "        vertical-align: middle;\n",
       "    }\n",
       "\n",
       "    .dataframe tbody tr th {\n",
       "        vertical-align: top;\n",
       "    }\n",
       "\n",
       "    .dataframe thead th {\n",
       "        text-align: right;\n",
       "    }\n",
       "</style>\n",
       "<table border=\"1\" class=\"dataframe\">\n",
       "  <thead>\n",
       "    <tr style=\"text-align: right;\">\n",
       "      <th></th>\n",
       "      <th>variable</th>\n",
       "      <th>coefficient</th>\n",
       "    </tr>\n",
       "  </thead>\n",
       "  <tbody>\n",
       "    <tr>\n",
       "      <th>10</th>\n",
       "      <td>last_visit</td>\n",
       "      <td>-0.617843</td>\n",
       "    </tr>\n",
       "    <tr>\n",
       "      <th>2</th>\n",
       "      <td>multiple_visit</td>\n",
       "      <td>0.299463</td>\n",
       "    </tr>\n",
       "    <tr>\n",
       "      <th>11</th>\n",
       "      <td>uniq_urls</td>\n",
       "      <td>-0.256597</td>\n",
       "    </tr>\n",
       "    <tr>\n",
       "      <th>0</th>\n",
       "      <td>isbuyer</td>\n",
       "      <td>0.243112</td>\n",
       "    </tr>\n",
       "    <tr>\n",
       "      <th>7</th>\n",
       "      <td>visit_freq</td>\n",
       "      <td>0.214446</td>\n",
       "    </tr>\n",
       "    <tr>\n",
       "      <th>4</th>\n",
       "      <td>buy_freq</td>\n",
       "      <td>0.033998</td>\n",
       "    </tr>\n",
       "    <tr>\n",
       "      <th>1</th>\n",
       "      <td>multiple_buy</td>\n",
       "      <td>0.018018</td>\n",
       "    </tr>\n",
       "    <tr>\n",
       "      <th>3</th>\n",
       "      <td>na_uniq_urls</td>\n",
       "      <td>0.000000</td>\n",
       "    </tr>\n",
       "    <tr>\n",
       "      <th>5</th>\n",
       "      <td>buy_interval</td>\n",
       "      <td>0.000000</td>\n",
       "    </tr>\n",
       "    <tr>\n",
       "      <th>6</th>\n",
       "      <td>expected_time_buy</td>\n",
       "      <td>0.000000</td>\n",
       "    </tr>\n",
       "    <tr>\n",
       "      <th>8</th>\n",
       "      <td>sv_interval</td>\n",
       "      <td>0.000000</td>\n",
       "    </tr>\n",
       "    <tr>\n",
       "      <th>9</th>\n",
       "      <td>expected_time_visit</td>\n",
       "      <td>0.000000</td>\n",
       "    </tr>\n",
       "    <tr>\n",
       "      <th>12</th>\n",
       "      <td>num_checkins</td>\n",
       "      <td>0.000000</td>\n",
       "    </tr>\n",
       "  </tbody>\n",
       "</table>\n",
       "</div>"
      ],
      "text/plain": [
       "               variable  coefficient\n",
       "10           last_visit    -0.617843\n",
       "2        multiple_visit     0.299463\n",
       "11            uniq_urls    -0.256597\n",
       "0               isbuyer     0.243112\n",
       "7            visit_freq     0.214446\n",
       "4              buy_freq     0.033998\n",
       "1          multiple_buy     0.018018\n",
       "3          na_uniq_urls     0.000000\n",
       "5          buy_interval     0.000000\n",
       "6     expected_time_buy     0.000000\n",
       "8           sv_interval     0.000000\n",
       "9   expected_time_visit     0.000000\n",
       "12         num_checkins     0.000000"
      ]
     },
     "execution_count": 30,
     "metadata": {},
     "output_type": "execute_result"
    }
   ],
   "source": [
    "coef_df = pd.DataFrame({'variable':X_train.columns, 'coefficient':lr_.coef_[0]})\n",
    "coef_df['sort'] = coef_df.coefficient.abs()\n",
    "coef_df.sort_values(by = 'sort',ascending=0).drop('sort', axis=1)"
   ]
  },
  {
   "cell_type": "markdown",
   "metadata": {},
   "source": [
    "Interpretation:\n",
    "The follow top-5 factors may contribute to a higher probability of actual purchase (`y_buy` =1):\n",
    "- Less days since last visit/purchase.\n",
    "- Has multiple past visits\n",
    "- Less unique url\n",
    "- Has purchase before.\n",
    "- Higher visit frequency\n"
   ]
  },
  {
   "cell_type": "markdown",
   "metadata": {},
   "source": [
    "## 4.3 Model 2 - Gradient Boosting Tree"
   ]
  },
  {
   "cell_type": "markdown",
   "metadata": {},
   "source": [
    "One main shortcoming of logistic regression is that it only considered the linear relationship between independent variable and the outcome (i.e., the decision boundary is linear). Decision tree captures the non-linear relationship by nature, and boosting algorithm would reduce the variance of decision tree by sequentially building weak classifiers, and aggregating them."
   ]
  },
  {
   "cell_type": "markdown",
   "metadata": {},
   "source": [
    "Parameter tuning need to be done before getting a fitted model. Grid search is again used to find the best value for the following parameters. A more complete parameter tuning can include other paramters as well. Here I have done a quick tuning for the parameters below.\n",
    "- Learning Rate\n",
    "- The maximum depth of the tree.\n",
    "- Number of estimators"
   ]
  },
  {
   "cell_type": "markdown",
   "metadata": {},
   "source": [
    "***Perform 5-fold CV to select best penalty parameter***"
   ]
  },
  {
   "cell_type": "code",
   "execution_count": 31,
   "metadata": {},
   "outputs": [],
   "source": [
    "param_test_gb =  {\n",
    "               'learning_rate': [10 ** x for x in list(range(-5,0,1))],\n",
    "               'max_depth':range(1,8,2), \n",
    "               'n_estimators':range(30,120,20)}"
   ]
  },
  {
   "cell_type": "markdown",
   "metadata": {},
   "source": [
    "***Account for class imbalance by assigning sample weights to each sample***"
   ]
  },
  {
   "cell_type": "markdown",
   "metadata": {},
   "source": [
    "Minor class (Y=1) gets a much higher weight than major class (Y=0). The weight is calculated based on $N_{Y=0}/N_{Y=1}$"
   ]
  },
  {
   "cell_type": "code",
   "execution_count": 32,
   "metadata": {},
   "outputs": [],
   "source": [
    "weights = [sum(y_train==0) / sum(y_train==1) if x == 1 else 1 for x in y_train]"
   ]
  },
  {
   "cell_type": "code",
   "execution_count": 33,
   "metadata": {},
   "outputs": [
    {
     "data": {
      "text/plain": [
       "GridSearchCV(cv=5, error_score='raise',\n",
       "       estimator=GradientBoostingClassifier(criterion='friedman_mse', init=None,\n",
       "              learning_rate=0.1, loss='deviance', max_depth=3,\n",
       "              max_features='sqrt', max_leaf_nodes=None,\n",
       "              min_impurity_decrease=0.0, min_impurity_split=None,\n",
       "              min_samples_leaf=1, min_samples_split=2,\n",
       "              min_weight_fraction_leaf=0.0, n_estimators=100,\n",
       "              presort='auto', random_state=11, subsample=1.0, verbose=0,\n",
       "              warm_start=False),\n",
       "       fit_params=None, iid=True, n_jobs=7,\n",
       "       param_grid={'learning_rate': [1e-05, 0.0001, 0.001, 0.01, 0.1], 'max_depth': range(1, 8, 2), 'n_estimators': range(30, 120, 20)},\n",
       "       pre_dispatch='2*n_jobs', refit='AUC', return_train_score='warn',\n",
       "       scoring={'AUC': 'roc_auc'}, verbose=0)"
      ]
     },
     "execution_count": 33,
     "metadata": {},
     "output_type": "execute_result"
    }
   ],
   "source": [
    "gsearch_gb = GridSearchCV(estimator = GradientBoostingClassifier( \n",
    "    max_features='sqrt',\n",
    "    random_state=11),  \n",
    "param_grid = param_test_gb, scoring={'AUC': 'roc_auc'},cv=5,n_jobs=7, refit='AUC')\n",
    "gsearch_gb.fit(X_train,y_train, sample_weight=weights)"
   ]
  },
  {
   "cell_type": "markdown",
   "metadata": {},
   "source": [
    "***Select the best parameter set to maximize AUC***"
   ]
  },
  {
   "cell_type": "code",
   "execution_count": 34,
   "metadata": {},
   "outputs": [
    {
     "name": "stdout",
     "output_type": "stream",
     "text": [
      "The best parameter set is:  {'learning_rate': 0.01, 'max_depth': 3, 'n_estimators': 110} \n",
      "\n",
      " The best AUC score is:  0.8625205714931461\n"
     ]
    }
   ],
   "source": [
    "print('The best parameter set is: ',\n",
    "gsearch_gb.best_params_, '\\n\\n', 'The best AUC score is: ',\n",
    "gsearch_gb.best_score_)"
   ]
  },
  {
   "cell_type": "markdown",
   "metadata": {},
   "source": [
    "***Refit the model with best parameters***"
   ]
  },
  {
   "cell_type": "code",
   "execution_count": 35,
   "metadata": {},
   "outputs": [
    {
     "data": {
      "text/plain": [
       "GradientBoostingClassifier(criterion='friedman_mse', init=None,\n",
       "              learning_rate=0.01, loss='deviance', max_depth=3,\n",
       "              max_features='sqrt', max_leaf_nodes=None,\n",
       "              min_impurity_decrease=0.0, min_impurity_split=None,\n",
       "              min_samples_leaf=1, min_samples_split=2,\n",
       "              min_weight_fraction_leaf=0.0, n_estimators=110,\n",
       "              presort='auto', random_state=11, subsample=1.0, verbose=0,\n",
       "              warm_start=False)"
      ]
     },
     "execution_count": 35,
     "metadata": {},
     "output_type": "execute_result"
    }
   ],
   "source": [
    "gb_ = GradientBoostingClassifier(learning_rate=gsearch_gb.best_params_['learning_rate'], \n",
    "                                 max_depth=gsearch_gb.best_params_['max_depth'], \n",
    "                                 max_features='sqrt',\n",
    "                                 random_state=11,\n",
    "                                 n_estimators=gsearch_gb.best_params_['n_estimators'])\n",
    "gb_.fit(X_train, y_train, sample_weight = weights)"
   ]
  },
  {
   "cell_type": "markdown",
   "metadata": {},
   "source": [
    "***Study attribute importance***"
   ]
  },
  {
   "cell_type": "code",
   "execution_count": 36,
   "metadata": {},
   "outputs": [
    {
     "data": {
      "text/plain": [
       "Text(0,0.5,'Feature Importance Score')"
      ]
     },
     "execution_count": 36,
     "metadata": {},
     "output_type": "execute_result"
    },
    {
     "data": {
      "image/png": "[encoded data removed]",
      "text/plain": [
       "<Figure size 432x288 with 1 Axes>"
      ]
     },
     "metadata": {},
     "output_type": "display_data"
    }
   ],
   "source": [
    "feat_imp = pd.Series(gb_.feature_importances_, X_train.columns).sort_values(ascending=False)\n",
    "feat_imp.plot(kind='bar', title='Feature Importances', color='b')\n",
    "plt.ylabel('Feature Importance Score')"
   ]
  },
  {
   "cell_type": "markdown",
   "metadata": {},
   "source": [
    "The top 5 features are:\n",
    "- last visit (*which is consistent with logistic regression results*)\n",
    "- visit_freq\n",
    "- sv_interval\n",
    "- expected_time_visit\n",
    "- buy_freq"
   ]
  },
  {
   "cell_type": "markdown",
   "metadata": {},
   "source": [
    "## 4.4 Model Comparison"
   ]
  },
  {
   "cell_type": "markdown",
   "metadata": {},
   "source": [
    "- The gradient boosting tree shows better performance during the CV tests (with AUC as evaluation metric, ***0.863*** vs. ***0.854***) compared with logistic regression. If prediction performance is the main goal, gradient boosting tree model should be used.\n",
    "- The results from logistic regression are more interpretable. Although it doesn't give excellent performance, it could be useful to extract business insights from the model."
   ]
  },
  {
   "cell_type": "markdown",
   "metadata": {},
   "source": [
    "To help make the decision, we run the model again on the whole training data to study the Confusion Matrix. Note that model is developed based on CV datasets, not whole training set."
   ]
  },
  {
   "cell_type": "code",
   "execution_count": 37,
   "metadata": {},
   "outputs": [
    {
     "name": "stdout",
     "output_type": "stream",
     "text": [
      "Logisic Regression\n",
      "------------\n",
      "          0         1\n",
      "0  0.990395  0.005104\n",
      "1  0.004266  0.000236 \n",
      "-----------\n",
      "Precision:  0.04411764705882353\n",
      "Recall:  0.05232558139534884\n"
     ]
    }
   ],
   "source": [
    "y_hat_lr = lr_.predict_proba(X = X_train / np.std(X_train, 0))[:,1]\n",
    "preds_lr = lr_.predict(X = X_train)\n",
    "CF = pd.DataFrame(confusion_matrix(y_train,preds_lr))\n",
    "CF = CF / len(X_train)\n",
    "print('Logisic Regression')\n",
    "print('------------')\n",
    "print(CF,'\\n-----------')\n",
    "print('Precision: ', precision_score(y_train,preds_lr))\n",
    "print('Recall: ',recall_score(y_train,preds_lr))"
   ]
  },
  {
   "cell_type": "code",
   "execution_count": 38,
   "metadata": {},
   "outputs": [
    {
     "name": "stdout",
     "output_type": "stream",
     "text": [
      "Gradient Boosting Tree\n",
      "------------\n",
      "          0         1\n",
      "0  0.842707  0.152791\n",
      "1  0.000890  0.003612 \n",
      "-----------\n",
      "Precision:  0.023092369477911646\n",
      "Recall:  0.8023255813953488\n"
     ]
    }
   ],
   "source": [
    "y_hat_gb = gb_.predict_proba(X = X_train)[:, 1]\n",
    "preds_gb = gb_.predict(X = X_train)\n",
    "CF = pd.DataFrame(confusion_matrix(y_train,preds_gb))\n",
    "CF = CF / len(X_train)\n",
    "print('Gradient Boosting Tree')\n",
    "print('------------')\n",
    "print(CF,'\\n-----------')\n",
    "print('Precision: ', precision_score(y_train,preds_gb))\n",
    "print('Recall: ',recall_score(y_train,preds_gb))"
   ]
  },
  {
   "cell_type": "markdown",
   "metadata": {},
   "source": [
    "\n",
    "- For the purpose of this assignment, I believe recall score is more important since we want to identify potential buyers as much as we can. \n",
    "- **The gradient boosting tree model will be used for prediction of test dataset.**"
   ]
  },
  {
   "cell_type": "markdown",
   "metadata": {},
   "source": [
    "# 5. Prediction"
   ]
  },
  {
   "cell_type": "markdown",
   "metadata": {},
   "source": [
    "## 5.1 Apply same cleaning for testing set"
   ]
  },
  {
   "cell_type": "code",
   "execution_count": 41,
   "metadata": {},
   "outputs": [],
   "source": [
    "raw_test = pd.read_csv('./data/ads_test.csv')\n",
    "test=raw_test.copy()"
   ]
  },
  {
   "cell_type": "code",
   "execution_count": 42,
   "metadata": {},
   "outputs": [],
   "source": [
    "del test['Unnamed: 0']\n",
    "test['na_uniq_urls'] = test['uniq_urls'].map(lambda x: 1 if x == -1 else 0)\n",
    "test['buy_freq'] = test['buy_freq'].fillna(0)"
   ]
  },
  {
   "cell_type": "code",
   "execution_count": 43,
   "metadata": {},
   "outputs": [],
   "source": [
    "X_test = test[categ_cols + conti_cols]"
   ]
  },
  {
   "cell_type": "markdown",
   "metadata": {},
   "source": [
    "## 5.2 Apply model to predict test dataset."
   ]
  },
  {
   "cell_type": "code",
   "execution_count": 44,
   "metadata": {},
   "outputs": [],
   "source": [
    "y_hat_gb = gb_.predict_proba(X = X_test)[:, 1]\n",
    "preds_gb = gb_.predict(X = X_test)"
   ]
  },
  {
   "cell_type": "markdown",
   "metadata": {},
   "source": [
    "## 5.3 Output results"
   ]
  },
  {
   "cell_type": "code",
   "execution_count": 45,
   "metadata": {},
   "outputs": [],
   "source": [
    "raw_test['pred_prob'] = y_hat_gb\n",
    "raw_test['pred_label'] = preds_gb\n",
    "raw_test.to_csv('./result/output.csv')"
   ]
  }
 ],
 "metadata": {
  "kernelspec": {
   "display_name": "Python [conda env:anaconda3]",
   "language": "python",
   "name": "conda-env-anaconda3-py"
  },
  "language_info": {
   "codemirror_mode": {
    "name": "ipython",
    "version": 3
   },
   "file_extension": ".py",
   "mimetype": "text/x-python",
   "name": "python",
   "nbconvert_exporter": "python",
   "pygments_lexer": "ipython3",
   "version": "3.6.5"
  },
  "toc": {
   "base_numbering": 1,
   "nav_menu": {},
   "number_sections": false,
   "sideBar": true,
   "skip_h1_title": false,
   "title_cell": "Table of Contents",
   "title_sidebar": "Contents",
   "toc_cell": false,
   "toc_position": {
    "height": "calc(100% - 180px)",
    "left": "10px",
    "top": "150px",
    "width": "346px"
   },
   "toc_section_display": true,
   "toc_window_display": true
  }
 },
 "nbformat": 4,
 "nbformat_minor": 2
}
