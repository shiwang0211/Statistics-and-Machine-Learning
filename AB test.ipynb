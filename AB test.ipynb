{
 "cells": [
  {
   "cell_type": "code",
   "execution_count": 1,
   "metadata": {
    "collapsed": true
   },
   "outputs": [],
   "source": [
    "import pandas as pd\n",
    "import numpy as np\n",
    "import statsmodels.api as sm\n",
    "import scipy\n",
    "from scipy.stats import norm"
   ]
  },
  {
   "cell_type": "markdown",
   "metadata": {},
   "source": [
    "# Causal vs. Correlation"
   ]
  },
  {
   "cell_type": "markdown",
   "metadata": {},
   "source": [
    "- Examples of correlations instead of causality\n",
    "    - Drinking -> Longevity\n",
    "    - Drugs -> Heart disease\n",
    "\n",
    "\n",
    "- Advantage of causality\n",
    "    - Robust prediction for different populations\n",
    "\n",
    "\n",
    "- Cannot tell the impact of a feature \n",
    "<img src=\"https://cdn-images-1.medium.com/max/1600/0*juOEvI0itN6cEToo.png\" width=\"500\">\n"
   ]
  },
  {
   "cell_type": "markdown",
   "metadata": {},
   "source": [
    "# Type of Variants"
   ]
  },
  {
   "cell_type": "markdown",
   "metadata": {},
   "source": [
    "- Call to action\n",
    "    - Visual elements\n",
    "    - Buttons\n",
    "- Text \n",
    "    - Ad: Promotion vs. Benefit vs. Information\n",
    "    - Tweets: length/style/emoji/etc\n",
    "- Image and Video\n",
    "- Hashtags\n",
    "- Backend (e.g., recommendation algorithm)"
   ]
  },
  {
   "cell_type": "markdown",
   "metadata": {},
   "source": [
    "# Independent Sample t-Test and A/B Test"
   ]
  },
  {
   "cell_type": "markdown",
   "metadata": {},
   "source": [
    "## Theory"
   ]
  },
  {
   "cell_type": "markdown",
   "metadata": {},
   "source": [
    "**Central Limit Theory**\n",
    "- ${Z_1, Z_2,...}$ from $iid$\n",
    "- $E(Z) = \\mu, Var(Z) = \\sigma^2$\n",
    "\n",
    "- When $Z$ comes from normal distribution:\n",
    "$$\\frac{\\bar Z -\\mu}{\\sigma / \\sqrt N} \\sim N(0,1)$$\n",
    "$$\\frac{\\bar Z -\\mu}{\\hat \\sigma / \\sqrt N} \\sim t(N-1)$$\n",
    "\n",
    "- When sample size is big:\n",
    "$$\\frac{\\bar Z -\\mu}{\\sigma / \\sqrt N} \\xrightarrow{N\\to\\infty} N(0,1)$$\n",
    "$$\\frac{\\bar Z -\\mu}{\\hat \\sigma / \\sqrt N} \\xrightarrow{N\\to\\infty} N(0,1)$$"
   ]
  },
  {
   "cell_type": "markdown",
   "metadata": {},
   "source": [
    "**Assumptions**:\n",
    "1. X and Y are independent\n",
    "1. X and Y have same variance $\\sigma^2$\n",
    "1. X and Y from normal distribution, respectively\n",
    "\n",
    "**Normality**\n",
    "$$X \\sim N(\\mu_X, \\sigma^2), Y \\sim N(\\mu_Y, \\sigma^2)$$\n",
    "$$\\bar X - \\bar Y \\sim N[(\\mu_X - \\mu_Y, \\sigma^2(\\frac{1}{N_X} + \\frac{1}{N_Y})]$$\n",
    "\n",
    "\n",
    "**$\\chi^2$ Distribution**\n",
    "$$X_1^2 + X_2^2 +...+X_n^2 \\sim \\chi^2(n)$$\n",
    "$$\\frac{(n-1)s^2}{\\sigma^2} \\sim \\chi^2(n-1)$$\n",
    "\n",
    "<img src=\"http://www.statistics4u.info/fundstat_eng/img/hl_xdistri.png\" width=\"400\">\n",
    "\n",
    "**$t$ Distribution**\n",
    "$$\\frac{N}{\\sqrt{\\chi^2(n)}} \\sim t(n)$$\n",
    "<img src=\"https://andyjconnelly.files.wordpress.com/2017/05/distributions1.png\" width=\"400\">\n",
    "---"
   ]
  },
  {
   "cell_type": "markdown",
   "metadata": {},
   "source": [
    "**Binomial Distribution**\n",
    "       \n",
    "- For single observation\n",
    "    - $\\sigma^2 = p(1-p)$\n",
    "    - $\\hat \\sigma^2 = s^2 = \\hat p (1-\\hat p)$\n",
    "    \n",
    "    \n",
    "- For average/ratio/proportion:\n",
    "    - $\\hat p = \\bar X = (x_1 + x_2 + ... + x_n) / N $\n",
    "    - $Var(\\hat p) = Var(\\bar X) = \\frac{p(1-p)}{N}$\n",
    "    - $s^2(\\hat p) = s^2(\\bar X) =\\frac{\\hat p (1-\\hat p)}{N}$\n",
    "\n",
    "\n",
    "- For difference in average/ratio/proportion (same sample size):\n",
    "    - $\\bar X$ and $\\bar Y$: $Var(\\bar X - \\bar Y) = \\frac{2p(1-p)}{N} $\n",
    "    - $\\bar X$ and $\\bar Y$: $s^2(\\bar X - \\bar Y) = \\frac{2\\hat p(1-\\hat p)}{N} $\n",
    "    \n",
    "    "
   ]
  },
  {
   "cell_type": "markdown",
   "metadata": {},
   "source": [
    "**Test Statistic Under Un-equal Variance**\n",
    "$$T=\\dfrac{(\\bar{X}-\\bar{Y})-(\\mu_X-\\mu_Y)}{\\sqrt{\\dfrac{S^2_X}{N_X}+\\dfrac{S^2_Y}{N_Y}}}$$\n",
    "\n",
    "$$df=\\dfrac{\\left(\\dfrac{s^2_X}{N_Y}+\\dfrac{s^2_Y}{N_Y}\\right)^2}{\\dfrac{(s^2_X/N_X)^2}{N_X-1}+\\dfrac{(s^2_Y/N_Y)^2}{N_Y-1}}$$\n",
    "\n",
    "- $\\ t- distribution\\ (df=m+n-2)$"
   ]
  },
  {
   "cell_type": "markdown",
   "metadata": {},
   "source": [
    "**Test Statistic Under Equal Variance**\n",
    "- Under Normal Distribution (***Independent Sample T-test***):\n",
    "\n",
    "    $$\\hat \\sigma_X = S_X,\\hat \\sigma_Y = S_Y $$\n",
    "    \n",
    "$$T = \\frac{(\\bar X - \\bar Y) - (\\mu_X - \\mu_Y)}{\\hat \\sigma _{\\bar X - \\bar Y}}$$\n",
    "\n",
    "$$\\hat \\sigma _{\\bar X - \\bar Y} = {s_{\\bar X - \\bar Y}} = s_p\\sqrt{\\frac{1}{N_X}+\\frac{1}{N_Y}} \\xrightarrow{N_X = N_Y}  s_p \\sqrt \\frac{2}{N}$$\n",
    "\n",
    "\n",
    "$$unbiased:\\  s_p^2 = \\frac{(N_X-1)\\hat \\sigma_X^2 + (N_Y-1)\\hat \\sigma_Y^2}{N_X+N_Y-2}\\xrightarrow{N_X = N_Y} \\frac{1}{2}(\\sigma_X^2 + \\sigma_Y^2)\\xrightarrow{\\sigma_X^2 = \\sigma_Y^2} \\sigma^2$$\n",
    "\n",
    "$$\\ t- distribution\\ (df=m+n-2)$$\n",
    "    \n",
    "\n",
    "\n",
    "- Under Binomial Distribution (***A/B Test***): \n",
    "    - Option 1: Assume same proportion\n",
    "    \n",
    "$$ \\hat p = \\frac{\\hat p_X N_X + \\hat p_Y N_Y}{N_X + N_Y} = \\frac{1_X + 1_Y}{N_X + N_Y} $$\n",
    "\n",
    "$$s_p  = \\sqrt{\\hat p(1- \\hat p)}$$ \n",
    "\n",
    "$$Z=\\frac{\\hat p_X-\\hat p_Y}{\\sqrt{\\hat p(1-\\hat p)(\\frac{1}{N_X} + \\frac{1}{N_Y})}} \\sim N(0,1)$$\n",
    "\n",
    "   - Option 2: Assume different proportion\n",
    "$$Z=\\dfrac{\\hat p_X-\\hat p_Y}{\\sqrt{\\dfrac{\\hat p_X(1-\\hat p_X)}{N_X}+\\dfrac{\\hat p_Y(1-\\hat p_Y)}{N_Y}}}$$"
   ]
  },
  {
   "cell_type": "markdown",
   "metadata": {},
   "source": [
    "**One-Tail vs. Two-Tail Test**\n",
    "- Two Tail: Compare $|T|$ with $t_{m+n-2}\n",
    "(\\alpha/2) $ \n",
    "- One-Tail: Compare $T$ with $t_{m+n-2}(\\alpha)$\n",
    "<img src=\"https://saylordotorg.github.io/text_introductory-statistics/section_12/526c9e81a596b999ae191031b1b8bc47.jpg\" width=\"400\">"
   ]
  },
  {
   "cell_type": "markdown",
   "metadata": {},
   "source": [
    "**Violation of assumptions**"
   ]
  },
  {
   "cell_type": "markdown",
   "metadata": {},
   "source": [
    "- For $1^{st}$ assumption: by experiment design"
   ]
  },
  {
   "cell_type": "markdown",
   "metadata": {},
   "source": [
    "- For $2^{nd}$ assumption: Perform *Levene test *\n",
    "    * Null hypothesis: samples have same variances\n",
    "    * Reject null hypothesis when $p<\\alpha=0.05$\n",
    "    * When violated, the calculation of $df$ will change\n",
    "    * Alternative: perform log transformation to stablize variation"
   ]
  },
  {
   "cell_type": "markdown",
   "metadata": {},
   "source": [
    "- For 3rd assumption: Perform *Shapiro-Wilks test*\n",
    "    - Reject null hypothesis when $p<\\alpha=0.05$\n",
    "    - When sample size is big, still valid (asymptotic normality)\n",
    "    - Reason: Central Limit Theory for $\\bar X$ and $\\bar Y$"
   ]
  },
  {
   "cell_type": "markdown",
   "metadata": {},
   "source": [
    "**Relationship with Likelihood-Ratio Test**\n",
    "- Can be proved to be equivalent"
   ]
  },
  {
   "cell_type": "markdown",
   "metadata": {},
   "source": [
    "# Numerical Example\n"
   ]
  },
  {
   "cell_type": "markdown",
   "metadata": {},
   "source": [
    "## Import Data"
   ]
  },
  {
   "cell_type": "markdown",
   "metadata": {},
   "source": [
    "Data source: https://github.com/nirupamaprv/Analyze-AB-test-Results"
   ]
  },
  {
   "cell_type": "code",
   "execution_count": 3,
   "metadata": {},
   "outputs": [
    {
     "data": {
      "text/html": [
       "<div>\n",
       "<style scoped>\n",
       "    .dataframe tbody tr th:only-of-type {\n",
       "        vertical-align: middle;\n",
       "    }\n",
       "\n",
       "    .dataframe tbody tr th {\n",
       "        vertical-align: top;\n",
       "    }\n",
       "\n",
       "    .dataframe thead th {\n",
       "        text-align: right;\n",
       "    }\n",
       "</style>\n",
       "<table border=\"1\" class=\"dataframe\">\n",
       "  <thead>\n",
       "    <tr style=\"text-align: right;\">\n",
       "      <th></th>\n",
       "      <th>user_id</th>\n",
       "      <th>timestamp</th>\n",
       "      <th>group</th>\n",
       "      <th>landing_page</th>\n",
       "      <th>converted</th>\n",
       "    </tr>\n",
       "  </thead>\n",
       "  <tbody>\n",
       "    <tr>\n",
       "      <th>0</th>\n",
       "      <td>851104</td>\n",
       "      <td>2017-01-21 22:11:48.556739</td>\n",
       "      <td>control</td>\n",
       "      <td>old_page</td>\n",
       "      <td>0</td>\n",
       "    </tr>\n",
       "    <tr>\n",
       "      <th>1</th>\n",
       "      <td>804228</td>\n",
       "      <td>2017-01-12 08:01:45.159739</td>\n",
       "      <td>control</td>\n",
       "      <td>old_page</td>\n",
       "      <td>0</td>\n",
       "    </tr>\n",
       "    <tr>\n",
       "      <th>2</th>\n",
       "      <td>661590</td>\n",
       "      <td>2017-01-11 16:55:06.154213</td>\n",
       "      <td>treatment</td>\n",
       "      <td>new_page</td>\n",
       "      <td>0</td>\n",
       "    </tr>\n",
       "    <tr>\n",
       "      <th>3</th>\n",
       "      <td>853541</td>\n",
       "      <td>2017-01-08 18:28:03.143765</td>\n",
       "      <td>treatment</td>\n",
       "      <td>new_page</td>\n",
       "      <td>0</td>\n",
       "    </tr>\n",
       "    <tr>\n",
       "      <th>4</th>\n",
       "      <td>864975</td>\n",
       "      <td>2017-01-21 01:52:26.210827</td>\n",
       "      <td>control</td>\n",
       "      <td>old_page</td>\n",
       "      <td>1</td>\n",
       "    </tr>\n",
       "  </tbody>\n",
       "</table>\n",
       "</div>"
      ],
      "text/plain": [
       "   user_id                   timestamp      group landing_page  converted\n",
       "0   851104  2017-01-21 22:11:48.556739    control     old_page          0\n",
       "1   804228  2017-01-12 08:01:45.159739    control     old_page          0\n",
       "2   661590  2017-01-11 16:55:06.154213  treatment     new_page          0\n",
       "3   853541  2017-01-08 18:28:03.143765  treatment     new_page          0\n",
       "4   864975  2017-01-21 01:52:26.210827    control     old_page          1"
      ]
     },
     "execution_count": 3,
     "metadata": {},
     "output_type": "execute_result"
    }
   ],
   "source": [
    "df = pd.read_csv('./data/ab_edited.csv')[:50]\n",
    "df.head()"
   ]
  },
  {
   "cell_type": "code",
   "execution_count": 4,
   "metadata": {
    "collapsed": true
   },
   "outputs": [],
   "source": [
    "old = df.query(\"group == 'control'\")['converted']\n",
    "new = df.query(\"group == 'treatment'\")['converted']"
   ]
  },
  {
   "cell_type": "code",
   "execution_count": 5,
   "metadata": {},
   "outputs": [
    {
     "data": {
      "text/plain": [
       "0.23809523809523808"
      ]
     },
     "execution_count": 5,
     "metadata": {},
     "output_type": "execute_result"
    }
   ],
   "source": [
    "p_old = np.mean(old)\n",
    "p_old"
   ]
  },
  {
   "cell_type": "code",
   "execution_count": 6,
   "metadata": {
    "collapsed": true
   },
   "outputs": [],
   "source": [
    "# example for independent sample t-test\n",
    "#old=[79.98,80.04,80.02,80.04,80.03,80.03,80.04,79.97,80.05,80.03,80.02,80.00,80.02]\n",
    "#new=[80.02,79.94,79.98,79.97,79.97,80.03,79.95,79.97]"
   ]
  },
  {
   "cell_type": "markdown",
   "metadata": {},
   "source": [
    "## Implementation with `stats`"
   ]
  },
  {
   "cell_type": "markdown",
   "metadata": {},
   "source": [
    "### Assuming normal distribution, t-test"
   ]
  },
  {
   "cell_type": "code",
   "execution_count": 7,
   "metadata": {},
   "outputs": [
    {
     "data": {
      "text/plain": [
       "(0.25771350650932573, 0.7977297197070108)"
      ]
     },
     "execution_count": 7,
     "metadata": {},
     "output_type": "execute_result"
    }
   ],
   "source": [
    "t_score, p_value = scipy.stats.ttest_ind(old, new, equal_var=True,)\n",
    "t_score, p_value "
   ]
  },
  {
   "cell_type": "markdown",
   "metadata": {},
   "source": [
    "Relationship with one-sided"
   ]
  },
  {
   "cell_type": "markdown",
   "metadata": {},
   "source": [
    "### Assume binomial distribution, A/B test"
   ]
  },
  {
   "cell_type": "code",
   "execution_count": 8,
   "metadata": {
    "collapsed": true
   },
   "outputs": [],
   "source": [
    "convert_old = sum(old)\n",
    "convert_new = sum(new)\n",
    "n_old = len(df.query(\"group == 'control'\"))\n",
    "n_new = len(df.query(\"group == 'treatment'\"))"
   ]
  },
  {
   "cell_type": "code",
   "execution_count": 9,
   "metadata": {},
   "outputs": [
    {
     "data": {
      "text/plain": [
       "(0.2556432050257977, 0.7982263538405426)"
      ]
     },
     "execution_count": 9,
     "metadata": {},
     "output_type": "execute_result"
    }
   ],
   "source": [
    "z_score, p_value = sm.stats.proportions_ztest([convert_old, convert_new], \n",
    "                                              [n_old, n_new], \n",
    "                                              prop_var = p_old)\n",
    "z_score, p_value"
   ]
  },
  {
   "cell_type": "markdown",
   "metadata": {},
   "source": [
    "## Implementation with `numpy` only"
   ]
  },
  {
   "cell_type": "markdown",
   "metadata": {},
   "source": [
    "- Perform *Shapiro-Wilks* Normality Test"
   ]
  },
  {
   "cell_type": "code",
   "execution_count": 16,
   "metadata": {},
   "outputs": [
    {
     "data": {
      "text/plain": [
       "((0.5327093601226807, 4.1332060618515243e-07),\n",
       " (0.4997923970222473, 7.758476527897074e-09))"
      ]
     },
     "execution_count": 16,
     "metadata": {},
     "output_type": "execute_result"
    }
   ],
   "source": [
    "from scipy.stats import shapiro\n",
    "shapiro(old),shapiro(new)"
   ]
  },
  {
   "cell_type": "markdown",
   "metadata": {},
   "source": [
    "- **p-value**: less than significance level: 0.05\n",
    "- **Conclusion**: The normnal assumption is violated "
   ]
  },
  {
   "cell_type": "markdown",
   "metadata": {},
   "source": [
    "- Perform *Levene* Test"
   ]
  },
  {
   "cell_type": "code",
   "execution_count": 17,
   "metadata": {},
   "outputs": [
    {
     "data": {
      "text/plain": [
       "LeveneResult(statistic=0.06641625143733229, pvalue=0.7977297197070145)"
      ]
     },
     "execution_count": 17,
     "metadata": {},
     "output_type": "execute_result"
    }
   ],
   "source": [
    "from scipy.stats import levene\n",
    "levene(old, new)"
   ]
  },
  {
   "cell_type": "markdown",
   "metadata": {},
   "source": [
    "- **p-value**: larger than significance level: 0.05\n",
    "- **Conclusion**: X and Y have same population variance"
   ]
  },
  {
   "cell_type": "markdown",
   "metadata": {},
   "source": [
    "- Calculate $\\bar{X}$ and $\\bar{Y}$"
   ]
  },
  {
   "cell_type": "code",
   "execution_count": 18,
   "metadata": {},
   "outputs": [
    {
     "data": {
      "text/plain": [
       "(0.23809523809523808, 0.20689655172413793)"
      ]
     },
     "execution_count": 18,
     "metadata": {},
     "output_type": "execute_result"
    }
   ],
   "source": [
    "mean_old = np.mean(old) \n",
    "mean_new = np.mean(new) \n",
    "mean_old, mean_new"
   ]
  },
  {
   "cell_type": "markdown",
   "metadata": {},
   "source": [
    "- Under Normal: Calculate $S_x$ and $S_y$"
   ]
  },
  {
   "cell_type": "code",
   "execution_count": 19,
   "metadata": {},
   "outputs": [
    {
     "data": {
      "text/plain": [
       "(0.4364357804719847, 0.4122508203948855)"
      ]
     },
     "execution_count": 19,
     "metadata": {},
     "output_type": "execute_result"
    }
   ],
   "source": [
    "s_old = np.std(old, ddof=1) \n",
    "s_new = np.std(new, ddof=1) \n",
    "s_old, s_new"
   ]
  },
  {
   "cell_type": "markdown",
   "metadata": {},
   "source": [
    "- Under Binomial: Calculate $\\hat \\sigma_X$  and $\\hat \\sigma_Y$"
   ]
  },
  {
   "cell_type": "code",
   "execution_count": 20,
   "metadata": {},
   "outputs": [
    {
     "data": {
      "text/plain": [
       "(0.4259177099999599, 0.4259177099999599)"
      ]
     },
     "execution_count": 20,
     "metadata": {},
     "output_type": "execute_result"
    }
   ],
   "source": [
    "s_old = s_new = np.sqrt(p_old * (1 - p_old))\n",
    "s_old, s_new"
   ]
  },
  {
   "cell_type": "markdown",
   "metadata": {},
   "source": [
    "- Calculate $N_x$ and $N_y$"
   ]
  },
  {
   "cell_type": "code",
   "execution_count": 21,
   "metadata": {},
   "outputs": [
    {
     "data": {
      "text/plain": [
       "(21, 29)"
      ]
     },
     "execution_count": 21,
     "metadata": {},
     "output_type": "execute_result"
    }
   ],
   "source": [
    "n_old = len(old) \n",
    "n_new = len(new) \n",
    "n_old, n_new"
   ]
  },
  {
   "cell_type": "markdown",
   "metadata": {},
   "source": [
    "- Calculate DoF\n",
    "    - With same variance, $df = N_x + N_y - 2$\n",
    "    - Note: more complicated calculations if $\\sigma^2_1 \\neq \\sigma^2_2$"
   ]
  },
  {
   "cell_type": "code",
   "execution_count": 22,
   "metadata": {},
   "outputs": [
    {
     "data": {
      "text/plain": [
       "48"
      ]
     },
     "execution_count": 22,
     "metadata": {},
     "output_type": "execute_result"
    }
   ],
   "source": [
    "df1 = n_old - 1\n",
    "df2 = n_new - 1\n",
    "df = df1 + df2\n",
    "df"
   ]
  },
  {
   "cell_type": "markdown",
   "metadata": {},
   "source": [
    "- Calculate pooled variance"
   ]
  },
  {
   "cell_type": "code",
   "execution_count": 23,
   "metadata": {},
   "outputs": [
    {
     "data": {
      "text/plain": [
       "0.4259177099999599"
      ]
     },
     "execution_count": 23,
     "metadata": {},
     "output_type": "execute_result"
    }
   ],
   "source": [
    "s_p = np.sqrt(( (n_old - 1) * s_old * s_old + (n_new - 1) * s_new * s_new) / (n_old + n_new - 2))\n",
    "s_p"
   ]
  },
  {
   "cell_type": "markdown",
   "metadata": {},
   "source": [
    "- Calculate test statistics"
   ]
  },
  {
   "cell_type": "code",
   "execution_count": 24,
   "metadata": {},
   "outputs": [
    {
     "data": {
      "text/plain": [
       "0.2556432050257977"
      ]
     },
     "execution_count": 24,
     "metadata": {},
     "output_type": "execute_result"
    }
   ],
   "source": [
    "T = (mean_old - mean_new) /(s_p * np.sqrt(1 / n_old + 1 / n_new))\n",
    "T"
   ]
  },
  {
   "cell_type": "markdown",
   "metadata": {},
   "source": [
    "- Calculate p-value (Single-tail)"
   ]
  },
  {
   "cell_type": "markdown",
   "metadata": {},
   "source": [
    "<img src=\"https://upload.wikimedia.org/wikipedia/commons/thumb/4/41/Student_t_pdf.svg/325px-Student_t_pdf.svg.png\" width=\"400\">"
   ]
  },
  {
   "cell_type": "markdown",
   "metadata": {},
   "source": [
    "<img src=\"http://www.ttable.org/uploads/2/1/7/9/21795380/published/9754276.png?1517416376\" width=\"400\">"
   ]
  },
  {
   "cell_type": "markdown",
   "metadata": {},
   "source": [
    "- Use t distribution"
   ]
  },
  {
   "cell_type": "code",
   "execution_count": 25,
   "metadata": {},
   "outputs": [
    {
     "data": {
      "text/plain": [
       "0.6003406522596397"
      ]
     },
     "execution_count": 25,
     "metadata": {},
     "output_type": "execute_result"
    }
   ],
   "source": [
    "from scipy.stats import t\n",
    "t.cdf(T, df=df)"
   ]
  },
  {
   "cell_type": "code",
   "execution_count": 30,
   "metadata": {},
   "outputs": [
    {
     "data": {
      "text/plain": [
       "0.7993186954807205"
      ]
     },
     "execution_count": 30,
     "metadata": {},
     "output_type": "execute_result"
    }
   ],
   "source": [
    "p = 1 - (t.cdf(T, df=df)-0.5) * 2\n",
    "p"
   ]
  },
  {
   "cell_type": "markdown",
   "metadata": {},
   "source": [
    "- Use normal distribution"
   ]
  },
  {
   "cell_type": "code",
   "execution_count": 147,
   "metadata": {},
   "outputs": [
    {
     "name": "stdout",
     "output_type": "stream",
     "text": [
      "0.6008868230797286\n"
     ]
    }
   ],
   "source": [
    "from scipy.stats import norm\n",
    "print(norm.cdf(T))"
   ]
  },
  {
   "cell_type": "code",
   "execution_count": 148,
   "metadata": {},
   "outputs": [
    {
     "data": {
      "text/plain": [
       "0.7982263538405427"
      ]
     },
     "execution_count": 148,
     "metadata": {},
     "output_type": "execute_result"
    }
   ],
   "source": [
    "p = 1 - (norm.cdf(T)-0.5) * 2\n",
    "p"
   ]
  },
  {
   "cell_type": "markdown",
   "metadata": {},
   "source": [
    "Conclusion: **CANNOT** reject $H_0$ that old and new has same conversion ratio"
   ]
  },
  {
   "cell_type": "markdown",
   "metadata": {},
   "source": [
    "# Calculate sample size / Power"
   ]
  },
  {
   "cell_type": "markdown",
   "metadata": {},
   "source": [
    "**Power**: \n",
    "- $P$(reject $H_0$|$H_1$ is true)\n",
    "- Commonly 80-95%\n",
    "- Red shaded area\n",
    "\n",
    "**What impacts power**\n",
    "- Effect Size (+)\n",
    "- Sample Size (+)\n",
    "- Significant Level (e.g., 5%) (+)\n",
    "- Population SD (-)\n",
    "    - Conversion Rate vs. Actual number of visits\n",
    "- ref: https://onlinecourses.science.psu.edu/stat414/node/304/"
   ]
  },
  {
   "cell_type": "markdown",
   "metadata": {},
   "source": [
    "\n",
    "\n",
    "<img src=\"https://onlinecourses.science.psu.edu/stat414/sites/onlinecourses.science.psu.edu.stat414/files/lesson54/Lesson54_Drawing05/index.gif\" width=\"300\">\n",
    "\n",
    "\n",
    "- Effect Size\n",
    "\n",
    "<img src=\"https://onlinecourses.science.psu.edu/stat414/sites/onlinecourses.science.psu.edu.stat414/files/lesson54/Lesson54_Drawing08/index.gif\" width=\"300\">\n",
    "\n",
    "<img src=\"https://onlinecourses.science.psu.edu/stat414/sites/onlinecourses.science.psu.edu.stat414/files/lesson54/Lesson54_Drawing09/index.gif\" width=\"300\">\n",
    "\n",
    "- Significance Level\n",
    "\n",
    "<img src=\"https://onlinecourses.science.psu.edu/stat414/sites/onlinecourses.science.psu.edu.stat414/files/lesson54/Lesson54_Drawing11/index.gif\" width=\"300\">\n",
    "\n",
    "- Calculate sample size\n",
    "<img src=\"https://onlinecourses.science.psu.edu/stat414/sites/onlinecourses.science.psu.edu.stat414/files/lesson54/Lesson54_Drawing16/index.gif\" width=\"300\">"
   ]
  },
  {
   "cell_type": "code",
   "execution_count": 53,
   "metadata": {
    "collapsed": true
   },
   "outputs": [],
   "source": [
    "p_baseline = 0.50 # under H_0\n",
    "effect_size = 0.05 # Desired effect size\n",
    "sig = 0.99\n",
    "sample_size = 1001\n",
    "#https://onlinecourses.science.psu.edu/stat414/node/306/"
   ]
  },
  {
   "cell_type": "markdown",
   "metadata": {},
   "source": [
    "- look up table: $Z(\\alpha) = 1.65$"
   ]
  },
  {
   "cell_type": "markdown",
   "metadata": {},
   "source": [
    "\n",
    "- Calculate power of test\n",
    "    - Standardize user-provided $ES$ \n",
    "    $$ ES_{N(0,1)}  = \\frac{ES}{\\hat \\sigma_{p}} = \\frac{ES}{\\sqrt{\\frac{p(1-p)}{N}}} $$\n",
    "$$$$\n",
    "    - Calculate the arrow point:\n",
    "    $$ - ES_{N(0,1)} + Z_{critical}$$\n",
    "    $$$$\n",
    "    \n",
    "    - Calculate the area of blue\n",
    "    $$\\phi_z(- ES_{N(0,1)} + Z_{critical})$$\n",
    "    $$$$\n",
    "    - Calculate the area of red\n",
    "    $$1-\\phi_z(- ES_{N(0,1)} + Z_{critical})$$\n",
    "\n",
    "\n",
    "- Formula for sample size estimation under $95\\%$ significance and $80\\%$ power.\n",
    "$$N=\\frac{16\\sigma^2}{\\Delta^2}$$\n",
    "    "
   ]
  },
  {
   "cell_type": "code",
   "execution_count": 54,
   "metadata": {},
   "outputs": [
    {
     "data": {
      "text/plain": [
       "0.5"
      ]
     },
     "execution_count": 54,
     "metadata": {},
     "output_type": "execute_result"
    }
   ],
   "source": [
    "s_x = np.sqrt(p_baseline * (1 - p_baseline))\n",
    "s_x"
   ]
  },
  {
   "cell_type": "code",
   "execution_count": 55,
   "metadata": {},
   "outputs": [
    {
     "data": {
      "text/plain": [
       "0.01580348853102535"
      ]
     },
     "execution_count": 55,
     "metadata": {},
     "output_type": "execute_result"
    }
   ],
   "source": [
    "s_p =  s_x * np.sqrt( 1 / sample_size)\n",
    "s_p"
   ]
  },
  {
   "cell_type": "code",
   "execution_count": 56,
   "metadata": {},
   "outputs": [
    {
     "data": {
      "text/plain": [
       "3.163858403911275"
      ]
     },
     "execution_count": 56,
     "metadata": {},
     "output_type": "execute_result"
    }
   ],
   "source": [
    "effect_size_N_0_1 = effect_size / s_p\n",
    "effect_size_N_0_1"
   ]
  },
  {
   "cell_type": "code",
   "execution_count": 57,
   "metadata": {},
   "outputs": [
    {
     "data": {
      "text/plain": [
       "-0.8378584039112749"
      ]
     },
     "execution_count": 57,
     "metadata": {},
     "output_type": "execute_result"
    }
   ],
   "source": [
    "phi_value = 2.326 - effect_size_N_0_1\n",
    "phi_value"
   ]
  },
  {
   "cell_type": "code",
   "execution_count": 58,
   "metadata": {},
   "outputs": [
    {
     "data": {
      "text/plain": [
       "0.2010551163605569"
      ]
     },
     "execution_count": 58,
     "metadata": {},
     "output_type": "execute_result"
    }
   ],
   "source": [
    "blue_shade = norm.cdf(phi_value)\n",
    "blue_shade"
   ]
  },
  {
   "cell_type": "code",
   "execution_count": 59,
   "metadata": {},
   "outputs": [
    {
     "data": {
      "text/plain": [
       "0.798944883639443"
      ]
     },
     "execution_count": 59,
     "metadata": {},
     "output_type": "execute_result"
    }
   ],
   "source": [
    "power = 1 - blue_shade\n",
    "power"
   ]
  },
  {
   "cell_type": "markdown",
   "metadata": {},
   "source": [
    "# Online Experiment\n"
   ]
  },
  {
   "cell_type": "markdown",
   "metadata": {},
   "source": [
    "## A/A Test\n",
    "- Assign user to one of the two groups, but expose them to exactly same experience\n",
    "- Calculate variability for power calculation\n",
    "- Test the experimentation system (reject $H_0$ about 5% given significant level as 5%, with dummy treatments)\n",
    "- Shut down treatment if significantly underperform\n",
    "\n",
    "- Maybe something is wrong with how system assigne treatment to users\n",
    "<img src=\"https://cdn-images-1.medium.com/max/1600/0*wsfrJNYzgiPl41Tq.png\" width=\"300\"> \n"
   ]
  },
  {
   "cell_type": "markdown",
   "metadata": {},
   "source": [
    "## Select evaluation metric\n",
    "- Short-term vs. Long-term\n",
    "    - adding more ads --> short-term revenue\n",
    "    - loss of page views/clicks --> long-term revenue loss / user abandonment\n",
    "\n",
    "\n",
    "- Consistent with long-term company goal, and sensitive enough to be detected\n",
    "    - KPI: hard to detect change in a short time\n",
    "    - Evaluation metric: strong correlation with KPI as a proxy\n",
    "\n",
    "\n",
    "- Example:\n",
    "    - Netflix Subscription: Viewing hours\n",
    "    - Coursera Course certification: Test completion / Course Engagement\n",
    "\n",
    "\n",
    "- ***By selecting better evaluation metric***\n",
    "\n",
    "    - Search Engine: *Sessions per user* instead of *queries per user*\n",
    "    - $\\frac{Queries}{Month}=\\frac{Queries}{Session}\\times\\frac{Session}{User}\\times\\frac{User}{Month}$\n",
    "\n",
    "\n",
    "- ***By quantifying loss of traffic***:\n",
    "\n",
    "    - Putting Ad on Homepage: *(decrease in click-through rate)* X *(visit frequency)* X *(cost of regenerating this traffic from other sources)*\n"
   ]
  },
  {
   "cell_type": "markdown",
   "metadata": {},
   "source": [
    "## Limitations\n",
    "- Analyze across ket segments\n",
    "    - Browser type\n",
    "    - Device type\n",
    "    - New and return users\n",
    "    - Men and women\n",
    "    - Geo\n",
    "    - Age\n",
    "    - Subscribers\n",
    "    <img src=\"https://cdn-images-1.medium.com/max/1600/0*W-Qnxk2EQR3gzSeA.png\" width=\"200\">\n",
    "    \n",
    "    ***Alert***: Multiple comparison issue.\n",
    "    \n",
    "    \n",
    "- Temporal factors (non-stationary time-series)\n",
    "    - e.g, day of week effect\n",
    "    - other periodical events\n",
    "    \n",
    "    \n",
    "- Treatment ramp-up\n",
    "    - Start from 0.1% treatment, gradually to 50%\n",
    "    - A 50%/50% design is much faster than a 99%/1% design (25 times faster)\n",
    "\n",
    "\n",
    "- Early stopping\n",
    "\n",
    "\n",
    "\n",
    "- Preference to old or preference to newness\n",
    "    - Novelty effect\n",
    "    <img src=\"https://cdn-images-1.medium.com/max/1600/0*MlfgRSUftnrPE7wD.png\" width=\"300\">\n",
    "    - Longer time\n",
    "    - Only expose to new users\n",
    "    \n",
    "    \n",
    "- Implementation cost\n",
    "- Performance speed\n",
    "    - Slow feature: bad experience"
   ]
  },
  {
   "cell_type": "markdown",
   "metadata": {},
   "source": [
    "## AB test vs. Bandit"
   ]
  },
  {
   "cell_type": "markdown",
   "metadata": {},
   "source": [
    "<img src=\"https://conductricsblog.files.wordpress.com/2012/08/abvbandit.jpg\" width=\"500\">\n",
    "<img src=\"http://conductricsblog.files.wordpress.com/2012/08/aucbandit.jpg\" width=\"500\">"
   ]
  },
  {
   "cell_type": "code",
   "execution_count": null,
   "metadata": {
    "collapsed": true
   },
   "outputs": [],
   "source": []
  },
  {
   "cell_type": "markdown",
   "metadata": {},
   "source": [
    "# Case Study"
   ]
  },
  {
   "cell_type": "markdown",
   "metadata": {},
   "source": [
    "## Problem Statement\n",
    "- Given a feature difference in facebook app, evaluate if the change will improve user activity.\n",
    "- Given a UI component change (e.g., button color) in a pageview, evaluate if there are more users clicking.\n",
    "- Given a pop-up message, whether users will continue enroll in program or not\n",
    "- Given a new firewall feature in GCP"
   ]
  },
  {
   "cell_type": "markdown",
   "metadata": {},
   "source": [
    "http://rajivgrover1984.blogspot.com/2015/11/ab-testing-overview.html\n",
    ">*For example: An online education company tested a change where if the student clicked \"start free trial\", they were asked how much time they had available to devote to the course. If the student indicated 5 or more hours per week, they would be taken through the checkout process as usual. If they indicated fewer than 5 hours per week, a message would appear indicating that these courses usually require a greater time commitment for successful completion, and suggesting that the student might like to access the course materials for free.*"
   ]
  },
  {
   "cell_type": "markdown",
   "metadata": {},
   "source": [
    "## Choose Subject (Unit of diversion)\n"
   ]
  },
  {
   "cell_type": "markdown",
   "metadata": {},
   "source": [
    "Possible Choice: \n",
    "- User id\n",
    "- Cookie\n",
    "- Event"
   ]
  },
  {
   "cell_type": "markdown",
   "metadata": {},
   "source": [
    "## Choose metric"
   ]
  },
  {
   "cell_type": "markdown",
   "metadata": {},
   "source": [
    "Example of pop-up message and program enrollment"
   ]
  },
  {
   "cell_type": "markdown",
   "metadata": {},
   "source": [
    "Metrics should **NOT** change:\n",
    "\n"
   ]
  },
  {
   "cell_type": "markdown",
   "metadata": {},
   "source": [
    "- Number of cookies, unique # of cookies visiting the page\n",
    "- Number of clicks on the button (since message shown after clicking)"
   ]
  },
  {
   "cell_type": "markdown",
   "metadata": {},
   "source": [
    "Metrics that **MAY** change:\n"
   ]
  },
  {
   "cell_type": "markdown",
   "metadata": {},
   "source": [
    "- $p = \\frac{Number\\ of\\ users\\ actually\\ enrolled}{Number\\ of\\ users\\ clicking\\ button}$\n",
    "\n",
    "\n",
    "- $p = \\frac{Number\\ of\\ users\\ remain\\ enrolled\\ for\\ 14\\ days}{Number\\ of\\ users\\ clicking\\ button}$"
   ]
  },
  {
   "cell_type": "markdown",
   "metadata": {},
   "source": [
    "## Choose size and duration"
   ]
  },
  {
   "cell_type": "markdown",
   "metadata": {},
   "source": [
    "see above"
   ]
  },
  {
   "cell_type": "markdown",
   "metadata": {},
   "source": [
    "## Perform sanity check and result analysis"
   ]
  },
  {
   "cell_type": "markdown",
   "metadata": {},
   "source": [
    "See above"
   ]
  },
  {
   "cell_type": "markdown",
   "metadata": {},
   "source": [
    "# Network effect"
   ]
  },
  {
   "cell_type": "markdown",
   "metadata": {},
   "source": [
    "- Sample consistency, for example, GCP, two uses in one collaboration group faces two different features. Or adding a video chatting feature, which only works if both sides have access to it\n",
    "- Sample independency (Spillover effect), for example, Facebook: many connected components, thus Group A and B are no longer independent."
   ]
  },
  {
   "cell_type": "markdown",
   "metadata": {},
   "source": [
    "- Possible solution: community (cluster) based AB test by partitioning nodes to groups, or for a dating app with no prior connections, maybe using demographic/geographical attributes\n",
    "- Each **cluster** is assigned a treatment, thus unlikely for spillover from control to treatment\n",
    "- Unit of analysis is reduced, higher varinace as a result"
   ]
  },
  {
   "cell_type": "markdown",
   "metadata": {},
   "source": [
    "Ref: http://web.media.mit.edu/~msaveski/projects/2016_network-ab-testing.html\n",
    "\n",
    "<img src=\"http://web.media.mit.edu/~msaveski/assets/projects/2016_network-ab/main.png\" width=\"500\">\n"
   ]
  }
 ],
 "metadata": {
  "hide_input": false,
  "kernelspec": {
   "display_name": "Python 3",
   "language": "python",
   "name": "python3"
  },
  "language_info": {
   "codemirror_mode": {
    "name": "ipython",
    "version": 3
   },
   "file_extension": ".py",
   "mimetype": "text/x-python",
   "name": "python",
   "nbconvert_exporter": "python",
   "pygments_lexer": "ipython3",
   "version": "3.5.3"
  },
  "toc": {
   "base_numbering": 1,
   "colors": {
    "hover_highlight": "#DAA520",
    "navigate_num": "#000000",
    "navigate_text": "#333333",
    "running_highlight": "#FF0000",
    "selected_highlight": "#FFD700",
    "sidebar_border": "#EEEEEE",
    "wrapper_background": "#FFFFFF"
   },
   "moveMenuLeft": true,
   "nav_menu": {},
   "navigate_menu": true,
   "number_sections": true,
   "sideBar": true,
   "skip_h1_title": false,
   "threshold": 4,
   "title_cell": "Table of Contents",
   "title_sidebar": "Contents",
   "toc_cell": false,
   "toc_position": {
    "height": "483px",
    "left": "0px",
    "right": "1017.33px",
    "top": "107px",
    "width": "281px"
   },
   "toc_section_display": true,
   "toc_window_display": true,
   "widenNotebook": false
  }
 },
 "nbformat": 4,
 "nbformat_minor": 2
}
