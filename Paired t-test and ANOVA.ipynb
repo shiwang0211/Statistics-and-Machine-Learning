{
 "cells": [
  {
   "cell_type": "code",
   "execution_count": 5,
   "metadata": {},
   "outputs": [],
   "source": [
    "import numpy as np"
   ]
  },
  {
   "cell_type": "markdown",
   "metadata": {},
   "source": [
    "# Paired sample t-test"
   ]
  },
  {
   "cell_type": "markdown",
   "metadata": {},
   "source": [
    "##  Theory"
   ]
  },
  {
   "cell_type": "markdown",
   "metadata": {},
   "source": [
    "- $X_i$ and $Y_i$ are paired, and correlated\n",
    "    - $Cov(X_i, Y_i) = \\sigma_{XY}$\n",
    "    \n",
    "    \n",
    "- Independece across pair: \n",
    "    - $E(X_i - Y_i) = E(\\bar X - \\bar Y) = \\mu_X - \\mu_Y$\n",
    "    - $Var(\\bar X - \\bar Y) = \\frac{1}{N}[\\sigma^2_X+\\sigma^2_Y - 2 \\rho\\sigma_X \\sigma_Y]$, where $\\rho$ is correlation coefficient between $X$ and $Y$.\n",
    "\n",
    "\n",
    "- Normal assumption:\n",
    "    - $D = X-Y \\sim N(.,.)$\n",
    "    - $\\bar D \\sim N(.,.)$\n",
    "\n",
    "\n",
    "- Under big sample size:\n",
    "    - $D = X-Y$ doens'y have to be normal\n",
    "    - $\\bar D \\xrightarrow{N\\to\\infty} N(.,.)$\n",
    "\n",
    "\n",
    "- Test Statistic:\n",
    "    - $$t = \\frac{\\bar D - \\mu_D}{s_{\\bar D}}$$\n",
    "    - $df=n-1$"
   ]
  },
  {
   "cell_type": "markdown",
   "metadata": {},
   "source": [
    "**Comparison with independent sample t-test**\n",
    "- When $\\sigma_X = \\sigma_Y$:\n",
    "    - *Independent*: $Var(\\bar X - \\bar Y) = 2\\sigma^2/N$\n",
    "    - *Paired*:  $Var(\\bar X - \\bar Y) = 2\\sigma^2(1-\\rho)/N$"
   ]
  },
  {
   "cell_type": "markdown",
   "metadata": {},
   "source": [
    "## Numerical Example"
   ]
  },
  {
   "cell_type": "code",
   "execution_count": 8,
   "metadata": {},
   "outputs": [],
   "source": [
    "D = [2,4,10,12,16,15,4,27,9,-1,15]\n",
    "N = len(D)"
   ]
  },
  {
   "cell_type": "code",
   "execution_count": 13,
   "metadata": {},
   "outputs": [
    {
     "data": {
      "text/plain": [
       "10.272727272727273"
      ]
     },
     "execution_count": 13,
     "metadata": {},
     "output_type": "execute_result"
    }
   ],
   "source": [
    "D_bar = np.mean(D)\n",
    "D_bar"
   ]
  },
  {
   "cell_type": "code",
   "execution_count": 11,
   "metadata": {},
   "outputs": [
    {
     "data": {
      "text/plain": [
       "7.976100664998018"
      ]
     },
     "execution_count": 11,
     "metadata": {},
     "output_type": "execute_result"
    }
   ],
   "source": [
    "s_D = np.std(D, ddof=1)\n",
    "s_D"
   ]
  },
  {
   "cell_type": "code",
   "execution_count": 12,
   "metadata": {},
   "outputs": [
    {
     "data": {
      "text/plain": [
       "2.404884835991147"
      ]
     },
     "execution_count": 12,
     "metadata": {},
     "output_type": "execute_result"
    }
   ],
   "source": [
    "s_D_bar = s_D / np.sqrt(N)\n",
    "s_D_bar"
   ]
  },
  {
   "cell_type": "code",
   "execution_count": 15,
   "metadata": {},
   "outputs": [
    {
     "data": {
      "text/plain": [
       "4.271608818429545"
      ]
     },
     "execution_count": 15,
     "metadata": {},
     "output_type": "execute_result"
    }
   ],
   "source": [
    "T = D_bar / s_D_bar\n",
    "T"
   ]
  },
  {
   "cell_type": "code",
   "execution_count": 17,
   "metadata": {},
   "outputs": [
    {
     "data": {
      "text/plain": [
       "0.001632849921999746"
      ]
     },
     "execution_count": 17,
     "metadata": {},
     "output_type": "execute_result"
    }
   ],
   "source": [
    "from scipy.stats import t\n",
    "p = 1 - (t.cdf(T, df = N-1)-0.5) * 2\n",
    "p"
   ]
  },
  {
   "cell_type": "markdown",
   "metadata": {},
   "source": [
    "**Conclusion:** $p$ < 0.05, there is significance difference"
   ]
  },
  {
   "cell_type": "code",
   "execution_count": null,
   "metadata": {},
   "outputs": [],
   "source": []
  },
  {
   "cell_type": "markdown",
   "metadata": {},
   "source": [
    "# ANOVA test"
   ]
  },
  {
   "cell_type": "markdown",
   "metadata": {},
   "source": [
    "## Theory"
   ]
  },
  {
   "cell_type": "markdown",
   "metadata": {},
   "source": [
    "**Assumption**:\n",
    "$$Y_{ij} = \\mu + \\alpha_i + e_{ij}, i^{th}\\ treatment,\\  j^{th} observation$$\n",
    "\n",
    "- $e_{ij} \\sim N(0, \\sigma^2)$,  iid\n",
    "- Constraint: $\\sum \\alpha_i=0$\n",
    "- $H_0: \\alpha_i=0$ for each $i$\n",
    "\n",
    "\n",
    "- Break the errors:\n",
    "    - $SS_W = \\sum_i\\sum_j(Y_{ij}-\\bar Y_{i.)^2}$\n",
    "    - $SS_B = J \\sum_i(\\bar Y_{..}-\\bar Y_{i.)^2}$\n",
    "\n",
    "\n",
    "- Under normal distribution:\n",
    "    $$SS_W/\\sigma^2 \\sim \\chi^2[I(J-1)]$$\n",
    "\n",
    "\n",
    "- Under $H_0$:\n",
    "    $$SS_B/\\sigma^2 \\sim \\chi^2(I-1)$$\n",
    "\n",
    "\n",
    "- When two $\\chi$ samples are **independent**\n",
    "$$\\frac{\\chi^2_a/a}{\\chi^2_b/b} \\sim F(a,b)$$\n",
    "\n",
    "    \n",
    "- Under normal distribution and $H_0$\n",
    "$$F = \\frac{SS_B/(I-1)}{SS_W/[I(J-1)]} \\sim F[I-1, I(J-1)]$$\n",
    "$$$$\n",
    "     - Under $H_0$, $E(numerator) = E(denominator) = \\sigma^2$, so F should be close to 1\n",
    "     - Under $H_1$, when some $\\alpha_i>0$, $E(numerator) >\\sigma^2$, so F should be larger than 1 \n"
   ]
  },
  {
   "cell_type": "markdown",
   "metadata": {},
   "source": [
    "<img src=\"https://ecstep.com/wp-content/uploads/2017/12/F-distribution-2.png\" width=\"400\">"
   ]
  },
  {
   "cell_type": "markdown",
   "metadata": {},
   "source": [
    "**Violation of assumptions**:\n",
    "- Independence: should not be violated\n",
    "- Normality: still valid if non-normal and large sample\n",
    "- Non-constant variance: still valid with equal sample size across groups"
   ]
  },
  {
   "cell_type": "markdown",
   "metadata": {},
   "source": [
    "## Multiple Comparison"
   ]
  },
  {
   "cell_type": "markdown",
   "metadata": {},
   "source": [
    "**Bonferroni**\n",
    "- Instead of $t_{df}(\\alpha)$, use $t_{df}(\\frac{\\alpha}{M})$\n",
    "- $M$ is number of comparisons"
   ]
  },
  {
   "cell_type": "markdown",
   "metadata": {},
   "source": [
    "## Two-factor ANOVA"
   ]
  },
  {
   "cell_type": "markdown",
   "metadata": {},
   "source": [
    "**Assumnption**\n",
    "$$Y_{ijk} = \\mu + \\alpha_i + \\beta_j + \\delta_{ij} + e_{ijk}$$\n",
    "**Error break**\n",
    "$$SS=SS_A+SS_B+SS_{AB}+SS_E$$\n",
    "**Four $\\chi$ Distributions**\n",
    "$$SS_A/\\sigma^2 \\sim \\chi^2(I-1)$$\n",
    "$$SS_B/\\sigma^2 \\sim \\chi^2(J-1)$$\n",
    "$$SS_{AB}/\\sigma^2 \\sim \\chi^2[(I-1)(J-1)]$$\n",
    "**Three F-statistics**\n",
    "    $$F=\\frac{MS_?}{MS_E} = \\frac{{SS}_?/{df}_?}{SS_E/[IJ(K-1)]} \\sim F[df_?, IJ(K-1)]$$"
   ]
  },
  {
   "cell_type": "markdown",
   "metadata": {},
   "source": [
    "# Experiment Design"
   ]
  },
  {
   "cell_type": "markdown",
   "metadata": {},
   "source": [
    "\n",
    "## Examples of confounding\n",
    "- Effect of ***Gender*** in College Admission confounded by ***Major***: women apply for hard majors\n",
    "- Effect of ***Coffee Drinking*** on coronary diseases confounded by ****Smoking**: coffee drinkers smoke more\n"
   ]
  },
  {
   "cell_type": "markdown",
   "metadata": {},
   "source": [
    "## Randomized Block Design\n",
    "- With a randomized block design, the experimenter divides subjects into subgroups called **blocks***, such that the variability within blocks is less than the variability between blocks. Then, subjects within each block are randomly assigned to treatment conditions. \n",
    "- Compared to a completely randomized design, this design reduces variability within treatment conditions and potential confounding, producing a better estimate of treatment effects.\n",
    "\n",
    "\n",
    "- ***Example***: Paired-Sample t-test, where ***person*** is the block\n",
    "- ***Example***: Fertilizer agricultural experiment, where ***field*** is the block\n",
    "\n",
    "The table below shows a randomized block design for a hypothetical medical experiment.\n",
    "\n",
    "|Gender\t||Treatment|\n",
    "|::|::|::|\n",
    "||Placebo\t|Vaccine|\n",
    "|Male\t|250\t|250|\n",
    "|Female\t|250\t|250|\n",
    "Subjects are assigned to blocks, based on gender. Then, within each block, subjects are randomly assigned to treatments (either a placebo or a cold vaccine). For this design, 250 men get the placebo, 250 men get the vaccine, 250 women get the placebo, and 250 women get the vaccine.\n",
    "\n",
    "It is known that men and women are physiologically different and react differently to medication. This design ensures that each treatment condition has an equal proportion of men and women. As a result, differences between treatment conditions cannot be attributed to gender. This randomized block design removes gender as a potential source of variability and as a potential confounding variable."
   ]
  },
  {
   "cell_type": "code",
   "execution_count": null,
   "metadata": {},
   "outputs": [],
   "source": []
  },
  {
   "cell_type": "code",
   "execution_count": null,
   "metadata": {},
   "outputs": [],
   "source": []
  },
  {
   "cell_type": "markdown",
   "metadata": {},
   "source": [
    "# Categorical analysis"
   ]
  },
  {
   "cell_type": "code",
   "execution_count": null,
   "metadata": {},
   "outputs": [],
   "source": []
  }
 ],
 "metadata": {
  "kernelspec": {
   "display_name": "Python [conda env:anaconda3]",
   "language": "python",
   "name": "conda-env-anaconda3-py"
  },
  "language_info": {
   "codemirror_mode": {
    "name": "ipython",
    "version": 3
   },
   "file_extension": ".py",
   "mimetype": "text/x-python",
   "name": "python",
   "nbconvert_exporter": "python",
   "pygments_lexer": "ipython3",
   "version": "3.6.5"
  },
  "toc": {
   "base_numbering": 1,
   "nav_menu": {},
   "number_sections": true,
   "sideBar": true,
   "skip_h1_title": false,
   "title_cell": "Table of Contents",
   "title_sidebar": "Contents",
   "toc_cell": false,
   "toc_position": {
    "height": "calc(100% - 180px)",
    "left": "10px",
    "top": "150px",
    "width": "381px"
   },
   "toc_section_display": true,
   "toc_window_display": false
  }
 },
 "nbformat": 4,
 "nbformat_minor": 2
}
