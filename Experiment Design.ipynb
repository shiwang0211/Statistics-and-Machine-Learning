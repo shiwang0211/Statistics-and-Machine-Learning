{
 "cells": [
  {
   "cell_type": "markdown",
   "metadata": {},
   "source": [
    "# Paired sample t-test"
   ]
  },
  {
   "cell_type": "markdown",
   "metadata": {},
   "source": [
    "##  Theory"
   ]
  },
  {
   "cell_type": "markdown",
   "metadata": {},
   "source": [
    "- $X_i$ and $Y_i$ are paired, and correlated\n",
    "    - $Cov(X_i, Y_i) = \\sigma_{XY}$\n",
    "    \n",
    "    \n",
    "- Independece across pair: \n",
    "    - $E(X_i - Y_i) = E(\\bar X - \\bar Y) = \\mu_X - \\mu_Y$\n",
    "    - $Var(\\bar X - \\bar Y) = \\frac{1}{N}[\\sigma^2_X+\\sigma^2_Y - 2 \\rho\\sigma_X \\sigma_Y]$, where $\\rho$ is correlation coefficient between $X$ and $Y$.\n",
    "\n",
    "\n",
    "- Normal assumption:\n",
    "    - $D = X-Y \\sim N(.,.)$\n",
    "    - $\\bar D \\sim N(.,.)$\n",
    "\n",
    "\n",
    "- Under big sample size:\n",
    "    - $D = X-Y$ doens'y have to be normal\n",
    "    - $\\bar D \\xrightarrow{N\\to\\infty} N(.,.)$\n",
    "\n",
    "\n",
    "- Test Statistic (Actually for **one-sample t-test**):\n",
    "    - $$t = \\frac{\\bar D - \\mu_D}{s_{\\bar D}} \\sim t\\ (df=N-1)$$\n",
    "    </br>\n",
    "    - $${s_{\\bar D}} = \\frac{s_D}{\\sqrt{N}} = \\frac{\\sqrt{\\frac{1}{N-1}\\sum(D_i-\\bar D)^2}}{\\sqrt{N}}$$"
   ]
  },
  {
   "cell_type": "markdown",
   "metadata": {},
   "source": [
    "**Comparison with independent sample t-test**\n",
    "- When $\\sigma_X = \\sigma_Y$:\n",
    "    - *Independent*: $Var(\\bar X - \\bar Y) = 2\\sigma^2/N$\n",
    "    - *Paired*:  $Var(\\bar X - \\bar Y) = 2\\sigma^2(1-\\rho)/N$"
   ]
  },
  {
   "cell_type": "markdown",
   "metadata": {},
   "source": [
    "**Non-parametric methods**\n",
    "- Signed rank test\n",
    "- Assumption: half positive and half negative for the sign of differences between pairs\n",
    "- Robust to outliers\n",
    "- No need for normal assumptions\n",
    "- Good for small sample size\n"
   ]
  },
  {
   "cell_type": "markdown",
   "metadata": {},
   "source": [
    "## Numerical Example"
   ]
  },
  {
   "cell_type": "code",
   "execution_count": 2,
   "metadata": {},
   "outputs": [],
   "source": [
    "import numpy as np"
   ]
  },
  {
   "cell_type": "code",
   "execution_count": 3,
   "metadata": {},
   "outputs": [],
   "source": [
    "D = [2,4,10,12,16,15,4,27,9,-1,15]\n",
    "N = len(D)"
   ]
  },
  {
   "cell_type": "code",
   "execution_count": 4,
   "metadata": {},
   "outputs": [
    {
     "data": {
      "text/plain": [
       "10.272727272727273"
      ]
     },
     "execution_count": 4,
     "metadata": {},
     "output_type": "execute_result"
    }
   ],
   "source": [
    "D_bar = np.mean(D)\n",
    "D_bar"
   ]
  },
  {
   "cell_type": "code",
   "execution_count": 5,
   "metadata": {},
   "outputs": [
    {
     "data": {
      "text/plain": [
       "7.976100664998018"
      ]
     },
     "execution_count": 5,
     "metadata": {},
     "output_type": "execute_result"
    }
   ],
   "source": [
    "s_D = np.std(D, ddof=1)\n",
    "s_D"
   ]
  },
  {
   "cell_type": "code",
   "execution_count": 6,
   "metadata": {},
   "outputs": [
    {
     "data": {
      "text/plain": [
       "2.404884835991147"
      ]
     },
     "execution_count": 6,
     "metadata": {},
     "output_type": "execute_result"
    }
   ],
   "source": [
    "s_D_bar = s_D / np.sqrt(N)\n",
    "s_D_bar"
   ]
  },
  {
   "cell_type": "code",
   "execution_count": 7,
   "metadata": {},
   "outputs": [
    {
     "data": {
      "text/plain": [
       "4.271608818429545"
      ]
     },
     "execution_count": 7,
     "metadata": {},
     "output_type": "execute_result"
    }
   ],
   "source": [
    "T = D_bar / s_D_bar\n",
    "T"
   ]
  },
  {
   "cell_type": "code",
   "execution_count": 8,
   "metadata": {},
   "outputs": [
    {
     "data": {
      "text/plain": [
       "0.001632849921999746"
      ]
     },
     "execution_count": 8,
     "metadata": {},
     "output_type": "execute_result"
    }
   ],
   "source": [
    "from scipy.stats import t\n",
    "p = 1 - (t.cdf(T, df = N-1)-0.5) * 2\n",
    "p"
   ]
  },
  {
   "cell_type": "markdown",
   "metadata": {},
   "source": [
    "**Conclusion:** $p$ < 0.05, there is significance difference"
   ]
  },
  {
   "cell_type": "markdown",
   "metadata": {},
   "source": [
    "# ANOVA test"
   ]
  },
  {
   "cell_type": "markdown",
   "metadata": {},
   "source": [
    "## Theory"
   ]
  },
  {
   "cell_type": "markdown",
   "metadata": {},
   "source": [
    "**Assumption**:\n",
    "$$Y_{ij} = \\mu + \\alpha_i + e_{ij}, i^{th}\\ treatment,\\  j^{th} observation$$\n",
    "\n",
    "- $e_{ij} \\sim N(0, \\sigma^2)$,  iid\n",
    "- Constraint: $\\sum \\alpha_i=0$\n",
    "- $H_0: \\alpha_i=0$ for each $i$\n",
    "\n",
    "\n",
    "- Break the errors:\n",
    "    - $SS_W = \\sum_i\\sum_j(Y_{ij}-\\bar Y_{i.})^2$\n",
    "    - $SS_B = J \\sum_i(\\bar Y_{..}-\\bar Y_{i.})^2$\n",
    "\n",
    "\n",
    "- Under normal distribution:\n",
    "    $$SS_W/\\sigma^2 \\sim \\chi^2[I(J-1)]$$\n",
    "\n",
    "\n",
    "- Under $H_0$:\n",
    "    $$SS_B/\\sigma^2 \\sim \\chi^2(I-1)$$\n",
    "\n",
    "\n",
    "- When two $\\chi$ samples are **independent**\n",
    "$$\\frac{\\chi^2_a/a}{\\chi^2_b/b} \\sim F(a,b)$$\n",
    "\n",
    "    \n",
    "- Under normal distribution and $H_0$\n",
    "$$F = \\frac{SS_B/(I-1)}{SS_W/[I(J-1)]} \\sim F[I-1, I(J-1)]$$\n",
    "$$$$\n",
    "     - Under $H_0$, $E(numerator) = E(denominator) = \\sigma^2$, so F should be close to 1\n",
    "     - Under $H_1$, when some $\\alpha_i>0$, $E(numerator) >\\sigma^2$, so F should be larger than 1 \n"
   ]
  },
  {
   "cell_type": "markdown",
   "metadata": {},
   "source": [
    "<img src=\"https://ecstep.com/wp-content/uploads/2017/12/F-distribution-2.png\" width=\"400\">"
   ]
  },
  {
   "cell_type": "markdown",
   "metadata": {},
   "source": [
    "**Violation of assumptions**:\n",
    "- Independence: should not be violated\n",
    "- Normality: still valid if non-normal and large sample\n",
    "- Non-constant variance: still valid with equal sample size across groups"
   ]
  },
  {
   "cell_type": "markdown",
   "metadata": {},
   "source": [
    "**Another perspective of looking at ANOVA**:\n",
    "- F-test for a set of parametrs between complicated model and a reduced/simple model"
   ]
  },
  {
   "cell_type": "markdown",
   "metadata": {},
   "source": [
    "**Example**\n",
    "<img src=\"./fig/anova.png\" width=\"800\">"
   ]
  },
  {
   "cell_type": "markdown",
   "metadata": {},
   "source": [
    "## Multiple Comparison"
   ]
  },
  {
   "cell_type": "markdown",
   "metadata": {},
   "source": [
    "- Goal: control Type-I error\n",
    "\n",
    "\n",
    "**How to define combined error rate**\n",
    "- $H_0 = H_{01} \\cap H_{02} ... \\cap H_{0K}$\n",
    "- Option1: Experiment/Family-Wise Error \n",
    "    - Reject one or more of $H_{0i}$ while all $H_{0i}$ are true\n",
    "    \n",
    "    \n",
    "- Option 2: False Discovery Rate (FDR)\n",
    "    - $\\frac{Number\\ of\\ Type-I\\ error}{Number\\ of\\ Rejecting\\ H_0}$\n",
    "    - e.g., a 0.05 FDR means that we allow one incorrect **Rejection** with 19 correct **Rejections**\n",
    "    - If $H_0$ is true, then all discoveries are false"
   ]
  },
  {
   "cell_type": "markdown",
   "metadata": {},
   "source": [
    "**Bonferroni Correction**\n",
    "- Instead of $t_{df}(\\alpha)$, use $t_{df}(\\frac{\\alpha}{M})$\n",
    "    - $M$ is number of comparisons\n",
    "    - Controls family-wise error at $\\alpha$\n",
    "\n",
    "\n",
    "- Completely general: it applies to any set of c inferences, not only to multiple comparisons following ANOVA\n",
    "    - Feature - Different features of a product\n",
    "    - Drug - Different symptoms of a disease\n",
    "\n",
    "\n",
    "- \"The Bonferroni method would require p-values to be smaller than .05/100000 to declare significance. Since adjacent voxels tend to be highly correlated, this threshold is generally too stringent.\""
   ]
  },
  {
   "cell_type": "markdown",
   "metadata": {},
   "source": [
    "**Protected LSD (Least Significant Difference) for multiple comparisons**\n",
    "- Use ANOVA F-test first\n",
    "- User t-test as usual for multiple comparisons for **a few** planned comparisons"
   ]
  },
  {
   "cell_type": "markdown",
   "metadata": {},
   "source": [
    "**Tukey’s (“honestly significant difference” or “HSD”) for multiple comparisons**\n",
    "- Specifically for multiple comparisons after ANOVA test\n",
    "- Between the largest and smallest sample means\n",
    "    - $g$ is number of groups\n",
    "    - $v$ is degrees of freedom for error\n",
    "\n",
    "\n",
    "- Test statistic\n",
    "$$Q = max_i \\frac{\\bar y_{i.}}{\\sqrt{MS_E/n}} - min_j \\frac{\\bar y_{j.}}{\\sqrt{MS_E/n}} \\sim q(g, v)$$\n",
    "\n",
    "- When sample size is different:<img src=\"https://wikimedia.org/api/rest_v1/media/math/render/svg/9d01f8ffa3951483d2acdc9a9b715377901bebdf\" width=\"300\">\n",
    "- When sample size is same:\n",
    "$$\\bar y_{i.} - \\bar y_{j.} \\pm \\frac {q(\\alpha, k, N-k)}{\\sqrt{2}} \\hat \\sigma_{\\epsilon} \\sqrt{\\frac{1}{n} +\\frac{1}{n}}$$\n",
    "\n",
    "- Compare with Bonferroni\n",
    "$$\\bar y_{i.} - \\bar y_{j.} \\pm t_{(\\alpha/2K,v)}  \\hat \\sigma_{\\epsilon} \\sqrt{\\frac{1}{n} +\\frac{1}{n}}$$"
   ]
  },
  {
   "cell_type": "markdown",
   "metadata": {},
   "source": [
    "**To be added**\n",
    "- http://www2.hawaii.edu/~taylor/z631/multcomp.pdf\n",
    "- http://www.stat.cmu.edu/~genovese/talks/hannover1-04.pdf\n",
    "- http://personal.psu.edu/abs12//stat460/Lecture/lec10.pdf"
   ]
  },
  {
   "cell_type": "markdown",
   "metadata": {},
   "source": [
    "## Two-factor ANOVA"
   ]
  },
  {
   "cell_type": "markdown",
   "metadata": {},
   "source": [
    "**Assumnption**\n",
    "$$Y_{ijk} = \\mu + \\alpha_i + \\beta_j + \\delta_{ij} + e_{ijk}$$\n",
    "**Error break**\n",
    "$$SS=SS_A+SS_B+SS_{AB}+SS_E$$\n",
    "**Four $\\chi$ Distributions**\n",
    "$$SS_A/\\sigma^2 \\sim \\chi^2(I-1)$$\n",
    "$$SS_B/\\sigma^2 \\sim \\chi^2(J-1)$$\n",
    "$$SS_{AB}/\\sigma^2 \\sim \\chi^2[(I-1)(J-1)]$$\n",
    "**Three F-statistics**\n",
    "    $$F=\\frac{MS_?}{MS_E} = \\frac{{SS}_?/{df}_?}{SS_E/[IJ(K-1)]} \\sim F[df_?, IJ(K-1)]$$"
   ]
  },
  {
   "cell_type": "markdown",
   "metadata": {},
   "source": [
    "---\n",
    "<img src =\"./fig/anova_2_table.png\" width=\"400\">"
   ]
  },
  {
   "cell_type": "markdown",
   "metadata": {},
   "source": [
    "# Experiment Design"
   ]
  },
  {
   "cell_type": "markdown",
   "metadata": {},
   "source": [
    "\n",
    "## Examples of confounding\n",
    "- Effect of ***Gender*** in College Admission confounded by ***Major***: women apply for hard majors\n",
    "- Effect of ***Coffee Drinking*** on coronary diseases confounded by **Smoking**: coffee drinkers smoke more\n",
    "- **Randomization**: mitigate the impact of confounding factors so that they are *same* in both groups\n"
   ]
  },
  {
   "cell_type": "markdown",
   "metadata": {},
   "source": [
    "## Completely Randomized Design (CRD)"
   ]
  },
  {
   "cell_type": "markdown",
   "metadata": {},
   "source": [
    "- For each experiment $i$, randomly assign a treatment with equal probability\n",
    "- Example: one-wayANOVA\n"
   ]
  },
  {
   "cell_type": "markdown",
   "metadata": {},
   "source": [
    "## Randomized Completedly Block Design (RCB)\n",
    "- Goal: higher power by decreasing error variance\n",
    "- Note: Blocks exist ***at the time of the randomization of treatments to units***. You ***cannot*** determine the design used in an experiment just by looking at a table of results, you have to know the randomization.\n",
    "\n",
    "$$y_{ij} = \\mu + \\alpha_i + \\beta_j + \\epsilon_{ij}$$\n",
    "\n",
    "- The **computation** of estimated effects, sums of squares, contrasts, and so on is done exactly as for a two-way factorial, but **design** is different.\n",
    "<img src=\"./fig/anova_table.png\" width=\"300\">\n",
    "\n",
    "\n",
    "- With a randomized block design, the experimenter divides subjects into subgroups called **blocks**, such that the variability within blocks is less than the variability between blocks. Then, subjects within each block are randomly assigned to treatment conditions. \n",
    "- Compared to a completely randomized design, this design reduces variability within treatment conditions and potential confounding, producing a better estimate of treatment effects.\n",
    "\n",
    "\n",
    "- ***Example***: Paired-Sample t-test, where ***person*** is the block\n",
    "- ***Example***: Fertilizer agricultural experiment, where ***field*** is the block\n",
    "- ***Spatial and Temporal Blocking***\n",
    "\n",
    "The table below shows a randomized block design for a hypothetical medical experiment.\n",
    "\n",
    "|Gender\t||Treatment|\n",
    "|::|::|::|\n",
    "||Placebo\t|Vaccine|\n",
    "|Male\t|250\t|250|\n",
    "|Female\t|250\t|250|\n",
    "Subjects are assigned to blocks, based on gender. Then, within each block, subjects are randomly assigned to treatments (either a placebo or a cold vaccine). For this design, 250 men get the placebo, 250 men get the vaccine, 250 women get the placebo, and 250 women get the vaccine.\n",
    "\n",
    "It is known that men and women are physiologically different and react differently to medication. This design ensures that each treatment condition has an equal proportion of men and women. As a result, differences between treatment conditions cannot be attributed to gender. This randomized block design removes gender as a potential source of variability and as a potential confounding variable."
   ]
  },
  {
   "cell_type": "markdown",
   "metadata": {},
   "source": [
    "# Categorical analysis"
   ]
  },
  {
   "cell_type": "markdown",
   "metadata": {},
   "source": [
    "## Chi-square test\n",
    "- Example: one dimension\n",
    "\n",
    "$$Q=\\sum_{i=1}^{k}\\frac{(Y_i - np_i)^2}{np_i} = \\sum \\frac{(Expected - Observed)^2}{Expected} \\sim \\chi^2(k-1)$$\n",
    "\n",
    "\n",
    "<img src=\"https://onlinecourses.science.psu.edu/stat414/sites/onlinecourses.science.psu.edu.stat414/files/lesson44/e14/index.gif\" width=\"400\">\n",
    "\n",
    "- ExampleL: two dimension\n",
    "    - the multi-variable distribution on $I$ changes across group $J$\n",
    "    \n",
    "$$E_{ij} = \\frac{n_{i.}n_{.j}}{n_{..}}$$\n",
    "$$df = (I-1)(J-1)$$"
   ]
  },
  {
   "cell_type": "markdown",
   "metadata": {},
   "source": [
    "- Example: Pair nomial data\n",
    "<img src=\"./fig/chi.png\" width=\"400\">\n",
    "\n",
    "- Null hypothesis:\n",
    "    - P(Negative to Positive) = P(Positive to Negative):  $p_b = p_c$\n",
    "- Alternative hypothesis:\n",
    "    - P(Negative to Positive) $\\neq$ P(Positive to Negative): $p_b \\neq p_c$\n",
    "- Test Statistic:\n",
    "    - $\\chi ^{2}={(b-c)^{2} \\over b+c}$\n",
    "- Interpretation:\n",
    "    - if b>c and significant, then Test 2 is makeing a different to change from negative to positive"
   ]
  }
 ],
 "metadata": {
  "hide_input": false,
  "kernelspec": {
   "display_name": "Python 3",
   "language": "python",
   "name": "python3"
  },
  "language_info": {
   "codemirror_mode": {
    "name": "ipython",
    "version": 3
   },
   "file_extension": ".py",
   "mimetype": "text/x-python",
   "name": "python",
   "nbconvert_exporter": "python",
   "pygments_lexer": "ipython3",
   "version": "3.7.2"
  },
  "toc": {
   "base_numbering": 1,
   "nav_menu": {},
   "number_sections": true,
   "sideBar": true,
   "skip_h1_title": false,
   "title_cell": "Table of Contents",
   "title_sidebar": "Contents",
   "toc_cell": false,
   "toc_position": {
    "height": "calc(100% - 180px)",
    "left": "10px",
    "top": "150px",
    "width": "359px"
   },
   "toc_section_display": true,
   "toc_window_display": true
  }
 },
 "nbformat": 4,
 "nbformat_minor": 2
}
