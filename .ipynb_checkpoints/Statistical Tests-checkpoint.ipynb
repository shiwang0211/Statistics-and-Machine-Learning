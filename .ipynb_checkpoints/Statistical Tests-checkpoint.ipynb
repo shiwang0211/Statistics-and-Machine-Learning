{
 "cells": [
  {
   "cell_type": "markdown",
   "metadata": {},
   "source": [
    "# Prepare Data"
   ]
  },
  {
   "cell_type": "code",
   "execution_count": 2,
   "metadata": {
    "scrolled": true
   },
   "outputs": [
    {
     "data": {
      "text/html": [
       "<table>\n",
       "<thead><tr><th></th><th scope=col>x1</th><th scope=col>x2</th><th scope=col>y</th></tr></thead>\n",
       "<tbody>\n",
       "\t<tr><th scope=row>2000-01-01 12:00:00</th><td>1        </td><td>0.0000000</td><td> 7.159145</td></tr>\n",
       "\t<tr><th scope=row>2000-02-01 12:00:00</th><td>2        </td><td>0.6931472</td><td>15.156948</td></tr>\n",
       "\t<tr><th scope=row>2000-03-01 12:00:00</th><td>3        </td><td>1.0986123</td><td>17.138957</td></tr>\n",
       "\t<tr><th scope=row>2000-04-01 12:00:00</th><td>4        </td><td>1.3862944</td><td>22.615320</td></tr>\n",
       "\t<tr><th scope=row>2000-05-01 12:00:00</th><td>5        </td><td>1.6094379</td><td>28.149193</td></tr>\n",
       "\t<tr><th scope=row>2000-06-01 12:00:00</th><td>6        </td><td>1.7917595</td><td>29.564130</td></tr>\n",
       "</tbody>\n",
       "</table>\n"
      ],
      "text/latex": [
       "\\begin{tabular}{r|lll}\n",
       "  & x1 & x2 & y\\\\\n",
       "\\hline\n",
       "\t2000-01-01 12:00:00 & 1         & 0.0000000 &  7.159145\\\\\n",
       "\t2000-02-01 12:00:00 & 2         & 0.6931472 & 15.156948\\\\\n",
       "\t2000-03-01 12:00:00 & 3         & 1.0986123 & 17.138957\\\\\n",
       "\t2000-04-01 12:00:00 & 4         & 1.3862944 & 22.615320\\\\\n",
       "\t2000-05-01 12:00:00 & 5         & 1.6094379 & 28.149193\\\\\n",
       "\t2000-06-01 12:00:00 & 6         & 1.7917595 & 29.564130\\\\\n",
       "\\end{tabular}\n"
      ],
      "text/markdown": [
       "\n",
       "| <!--/--> | x1 | x2 | y | \n",
       "|---|---|---|---|---|---|\n",
       "| 2000-01-01 12:00:00 | 1         | 0.0000000 |  7.159145 | \n",
       "| 2000-02-01 12:00:00 | 2         | 0.6931472 | 15.156948 | \n",
       "| 2000-03-01 12:00:00 | 3         | 1.0986123 | 17.138957 | \n",
       "| 2000-04-01 12:00:00 | 4         | 1.3862944 | 22.615320 | \n",
       "| 2000-05-01 12:00:00 | 5         | 1.6094379 | 28.149193 | \n",
       "| 2000-06-01 12:00:00 | 6         | 1.7917595 | 29.564130 | \n",
       "\n",
       "\n"
      ],
      "text/plain": [
       "                    x1 x2        y        \n",
       "2000-01-01 12:00:00 1  0.0000000  7.159145\n",
       "2000-02-01 12:00:00 2  0.6931472 15.156948\n",
       "2000-03-01 12:00:00 3  1.0986123 17.138957\n",
       "2000-04-01 12:00:00 4  1.3862944 22.615320\n",
       "2000-05-01 12:00:00 5  1.6094379 28.149193\n",
       "2000-06-01 12:00:00 6  1.7917595 29.564130"
      ]
     },
     "metadata": {},
     "output_type": "display_data"
    }
   ],
   "source": [
    "set.seed(5)\n",
    "N = 100\n",
    "data = data.frame(x1 = seq(1,N,1), x2 = log(seq(1, N, 1)))\n",
    "data$y = 3 * data$x1 + 4 * data$x2 + rnorm(N, 0, 1) + 5\n",
    "rownames(data) = seq(ISOdate(2000,1,1), by = \"month\", length.out = N)\n",
    "head(data)"
   ]
  },
  {
   "cell_type": "markdown",
   "metadata": {},
   "source": [
    "# Run model with `lm`"
   ]
  },
  {
   "cell_type": "code",
   "execution_count": 3,
   "metadata": {},
   "outputs": [
    {
     "data": {
      "text/plain": [
       "\n",
       "Call:\n",
       "lm(formula = \"y ~ x1 + x2 + 1\", data = data)\n",
       "\n",
       "Coefficients:\n",
       "(Intercept)           x1           x2  \n",
       "      4.758        2.996        4.126  \n"
      ]
     },
     "metadata": {},
     "output_type": "display_data"
    }
   ],
   "source": [
    "model = lm(\"y ~ x1 + x2 + 1\", data)\n",
    "model"
   ]
  },
  {
   "cell_type": "markdown",
   "metadata": {},
   "source": [
    "# Likelihood Test"
   ]
  },
  {
   "cell_type": "markdown",
   "metadata": {},
   "source": [
    "- Used for testing **nested** model\n",
    "    - Null model: all p = 0 except intercept\n",
    "    - Alternative model: OLS\n",
    "    \n",
    "    \n",
    "- Assume normal distribution of error term: $L(\\theta) = (\\frac{1}{\\sqrt{2\\pi\\sigma^2}})^N exp(-\\frac{1}{2\\sigma^2}R)$\n",
    "     * $where\\ R= \\sum_{i=1}^{N}\\hat e^2_i $\n",
    "     * $\\sigma$ unknown, $ \\hat {\\sigma}^2 = R / N$\n",
    " \n",
    " \n",
    "- So, $L(\\theta) = (\\frac{1}{\\sqrt{2\\pi\\sigma^2}})^N exp(-\\frac{N}{2})$\n",
    "\n",
    "- So, $Log(L(\\theta)) = -\\frac{N}{2} [log(2\\pi + ln(R) + 1)]$\n",
    "\n",
    "\n",
    "- Likelihood Ratio (LR) = $\\Lambda = 2 ln (L_U / L_R) = 2[ln(L_U) - ln(L_R)] = 2ln(\\frac{\\sigma^2_1}{\\sigma^2_0})^{-N/2}= 2ln(\\frac{R_U}{R_R})^{-N/2} $\n",
    "\n",
    "- $\\Lambda$ ~ $\\chi_p$. If $\\Lambda$ > threshold, then alternative model is better by adding complexity"
   ]
  },
  {
   "cell_type": "code",
   "execution_count": 74,
   "metadata": {},
   "outputs": [
    {
     "data": {
      "text/html": [
       "808675.150518816"
      ],
      "text/latex": [
       "808675.150518816"
      ],
      "text/markdown": [
       "808675.150518816"
      ],
      "text/plain": [
       "[1] 808675.2"
      ]
     },
     "metadata": {},
     "output_type": "display_data"
    }
   ],
   "source": [
    "# Restricted, estimated value is just avg(y)\n",
    "R_0 = sum((data$y - mean(data$y))^2)\n",
    "R_0"
   ]
  },
  {
   "cell_type": "code",
   "execution_count": 75,
   "metadata": {},
   "outputs": [
    {
     "data": {
      "text/html": [
       "88.1948161842128"
      ],
      "text/latex": [
       "88.1948161842128"
      ],
      "text/markdown": [
       "88.1948161842128"
      ],
      "text/plain": [
       "[1] 88.19482"
      ]
     },
     "metadata": {},
     "output_type": "display_data"
    }
   ],
   "source": [
    "# UnRestricted model with fitted parameters\n",
    "R_1 = sum(model$residuals^2)\n",
    "R_1 "
   ]
  },
  {
   "cell_type": "code",
   "execution_count": 76,
   "metadata": {},
   "outputs": [
    {
     "data": {
      "text/html": [
       "912.360438306004"
      ],
      "text/latex": [
       "912.360438306004"
      ],
      "text/markdown": [
       "912.360438306004"
      ],
      "text/plain": [
       "[1] 912.3604"
      ]
     },
     "metadata": {},
     "output_type": "display_data"
    }
   ],
   "source": [
    "# Likelihood ratio\n",
    "LR = 2*log((R_1/R_0)^(-N/2))\n",
    "LR"
   ]
  },
  {
   "cell_type": "markdown",
   "metadata": {},
   "source": [
    "<img src = \"https://i.stack.imgur.com/PbEqv.jpg\" width = 500>"
   ]
  },
  {
   "cell_type": "code",
   "execution_count": 77,
   "metadata": {},
   "outputs": [
    {
     "data": {
      "text/html": [
       "7.6462425161496e-199"
      ],
      "text/latex": [
       "7.6462425161496e-199"
      ],
      "text/markdown": [
       "7.6462425161496e-199"
      ],
      "text/plain": [
       "[1] 7.646243e-199"
      ]
     },
     "metadata": {},
     "output_type": "display_data"
    }
   ],
   "source": [
    "pchisq(LR, df=2, lower.tail=FALSE)"
   ]
  },
  {
   "cell_type": "code",
   "execution_count": 82,
   "metadata": {},
   "outputs": [
    {
     "data": {
      "text/html": [
       "-135.612753414258"
      ],
      "text/latex": [
       "-135.612753414258"
      ],
      "text/markdown": [
       "-135.612753414258"
      ],
      "text/plain": [
       "[1] -135.6128"
      ]
     },
     "metadata": {},
     "output_type": "display_data"
    }
   ],
   "source": [
    "#Unrestrcited\n",
    "loglik_1 = -N/2 * (log(2*pi) +log(R_1/N)+1)\n",
    "loglik_1"
   ]
  },
  {
   "cell_type": "code",
   "execution_count": 16,
   "metadata": {},
   "outputs": [
    {
     "data": {
      "text/html": [
       "<table>\n",
       "<thead><tr><th scope=col>#Df</th><th scope=col>LogLik</th><th scope=col>Df</th><th scope=col>Chisq</th><th scope=col>Pr(&gt;Chisq)</th></tr></thead>\n",
       "<tbody>\n",
       "\t<tr><td>4            </td><td>-135.6128    </td><td>NA           </td><td>      NA     </td><td>           NA</td></tr>\n",
       "\t<tr><td>2            </td><td>-591.7930    </td><td>-2           </td><td>912.3604     </td><td>7.646243e-199</td></tr>\n",
       "</tbody>\n",
       "</table>\n"
      ],
      "text/latex": [
       "\\begin{tabular}{r|lllll}\n",
       " \\#Df & LogLik & Df & Chisq & Pr(>Chisq)\\\\\n",
       "\\hline\n",
       "\t 4             & -135.6128     & NA            &       NA      &            NA\\\\\n",
       "\t 2             & -591.7930     & -2            & 912.3604      & 7.646243e-199\\\\\n",
       "\\end{tabular}\n"
      ],
      "text/markdown": [
       "\n",
       "#Df | LogLik | Df | Chisq | Pr(>Chisq) | \n",
       "|---|---|\n",
       "| 4             | -135.6128     | NA            |       NA      |            NA | \n",
       "| 2             | -591.7930     | -2            | 912.3604      | 7.646243e-199 | \n",
       "\n",
       "\n"
      ],
      "text/plain": [
       "  #Df LogLik    Df Chisq    Pr(>Chisq)   \n",
       "1 4   -135.6128 NA       NA            NA\n",
       "2 2   -591.7930 -2 912.3604 7.646243e-199"
      ]
     },
     "metadata": {},
     "output_type": "display_data"
    }
   ],
   "source": [
    "lmtest::lrtest(model)"
   ]
  },
  {
   "cell_type": "markdown",
   "metadata": {},
   "source": [
    "# Granger Causality Test"
   ]
  },
  {
   "cell_type": "markdown",
   "metadata": {},
   "source": [
    "$y_t = c + \\sum_{i=1}^{p}\\alpha_ix_{t-i} + \\sum_{i=1}^{p}\\beta_iy_{t-i} + \\epsilon_t$"
   ]
  },
  {
   "cell_type": "markdown",
   "metadata": {},
   "source": [
    "Perform F test for the null hypothesis:\n",
    "$H_0: all\\ \\alpha_i = 0$"
   ]
  },
  {
   "cell_type": "code",
   "execution_count": 42,
   "metadata": {},
   "outputs": [],
   "source": [
    "# Create differencing series\n",
    "data$y_lag1 = c(NA, data$y[c(1:(N-1))])\n",
    "data$x1_lag1 = c(NA, data$x1[c(1:(N-1))])"
   ]
  },
  {
   "cell_type": "code",
   "execution_count": 43,
   "metadata": {},
   "outputs": [
    {
     "data": {
      "text/html": [
       "127.697807134118"
      ],
      "text/latex": [
       "127.697807134118"
      ],
      "text/markdown": [
       "127.697807134118"
      ],
      "text/plain": [
       "[1] 127.6978"
      ]
     },
     "metadata": {},
     "output_type": "display_data"
    }
   ],
   "source": [
    "# Residuals for Unrestricted Model: R_u\n",
    "model_u = lm(\"y ~ x1_lag1 + y_lag1 + 1\", data)\n",
    "R_u = sum(model_u$residuals^2)\n",
    "R_u"
   ]
  },
  {
   "cell_type": "code",
   "execution_count": 44,
   "metadata": {},
   "outputs": [
    {
     "data": {
      "text/html": [
       "177.348529101051"
      ],
      "text/latex": [
       "177.348529101051"
      ],
      "text/markdown": [
       "177.348529101051"
      ],
      "text/plain": [
       "[1] 177.3485"
      ]
     },
     "metadata": {},
     "output_type": "display_data"
    }
   ],
   "source": [
    "# Residuals for Restricted Model: R_r\n",
    "model_r = lm(\"y ~ y_lag1 + 1\", data)\n",
    "R_r = sum(model_r$residuals^2)\n",
    "R_r"
   ]
  },
  {
   "cell_type": "markdown",
   "metadata": {},
   "source": [
    "$F = \\frac{ (R_{restricted}-R_{unretricted}) / \\Delta p }{R_{unrestricted}/ (N - P - 1)} $ ~ $F_{\\Delta p, N-P-1,}$"
   ]
  },
  {
   "cell_type": "code",
   "execution_count": 47,
   "metadata": {},
   "outputs": [
    {
     "data": {
      "text/html": [
       "37.7149783451975"
      ],
      "text/latex": [
       "37.7149783451975"
      ],
      "text/markdown": [
       "37.7149783451975"
      ],
      "text/plain": [
       "[1] 37.71498"
      ]
     },
     "metadata": {},
     "output_type": "display_data"
    }
   ],
   "source": [
    "# F statistics\n",
    "F = ((R_r - R_u) / 1) / ((R_u) / (N - 2 - 1))\n",
    "F"
   ]
  },
  {
   "cell_type": "code",
   "execution_count": 48,
   "metadata": {},
   "outputs": [
    {
     "ename": "ERROR",
     "evalue": "Error in grangertest(as.formula(\"y ~ x1\"), order = 1, data = sm$model$model): could not find function \"grangertest\"\n",
     "output_type": "error",
     "traceback": [
      "Error in grangertest(as.formula(\"y ~ x1\"), order = 1, data = sm$model$model): could not find function \"grangertest\"\nTraceback:\n"
     ]
    }
   ],
   "source": [
    "grangertest(as.formula(\"y ~ x1\"), order = 1, data = sm$model$model)"
   ]
  },
  {
   "cell_type": "markdown",
   "metadata": {},
   "source": [
    "# Linearity Test (Ramsey)"
   ]
  },
  {
   "cell_type": "markdown",
   "metadata": {},
   "source": [
    "$y = \\beta x + \\gamma_2 \\hat y^2 + ... + \\gamma_k\\hat y^k + \\epsilon$\n",
    "\n",
    "Perform F test on $H_0: all\\ \\gamma_i = 0$"
   ]
  },
  {
   "cell_type": "code",
   "execution_count": 59,
   "metadata": {},
   "outputs": [],
   "source": [
    "y_hat = model$fitted.values\n",
    "data$y_2 = y_hat^2\n",
    "data$y_3 = y_hat^3\n",
    "data$y_4 = y_hat^4"
   ]
  },
  {
   "cell_type": "code",
   "execution_count": 60,
   "metadata": {},
   "outputs": [],
   "source": [
    "model_u = lm(\"y~x1+x2+y_2+y_3+y_4+1\", data) # P = 5, Delta_P = 3"
   ]
  },
  {
   "cell_type": "code",
   "execution_count": 62,
   "metadata": {},
   "outputs": [
    {
     "data": {
      "text/html": [
       "85.671236152551"
      ],
      "text/latex": [
       "85.671236152551"
      ],
      "text/markdown": [
       "85.671236152551"
      ],
      "text/plain": [
       "[1] 85.67124"
      ]
     },
     "metadata": {},
     "output_type": "display_data"
    }
   ],
   "source": [
    "#Residuals for Unrestricted Model: R_u\n",
    "R_u = sum(model_u$residuals^2)\n",
    "R_u"
   ]
  },
  {
   "cell_type": "code",
   "execution_count": 55,
   "metadata": {},
   "outputs": [
    {
     "data": {
      "text/html": [
       "88.1948161842128"
      ],
      "text/latex": [
       "88.1948161842128"
      ],
      "text/markdown": [
       "88.1948161842128"
      ],
      "text/plain": [
       "[1] 88.19482"
      ]
     },
     "metadata": {},
     "output_type": "display_data"
    }
   ],
   "source": [
    "#Residuals for Restricted Model: R_r # \n",
    "R_r = sum(model$residuals^2)\n",
    "R_r"
   ]
  },
  {
   "cell_type": "markdown",
   "metadata": {},
   "source": [
    "$F = \\frac{ (R_{restricted}-R_{unretricted}) / \\Delta p }{R_{unrestricted}/ (N - P - 1)} $ ~ $F_{\\Delta p, N-P-1,}$"
   ]
  },
  {
   "cell_type": "code",
   "execution_count": 63,
   "metadata": {},
   "outputs": [
    {
     "data": {
      "text/html": [
       "0.922972258560666"
      ],
      "text/latex": [
       "0.922972258560666"
      ],
      "text/markdown": [
       "0.922972258560666"
      ],
      "text/plain": [
       "[1] 0.9229723"
      ]
     },
     "metadata": {},
     "output_type": "display_data"
    }
   ],
   "source": [
    "# F statistics\n",
    "F = ((R_r - R_u) / 3) / ((R_u) / (N - 5 - 1))\n",
    "F"
   ]
  },
  {
   "cell_type": "markdown",
   "metadata": {},
   "source": [
    "# VIF (Variance Inflation Factor) "
   ]
  },
  {
   "cell_type": "code",
   "execution_count": 66,
   "metadata": {},
   "outputs": [],
   "source": [
    "# 1. Regress X1 on all other X\n",
    "model_vif = lm(\"x1~x2+1\", data)"
   ]
  },
  {
   "cell_type": "markdown",
   "metadata": {},
   "source": [
    "$R_2 = 1 - \\frac{\\hat e^2}{\\sum_{i}{(y_i-\\bar y)^2}}$"
   ]
  },
  {
   "cell_type": "code",
   "execution_count": 70,
   "metadata": {},
   "outputs": [
    {
     "data": {
      "text/html": [
       "0.802559598696214"
      ],
      "text/latex": [
       "0.802559598696214"
      ],
      "text/markdown": [
       "0.802559598696214"
      ],
      "text/plain": [
       "[1] 0.8025596"
      ]
     },
     "metadata": {},
     "output_type": "display_data"
    }
   ],
   "source": [
    "# 2. Calculate R^2\n",
    "R_2 = 1 - sum(model_vif$residuals^2) / sum((data$x1 - mean(data$x1))^2)\n",
    "R_2"
   ]
  },
  {
   "cell_type": "markdown",
   "metadata": {},
   "source": [
    "$VIF = \\frac{1}{1-R^2}$"
   ]
  },
  {
   "cell_type": "code",
   "execution_count": 72,
   "metadata": {},
   "outputs": [
    {
     "data": {
      "text/html": [
       "5.06481952729309"
      ],
      "text/latex": [
       "5.06481952729309"
      ],
      "text/markdown": [
       "5.06481952729309"
      ],
      "text/plain": [
       "[1] 5.06482"
      ]
     },
     "metadata": {},
     "output_type": "display_data"
    }
   ],
   "source": [
    "# 2. VIF = 1/(1-R^2)\n",
    "VIF = 1/(1-R_2)\n",
    "VIF"
   ]
  },
  {
   "cell_type": "markdown",
   "metadata": {},
   "source": [
    "# Turning Point Test"
   ]
  },
  {
   "cell_type": "code",
   "execution_count": 7,
   "metadata": {},
   "outputs": [],
   "source": [
    "e = model$residuals[2:(N-1)]\n",
    "e_prev = model$residuals[1:(N-2)]\n",
    "e_after = model$residuals[3:N]"
   ]
  },
  {
   "cell_type": "code",
   "execution_count": 24,
   "metadata": {},
   "outputs": [
    {
     "data": {
      "text/html": [
       "74"
      ],
      "text/latex": [
       "74"
      ],
      "text/markdown": [
       "74"
      ],
      "text/plain": [
       "[1] 74"
      ]
     },
     "metadata": {},
     "output_type": "display_data"
    }
   ],
   "source": [
    "# calculate number of turning points\n",
    "num_tp = sum((e > e_prev & e > e_after) | (e < e_prev & e < e_after))\n",
    "num_tp"
   ]
  },
  {
   "cell_type": "markdown",
   "metadata": {},
   "source": [
    "<img src = \"https://wikimedia.org/api/rest_v1/media/math/render/svg/c1abc79ac72647ea2c419d6db5d3e33ba2520637\" width = 100>"
   ]
  },
  {
   "cell_type": "code",
   "execution_count": 13,
   "metadata": {},
   "outputs": [
    {
     "data": {
      "text/html": [
       "2.07436537886071"
      ],
      "text/latex": [
       "2.07436537886071"
      ],
      "text/markdown": [
       "2.07436537886071"
      ],
      "text/plain": [
       "[1] 2.074365"
      ]
     },
     "metadata": {},
     "output_type": "display_data"
    }
   ],
   "source": [
    "z = (num_tp - (2*N-4)/3)/sqrt((16*N-29)/90)\n",
    "z"
   ]
  },
  {
   "cell_type": "code",
   "execution_count": 22,
   "metadata": {},
   "outputs": [
    {
     "data": {
      "text/html": [
       "0.0380453901228328"
      ],
      "text/latex": [
       "0.0380453901228328"
      ],
      "text/markdown": [
       "0.0380453901228328"
      ],
      "text/plain": [
       "[1] 0.03804539"
      ]
     },
     "metadata": {},
     "output_type": "display_data"
    }
   ],
   "source": [
    "p = 2*(1- pnorm(z)) #two-tailed\n",
    "p"
   ]
  },
  {
   "cell_type": "markdown",
   "metadata": {},
   "source": [
    "# Mann-Kendall Rank Tests"
   ]
  },
  {
   "cell_type": "markdown",
   "metadata": {},
   "source": [
    "- sgn(x-y) = 1 if x>y\n",
    "- sgn(x-y) = -1 if x<y\n",
    "- sgn(x-y) = 0 if x==y"
   ]
  },
  {
   "cell_type": "markdown",
   "metadata": {},
   "source": [
    "$S = \\sum_i \\sum_{j>i} sgn(x_j-x_i)$"
   ]
  },
  {
   "cell_type": "code",
   "execution_count": 35,
   "metadata": {},
   "outputs": [
    {
     "data": {
      "text/html": [
       "142"
      ],
      "text/latex": [
       "142"
      ],
      "text/markdown": [
       "142"
      ],
      "text/plain": [
       "[1] 142"
      ]
     },
     "metadata": {},
     "output_type": "display_data"
    }
   ],
   "source": [
    "sum_sgn = 0\n",
    "for (index in c(1:c(N-1))){ # index from 1 to N-1\n",
    "   sum_sgn = sum_sgn + \n",
    "      sum(model$residuals[c((index+1):N)] > model$residuals[index]) -  # from (index + 1) to N\n",
    "      sum(model$residuals[c((index+1):N)] < model$residuals[index])    # from (index + 1) to N\n",
    "}\n",
    "sum_sgn"
   ]
  },
  {
   "cell_type": "markdown",
   "metadata": {},
   "source": [
    "$VAR(S) = 1/18[n(n-1)(2n+5)]$"
   ]
  },
  {
   "cell_type": "code",
   "execution_count": 37,
   "metadata": {},
   "outputs": [
    {
     "data": {
      "text/html": [
       "112750"
      ],
      "text/latex": [
       "112750"
      ],
      "text/markdown": [
       "112750"
      ],
      "text/plain": [
       "[1] 112750"
      ]
     },
     "metadata": {},
     "output_type": "display_data"
    }
   ],
   "source": [
    "var_s = 1/18*N*(N-1)*(2*N+5)\n",
    "var_s "
   ]
  },
  {
   "cell_type": "markdown",
   "metadata": {},
   "source": [
    "$Z = \\frac{S-1}{\\sqrt {var(S)}}$"
   ]
  },
  {
   "cell_type": "code",
   "execution_count": 39,
   "metadata": {},
   "outputs": [
    {
     "data": {
      "text/html": [
       "0.419914467058749"
      ],
      "text/latex": [
       "0.419914467058749"
      ],
      "text/markdown": [
       "0.419914467058749"
      ],
      "text/plain": [
       "[1] 0.4199145"
      ]
     },
     "metadata": {},
     "output_type": "display_data"
    }
   ],
   "source": [
    "Z = (sum_sgn - 1)/sqrt(var_s)\n",
    "Z"
   ]
  },
  {
   "cell_type": "code",
   "execution_count": 40,
   "metadata": {},
   "outputs": [
    {
     "data": {
      "text/html": [
       "0.674547938800206"
      ],
      "text/latex": [
       "0.674547938800206"
      ],
      "text/markdown": [
       "0.674547938800206"
      ],
      "text/plain": [
       "[1] 0.6745479"
      ]
     },
     "metadata": {},
     "output_type": "display_data"
    }
   ],
   "source": [
    "2 * (1 - pnorm(abs(Z), 0, 1))"
   ]
  },
  {
   "cell_type": "markdown",
   "metadata": {},
   "source": [
    "# Cochrane-Orcutt Method (Yule-Walker Method)"
   ]
  },
  {
   "cell_type": "markdown",
   "metadata": {},
   "source": [
    "\n",
    "* OLS: $\\hat{\\epsilon_t} = y_t - \\hat{\\alpha} - \\hat{\\beta} * x_t$\n",
    "* OLS: $\\hat{\\epsilon_t} = \\rho \\hat{\\epsilon_{t-1}} + \\omega_t,\\ solve\\ for\\ \\hat{\\rho}$\n",
    "* Re-formulate: $y_t^* = t_t - \\rho y_{t-1} = \\alpha(1-\\hat{\\rho}) + \\beta* x_t^* + \\omega_t,\\ solve\\ for\\ \\hat{\\alpha}, \\hat{\\beta} $\n",
    "* Where $ y_t^* = t_t - \\hat\\rho y_{t-1}$\n",
    "* Re-iterate until convergence\n",
    "\n",
    "    "
   ]
  },
  {
   "cell_type": "code",
   "execution_count": 51,
   "metadata": {},
   "outputs": [
    {
     "data": {
      "text/plain": [
       "\n",
       "Call:\n",
       "lm(formula = \"e~.\", data = e_data)\n",
       "\n",
       "Residuals:\n",
       "    Min      1Q  Median      3Q     Max \n",
       "-2.1998 -0.6592 -0.1084  0.7271  2.4306 \n",
       "\n",
       "Coefficients:\n",
       "            Estimate Std. Error t value Pr(>|t|)\n",
       "(Intercept) 0.005993   0.095389   0.063    0.950\n",
       "e_lag       0.072111   0.101064   0.714    0.477\n",
       "\n",
       "Residual standard error: 0.9491 on 97 degrees of freedom\n",
       "Multiple R-squared:  0.005221,\tAdjusted R-squared:  -0.005034 \n",
       "F-statistic: 0.5091 on 1 and 97 DF,  p-value: 0.4772\n"
      ]
     },
     "metadata": {},
     "output_type": "display_data"
    }
   ],
   "source": [
    "e = model$residuals[c(2:N)]\n",
    "e_lag = model$residuals[c(1:(N-1))]\n",
    "e_data = data.frame(e=e, e_lag=e_lag)\n",
    "error_model = lm(\"e~.\", data=e_data)\n",
    "summary(error_model)"
   ]
  },
  {
   "cell_type": "code",
   "execution_count": 52,
   "metadata": {},
   "outputs": [
    {
     "data": {
      "text/html": [
       "<strong>e_lag:</strong> 0.0721113806208257"
      ],
      "text/latex": [
       "\\textbf{e\\textbackslash{}\\_lag:} 0.0721113806208257"
      ],
      "text/markdown": [
       "**e_lag:** 0.0721113806208257"
      ],
      "text/plain": [
       "     e_lag \n",
       "0.07211138 "
      ]
     },
     "metadata": {},
     "output_type": "display_data"
    }
   ],
   "source": [
    "rho= error_model$coefficients[2]\n",
    "rho"
   ]
  },
  {
   "cell_type": "code",
   "execution_count": 53,
   "metadata": {},
   "outputs": [],
   "source": [
    "y = data$y[c(2:N)] - rho * data$y[c(1:(N-1))] \n",
    "x1 = data$x1[c(2:N)] - rho * data$x1[c(1:(N-1))] \n",
    "x2 = data$x2[c(2:N)] - rho * data$x2[c(1:(N-1))] \n",
    "new_data = data.frame(y=y,x1=x1,x2=x2)"
   ]
  },
  {
   "cell_type": "code",
   "execution_count": 55,
   "metadata": {},
   "outputs": [
    {
     "data": {
      "text/plain": [
       "\n",
       "Call:\n",
       "lm(formula = \"y~.\", data = new_data)\n",
       "\n",
       "Residuals:\n",
       "     Min       1Q   Median       3Q      Max \n",
       "-2.19880 -0.66310 -0.08944  0.74977  2.42201 \n",
       "\n",
       "Coefficients:\n",
       "            Estimate Std. Error t value Pr(>|t|)    \n",
       "(Intercept) 4.706244   0.676482   6.957 4.25e-10 ***\n",
       "x1          2.999333   0.009027 332.280  < 2e-16 ***\n",
       "x2          4.000856   0.304599  13.135  < 2e-16 ***\n",
       "---\n",
       "Signif. codes:  0 ‘***’ 0.001 ‘**’ 0.01 ‘*’ 0.05 ‘.’ 0.1 ‘ ’ 1\n",
       "\n",
       "Residual standard error: 0.9531 on 96 degrees of freedom\n",
       "Multiple R-squared:  0.9999,\tAdjusted R-squared:  0.9999 \n",
       "F-statistic: 3.702e+05 on 2 and 96 DF,  p-value: < 2.2e-16\n"
      ]
     },
     "metadata": {},
     "output_type": "display_data"
    }
   ],
   "source": [
    "new_model = lm(\"y~.\", data=new_data)\n",
    "summary(new_model)"
   ]
  },
  {
   "cell_type": "markdown",
   "metadata": {},
   "source": [
    "<img src = \"http://slideplayer.com/8016538/25/images/20/Negative+Binomial+Regression.jpg\" width = 300>"
   ]
  },
  {
   "cell_type": "code",
   "execution_count": null,
   "metadata": {},
   "outputs": [],
   "source": []
  }
 ],
 "metadata": {
  "kernelspec": {
   "display_name": "R",
   "language": "R",
   "name": "ir"
  },
  "language_info": {
   "codemirror_mode": "r",
   "file_extension": ".r",
   "mimetype": "text/x-r-source",
   "name": "R",
   "pygments_lexer": "r",
   "version": "3.4.3"
  },
  "toc": {
   "base_numbering": 1,
   "nav_menu": {},
   "number_sections": true,
   "sideBar": true,
   "skip_h1_title": false,
   "title_cell": "Table of Contents",
   "title_sidebar": "Contents",
   "toc_cell": false,
   "toc_position": {},
   "toc_section_display": true,
   "toc_window_display": true
  }
 },
 "nbformat": 4,
 "nbformat_minor": 2
}
