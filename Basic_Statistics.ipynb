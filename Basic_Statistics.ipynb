{
 "cells": [
  {
   "cell_type": "markdown",
   "metadata": {},
   "source": [
    "# Variane\n",
    "- $Var(X) = E(X^2) - [E(X)]^2 = [E(X-E(X))]^2$\n",
    "- $Var(aX) = a^2Var(X)$\n",
    "\n",
    "# Covariance\n",
    "- $Cov(X,Y) = E(XY) - E(X)E(Y) = E[X-E(X)][(Y-E(Y)]$\n",
    "- $Cov(X,Y) = Cov(Y,X)$\n",
    "- $Cov(X,X) = Var(X)$\n",
    "- $Cov(aX Y) = aCov(X,Y)$\n",
    "- $Cov(X_1 + X_2, Y) = Cov(X_1, Y) + Cov (X_2, Y)$\n",
    "- $Var(X+Y) = Var(X) + Var(Y) + 2Cov(X,Y)$\n",
    "\n",
    "# Correlation\n",
    "- $\\rho(X,Y) = \\frac{Cov(X,Y)}{\\sqrt{Var(X)}\\sqrt{Var(Y)}}$\n",
    "- $\\rho=0$ only indicates no **linear** relationship\n",
    "\n",
    "# Indendency\n",
    "- $E(XY) = E(X)E(Y)$ \n",
    "- $Var(X+Y) = Var(X) + Var(Y)$\n",
    "- $Cov(X,Y) = \\rho(X,Y) = 0$"
   ]
  },
  {
   "cell_type": "markdown",
   "metadata": {},
   "source": [
    "# P value\n",
    "\"In statistical hypothesis testing, the p-value or probability value or asymptotic significance is the probability for a given statistical model that, when the null hypothesis is true, the statistical summary would be greater or equal to the actual observed results.\"\n",
    "<img src=\"https://slideplayer.com/slide/9237329/27/images/60/p-Value+Solution+Calculate+the+p-value+and+compare+to+%EF%81%A1.jpg\" width=\"600\">"
   ]
  },
  {
   "cell_type": "markdown",
   "metadata": {},
   "source": [
    "# Linear regression\n",
    "- Unbiased estimator of $\\beta_1$:\n",
    "$$\\hat \\beta_1=\\dfrac{\\sum\\limits_{i=1}^n (x_i-\\bar{x})(y_i-\\bar{y})}{\\sum\\limits_{i=1}^n (x_i-\\bar{x})^2}$$\n",
    "\n",
    "\n",
    "- Unbiased estimator of $\\sigma^2$:\n",
    "$$\\hat \\sigma^2=\\frac{\\sum e^2}{N-k}$$ \n",
    "\n",
    "\n",
    "- Parameter Test\n",
    "$$Z = \\frac{\\hat \\beta_1 - 0}{\\sigma_{\\beta_1}} \\sim N(0,1)$$\n",
    "$$T = \\frac{\\hat \\beta_1 - 0}{SE(\\hat \\beta_1)} \\sim t\\ (N-k)$$\n",
    "$$SE(\\hat \\beta_1) = \\sqrt{\\hat \\sigma^2\\ /\\sum{(x-\\bar x)^2}}$$\n",
    "\n"
   ]
  },
  {
   "cell_type": "markdown",
   "metadata": {},
   "source": [
    "# Chi-square test\n",
    "$$Q=\\sum_{i=1}^{k}\\frac{(Y_i - np_i)^2}{np_i} = \\sum \\frac{(Expected - Observed)^2}{Expected} \\sim \\chi^2(k-1)$$\n",
    "\n",
    "<img src=\"https://onlinecourses.science.psu.edu/stat414/sites/onlinecourses.science.psu.edu.stat414/files/lesson44/e14/index.gif\" width=\"400\">"
   ]
  }
 ],
 "metadata": {
  "kernelspec": {
   "display_name": "Python [conda env:anaconda3]",
   "language": "python",
   "name": "conda-env-anaconda3-py"
  },
  "language_info": {
   "codemirror_mode": {
    "name": "ipython",
    "version": 3
   },
   "file_extension": ".py",
   "mimetype": "text/x-python",
   "name": "python",
   "nbconvert_exporter": "python",
   "pygments_lexer": "ipython3",
   "version": "3.6.5"
  },
  "toc": {
   "base_numbering": 1,
   "nav_menu": {},
   "number_sections": true,
   "sideBar": true,
   "skip_h1_title": false,
   "title_cell": "Table of Contents",
   "title_sidebar": "Contents",
   "toc_cell": false,
   "toc_position": {},
   "toc_section_display": true,
   "toc_window_display": true
  }
 },
 "nbformat": 4,
 "nbformat_minor": 2
}
